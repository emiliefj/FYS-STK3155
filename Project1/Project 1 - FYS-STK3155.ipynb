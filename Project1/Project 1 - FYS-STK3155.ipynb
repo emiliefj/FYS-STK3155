{
 "cells": [
  {
   "cell_type": "markdown",
   "metadata": {},
   "source": [
    "# Abstract"
   ]
  },
  {
   "cell_type": "markdown",
   "metadata": {},
   "source": [
    "# Introduction\n",
    "In this first project of the course we are looking at linear regression and resampling methods. The goal is to implement three methods for linear regression; Ordinary Least Squares, Ridge, and Lasso regression, and study their performance and behavior. Two types of resampling methods, namely the bootstrap and k-fold cross validation is used to better evaluate the method and to determine the optimal value for the relevent parameters.\n",
    "\n",
    "We study two types of data. First we create synthetic data using the Franke function. This data is then used to explore and verify the models. After this we move on to real data, and in this project we will look at map data from [UCSG's EarthExplorer](https://earthexplorer.usgs.gov/), more specifically elevation. We explore how the models perform on this data\n",
    "\n",
    "We will look at the performance of the models and study their biance variance trade off."
   ]
  },
  {
   "cell_type": "markdown",
   "metadata": {},
   "source": [
    "# Data\n",
    "We create synthetic data using the Franke function, as well as real digital terrain data to explore our regression models. \n",
    "## The Franke function \n",
    "The Franke function is a two dimensional weighted sum of four exponentials. It has two Gaussian peaks of different heights, and a smaller dip and is often used as a test function in interpolation problems.\n",
    "\n",
    "The function is defined as"
   ]
  },
  {
   "cell_type": "markdown",
   "metadata": {},
   "source": [
    "$$\n",
    "\\begin{align*}\n",
    "f(x,y) &= \\frac{3}{4}\\exp{\\left(-\\frac{(9x-2)^2}{4} - \\frac{(9y-2)^2}{4}\\right)}+\\frac{3}{4}\\exp{\\left(-\\frac{(9x+1)^2}{49}- \\frac{(9y+1)}{10}\\right)} \\\\\n",
    "&+\\frac{1}{2}\\exp{\\left(-\\frac{(9x-7)^2}{4} - \\frac{(9y-3)^2}{4}\\right)} -\\frac{1}{5}\\exp{\\left(-(9x-4)^2 - (9y-7)^2\\right) }.\n",
    "\\end{align*}\n",
    "$$"
   ]
  },
  {
   "cell_type": "markdown",
   "metadata": {},
   "source": [
    "and will be defined for $x,y\\in [0,1]$. See figure (?) for a plot.\n",
    "\n",
    "I have added some noise to this function, following a normal distribution, namely $\\cal{N}(0,0.1)$."
   ]
  },
  {
   "cell_type": "markdown",
   "metadata": {},
   "source": [
    "## Real Data\n",
    "We will use topological map data as real data for trying out our regression methods. I used EarthExplorer[1] to find a suitable map of elevation and chose an area over the Teton mountain range in Wyoming, USA. The map section had the enitityId SRTM1N43W111V3. I downloaded it as a GeoTIFF file with resolution of 1 arc second. A plot of this map is shown in figure (?)"
   ]
  },
  {
   "cell_type": "markdown",
   "metadata": {},
   "source": [
    "# Methods\n",
    "I explore three different methods for linear regression, as well as two methods for resampling. The model itself will be fit using a polynomial of variable degree, built from two input variables. \n",
    "## Regression Methods\n",
    "\n",
    "### OLS\n",
    "Ordinary Least Squares Regression (OLS) fits a linear model with coefficients $\\beta_i$ to minimize the residual sum of squares between the output value (aka dependent or target variable) in the dataset, and the output as predicted by the linear approximation. With $\\boldsymbol{X}$ as a matrix of the input variables, and $\\boldsymbol{y}$ as the output or target, we approximate the target as\n",
    "\n",
    "$$\n",
    "\\boldsymbol{\\hat{y}}= \\boldsymbol{X}\\boldsymbol{\\beta},\n",
    "$$\n",
    "\n",
    "So the goal of OLS is to find the optimal $\\boldsymbol{\\hat{\\beta}}$ that minimizes the difference between the values $\\boldsymbol{\\hat{y}}$ and $\\boldsymbol{y}$. \n",
    "\n",
    "Defining the loss function to quantify  this difference, or spread, as:\n",
    "\n",
    "$$\n",
    "L(\\boldsymbol{\\beta})=\\frac{1}{n}\\sum_{i=1}^{n}\\left(y_i-\\hat{y}_i\\right)^2=\\frac{1}{n}\\left\\{\\left(\\boldsymbol{y}-\\boldsymbol{\\hat{y}}\\right)^T\\left(\\boldsymbol{y}-\\boldsymbol{\\hat{y}}\\right)\\right\\},\n",
    "$$\n",
    "\n",
    "We want to minimize this function, and by taking the derivative of $L$ with respect to the individual $\\boldsymbol{\\beta_j}$ and solving for $\\boldsymbol{\\beta}$ we find the solution \n",
    "\n",
    "$$\n",
    "\\boldsymbol{\\hat{\\beta}} =\\left(\\boldsymbol{X}^T\\boldsymbol{X}\\right)^{-1}\\boldsymbol{X}^T\\boldsymbol{y}.\n",
    "$$\n",
    "\n",
    "that can be used to calculate $\\boldsymbol{\\hat{\\beta}}$.\n",
    "\n",
    "From an new input $\\boldsymbol{X_{a}}$ we can use the found $\\boldsymbol{\\hat{\\beta}}$ to calculate an estimate or prediction for the target $\\boldsymbol{y_a}$, $\\boldsymbol{\\hat{y_a}}$.\n",
    "\n"
   ]
  },
  {
   "cell_type": "markdown",
   "metadata": {},
   "source": [
    "### Ridge regression\n",
    "Both ridge regression and the lasso are so called shrinkage methods. Named due to how they shring the contribution from selected coefficients $\\boldsymbol{\\beta}$. \n",
    "\n",
    "Ridge regression modifies OLS by putting a restriction on the size of the individual coefficients $\\boldsymbol{\\beta}$. This is particularly useful in models with many (partly correlated) input values. The coefficients are then likely to become poorly determined, with high variance.\n",
    "\n",
    "To combat this behavior ridge regression adds a penalty term to the loss function from the OLS model penalizing large beta values. The penalty is equivalent to the square of the magnitude of the coefficients. More succintly the ridge model adds L2 regularization to the OLS model.\n",
    "\n",
    "starting with the expression from the above section, \n",
    "\n",
    "$$\n",
    "L_{OLS}(\\boldsymbol{\\beta})=\\sum_{i=1}^{n}\\left(y_i-\\hat{y}_i\\right)^2=\\sum_{i=1}^{n}(y_i-\\sum_{j=1}^{p}x_{ij}\\beta_j^2)^2,\n",
    "$$\n",
    "\n",
    "a penalty term is added\n",
    "$$\n",
    "L(\\boldsymbol{\\beta})=\\sum_{i=1}^{n}(y_i-\\sum_{j=1}^{p}x_{ij}\\beta_j)^2+\\sum_{j=1}^{p}\\beta_j^2.\n",
    "$$\n",
    "\n",
    "subject to\n",
    "\n",
    "$$\n",
    "\\sum_{j=1}^{p} \\beta_j^2 \\leq t,\n",
    "$$\n",
    "\n",
    "where $t$ is a positive number.\n",
    "\n",
    "In matrix notation\n",
    "\n",
    "$$\n",
    "L(\\boldsymbol{X},\\boldsymbol{\\beta})=\\frac{1}{n}\\left\\{(\\boldsymbol{y}-\\boldsymbol{X}\\boldsymbol{\\beta})^T(\\boldsymbol{y}-\\boldsymbol{X}\\boldsymbol{\\beta})\\right\\}+\\lambda\\boldsymbol{\\beta}^T\\boldsymbol{\\beta},\n",
    "$$\n",
    "\n",
    "From which we get an expression for the coefficients, $\\boldsymbol{\\beta}^{\\texttt{ridge}}$\n",
    "\n",
    "$$\n",
    "\\boldsymbol{\\beta}^{\\texttt{ridge}} = \\left(\\boldsymbol{X}^T\\boldsymbol{X}+\\lambda\\boldsymbol{I}\\right)^{-1}\\boldsymbol{X}^T\\boldsymbol{y}\n",
    "$$\n",
    "\n",
    "\n",
    "where $\\boldsymbol{I}$ is the $\\texttt{p×p}$ identity matrix. The parameter $\\lambda$ is often called a regularization parameter or hyperparameter.\n",
    "\n",
    "We can see from this that for $\\boldsymbol{\\lambda}=0$ this model reduces to OLS. The bigger the value of $\\boldsymbol{\\lambda}$, the stricter the restriction on the size of the $\\boldsymbol{\\beta}$ values. In this way the ridge regression model can reduce model complexity, and thereby hopefully reduce overfitting. Large values of $\\lambda$ can conversely lead to underfitting.\n"
   ]
  },
  {
   "cell_type": "markdown",
   "metadata": {},
   "source": [
    "### Lasso regression\n",
    "Like ridge regression, lasso (least absolute shrinkage and selection operator) regression adds a penalty to the loss function. We say lasso performs L1 regularization by adding a penalty equivalent to the absolute value of the magnitude of the coefficients.\n",
    "\n",
    "The loss function becomes \n",
    "\n",
    "$$\n",
    "L(\\boldsymbol{\\beta})=\\sum_{i=1}^{n}(y_i-\\sum_{j=1}^{p}x_{ij}\\beta_j)^2+\\sum_{j=1}^{p}|\\beta_j|.\n",
    "$$\n",
    "\n",
    "subject to\n",
    "\n",
    "$$\n",
    "\\sum_{j=1}^{p} |\\beta_j| \\leq t,\n",
    "$$\n",
    "\n",
    "this constraint makes the solutions nonlinear in $\\boldsymbol{y}$ meaning that there is no closed form expression for the lasso, unlike in ridge regression.\n",
    "\n",
    "The coefficients $\\boldsymbol{\\hat{\\beta}^{\\texttt{lasso}}}$ are given by\n",
    "\n",
    "$$\n",
    "\\boldsymbol{\\hat{\\beta}^{\\texttt{lasso}}} = {\\displaystyle \\min_{\\boldsymbol{\\beta}}}\\bigg( \\sum_{i=1}^{n}(y_i-\\sum_{j=1}^{p}x_{ij}\\beta_j)^2+\\lambda\\sum_{j=1}^{p}|\\beta_j| \\bigg)\n",
    "$$"
   ]
  },
  {
   "cell_type": "markdown",
   "metadata": {},
   "source": [
    "## Resampling\n",
    "Resampling methods are in essence methods for efficiently using the (often limited) data available to gain insight about the data. They are among other things used to estimate the precision of sample statistics on the data and for model validation. We will be focusing on this latter application. In essenxe, resampling methods work by using the (training) data available, and repeatedly drawing samples from this set and refitting the model of interest on each sample in order to obtain additional information about this model. \n",
    "\n",
    "We have looked at two resampling methods:\n",
    "* The bootstrap method, and\n",
    "\n",
    "* k-fold cross-validation\n",
    "\n",
    "### The Bootstrap\n",
    "Bootstrapping is a method which uses resampling with replacement on the available dataset, in essence using the available data as a pdf for the data. For each sample the model is fitted using the sample, and relevand measures are calculated, for instance the mean square error. This process is repeated B times. For the standard bootstrap, a sample of $n$ data points are drawn for a dataset (training set) of size $n$.\n",
    "\n",
    "The bootstrap does not make assumptions about the underlying distribution of the data and is a quite general method.\n",
    "### k-Fold Cross Validation\n",
    "Cross validation methods are a subset of resampling methods used mainly for model validation. They work by dividing up the available data, i.e. the training set, into a number of sections or *folds*, and then fitting the model on some of the data, and using the remaining data as a test set for validation.\n",
    "\n",
    "In k-fold cross-validation the (shuffled) dataset is split into $k$ so-called folds, and $k-1$ folds are used for training or fitting the model, and the final fold is used to test the resulting model. This is repeated k times, until all of the folds have been used as test fold exactloy once. \n"
   ]
  },
  {
   "cell_type": "markdown",
   "metadata": {},
   "source": [
    "## Error measures\n",
    "The $r^2$ score, also known as the coefficient of determination, is a common measure of how well a model is able to predict outcomes. It is defined as one minus the residual sum of squares, \n",
    "\n",
    "$$\n",
    "\\text{RSS} = \\sum_{i=1}^{n}\\left(y_i-\\hat{y}_i\\right)^2\n",
    "$$ \n",
    "\n",
    "divided by the total sum of squares,\n",
    "\n",
    "$$\n",
    "\\text{TSS} = \\sum_{i=1}^{n}\\left(y_i-{y}_{mean}\\right)^2\n",
    "$$\n",
    "\n",
    "giving;\n",
    "\n",
    "$$\n",
    "r^2 = 1 - \\frac{RSS}{TSS}\n",
    "$$\n",
    "\n",
    "Here values closer to 1 are better, with $r^2=1.0$ being the optimal model. It is worth noting that $r^2$ can take negative values.\n",
    "\n",
    "The MSE is the mean of the square of the errors, or residual sum of squares:\n",
    "\n",
    "$$\n",
    "\\text{MSE} = \\frac{1}{n} \\sum_{i=1}^{n} (y-\\hat{y})^2\n",
    "$$\n",
    "\n",
    "and naturally values closer to zero are better."
   ]
  },
  {
   "cell_type": "markdown",
   "metadata": {},
   "source": [
    "## Preprocessing\n",
    "Before a data analysis can begin is important to preprosess the data we are working on. This includes removing inconsistent and corrupted values, confirming completeness of the dataset and possibly removing highly corrolated features as well as outliers. It may also include selecting certain features from the dataset to focus on to reduce dimensionality.\n",
    "\n",
    "In this project our data is either synthetic and as such well defined, or we use map data where the issues mentioned are not relevant concerns. What is most relevant in this assignment is scaling.\n",
    "### Scaling\n",
    "Many models are sensitive to the effective value range of the features or input data. There are several ways to employ scaling. One popular option is to adjust the data so each predictor has mean value equal to zero and a variance of one. Another option is to scale all the data points so each feature vector has the same euclidian lentgh. Yet another option is to scale the values to all lie between a given minimum and maximum value, typically zero and one. \n",
    "### Dividing the data set\n",
    "A crucial step when trying to use regression to create a model based on a dataset is to divide up the dataset in at least two sets. This being a training set to train the model, and a test set to test it. In addition, if the size of the data set allows, one may also add a validation set for validating and fine tuning the model before tesing it on the test set. \n",
    "\n",
    "I will be dividing the data into training and test sets, and use cross validation in place of a separate validation test. I will be using a 75%/25% split between training and test data."
   ]
  },
  {
   "cell_type": "markdown",
   "metadata": {},
   "source": [
    "## Packages and Tools\n",
    "While I have written my own code for the OLS and ridge regression models, as well as the bootstrap and kFold CV, I have used functionality from the library scikit-learn[3] for the lasso regression as well as for scaling and splitting the data set. This python library is based on numpy and and scipy, and contains a wide array of machine learning algorithms, including regression methods.\n",
    "\n",
    "Other packages I've used is numpy[4] for array handling, matplotlib.pyplot[5] for plots and visualizations, and python's random module[6] for generating (pseudo) random numbers."
   ]
  },
  {
   "cell_type": "markdown",
   "metadata": {},
   "source": [
    "# Results"
   ]
  },
  {
   "cell_type": "markdown",
   "metadata": {},
   "source": [
    "## Ordinary Least Squares\n",
    "First out is the simpler of the regression methods, ordinary least squares, or OLS. I begin by creating some synthetic data using the Franke function. Note that the $n$ in this code is the number of unique data points in the x and y direction, but as I use numpy's meshgrid when creating data the actual number of datapoints is $n\\times n$."
   ]
  },
  {
   "cell_type": "code",
   "execution_count": 4,
   "metadata": {},
   "outputs": [],
   "source": [
    "\n"
   ]
  },
  {
   "cell_type": "code",
   "execution_count": null,
   "metadata": {},
   "outputs": [],
   "source": [
    "from importlib import reload\n",
    "reload(cd)"
   ]
  },
  {
   "cell_type": "code",
   "execution_count": 37,
   "metadata": {},
   "outputs": [
    {
     "data": {
      "image/png": "[encoded data removed]",
      "text/plain": [
       "<Figure size 432x288 with 2 Axes>"
      ]
     },
     "metadata": {
      "needs_background": "light"
     },
     "output_type": "display_data"
    },
    {
     "name": "stdout",
     "output_type": "stream",
     "text": [
      "Figure 1: 3D plot of the Franke function\n"
     ]
    }
   ],
   "source": [
    "#\n",
    "# Make data and preprocess\n",
    "#\n",
    "\n",
    "import Code.CreateData as cd\n",
    "\n",
    "n = 100 # number of datapoints \n",
    "data = cd.CreateData(n,seed=8)\n",
    "data.plot_data()\n",
    "print(\"Figure 1: 3D plot of the Franke function\")"
   ]
  },
  {
   "cell_type": "markdown",
   "metadata": {},
   "source": [
    "Now I add some noise to this and see how it effects the data."
   ]
  },
  {
   "cell_type": "code",
   "execution_count": 38,
   "metadata": {},
   "outputs": [
    {
     "data": {
      "image/png": "[encoded data removed]",
      "text/plain": [
       "<Figure size 432x288 with 2 Axes>"
      ]
     },
     "metadata": {
      "needs_background": "light"
     },
     "output_type": "display_data"
    }
   ],
   "source": [
    "variance = 0.1\n",
    "data.add_normal_noise(0,variance)\n",
    "data.plot_data()"
   ]
  },
  {
   "cell_type": "markdown",
   "metadata": {},
   "source": [
    "With this data I create a design matrix for a polynomial of degree $d=5$ to start. I split the data into training and test, scale it, and then I train my OLS model on the training data."
   ]
  },
  {
   "cell_type": "code",
   "execution_count": 31,
   "metadata": {},
   "outputs": [
    {
     "data": {
      "text/plain": [
       "array([0.52318392, 0.38455936, 0.1889064 , ..., 0.11585749, 0.43133426,\n",
       "       0.25477458])"
      ]
     },
     "execution_count": 31,
     "metadata": {},
     "output_type": "execute_result"
    }
   ],
   "source": [
    "# Preprocessing data\n",
    "degree = 5\n",
    "test_fraction = 0.25\n",
    "data.create_design_matrix(degree)\n",
    "data.split_dataset(test_fraction)\n",
    "data.scale_dataset(type='standard') # Using SciKit's StandardScaler\n",
    "\n",
    "# Model\n",
    "import Code.OrdinaryLeastSquares as ols\n",
    "ols_model = ols.OrdinaryLeastSquares(seed=251)\n",
    "ols_model.fit(data.X_train,data.z_train)\n"
   ]
  },
  {
   "cell_type": "markdown",
   "metadata": {},
   "source": [
    "I can try out my new model on the test set, and as a first look at accuracy I plot the prediction against the true values. Ideally this should produce a straight line."
   ]
  },
  {
   "cell_type": "code",
   "execution_count": 44,
   "metadata": {},
   "outputs": [
    {
     "ename": "SyntaxError",
     "evalue": "invalid syntax (<ipython-input-44-9e4c6b8ec4ad>, line 1)",
     "output_type": "error",
     "traceback": [
      "\u001b[1;36m  File \u001b[1;32m\"<ipython-input-44-9e4c6b8ec4ad>\"\u001b[1;36m, line \u001b[1;32m1\u001b[0m\n\u001b[1;33m    import matplotlib.pyplot as pltz_hat = ols_model.predict(data.X_test)\u001b[0m\n\u001b[1;37m                                         ^\u001b[0m\n\u001b[1;31mSyntaxError\u001b[0m\u001b[1;31m:\u001b[0m invalid syntax\n"
     ]
    }
   ],
   "source": [
    "import matplotlib.pyplot as plt\n",
    "z_hat = ols_model.predict(data.X_test)\n",
    "\n",
    "plt.scatter(data.z_test, z_hat)\n",
    "plt.title('Prediction of z vs test values: OLS')\n",
    "plt.xlabel('$z_{test}$')\n",
    "plt.ylabel('$z_{predict}$')\n",
    "\n",
    "data.plot_data(data.X_test, data.z_test)\n",
    "data.plot_data(data.X_test, z_hat)\n",
    "\n",
    "# I can slo plot them together in the same plot\n",
    "plt.plot(np.sort(z_hat))\n",
    "plt.plot(np.sort(data.z_test),linestyle='dashed')"
   ]
  },
  {
   "cell_type": "markdown",
   "metadata": {},
   "source": [
    "I see we get close to a straight line, and there is quite a bit of spread. Let us explore the model more rigorously. "
   ]
  },
  {
   "cell_type": "code",
   "execution_count": 91,
   "metadata": {},
   "outputs": [
    {
     "name": "stdout",
     "output_type": "stream",
     "text": [
      "$R^2$ score for increasing polynomial degree and number of datapoints\n"
     ]
    },
    {
     "data": {
      "text/html": [
       "<div>\n",
       "<style scoped>\n",
       "    .dataframe tbody tr th:only-of-type {\n",
       "        vertical-align: middle;\n",
       "    }\n",
       "\n",
       "    .dataframe tbody tr th {\n",
       "        vertical-align: top;\n",
       "    }\n",
       "\n",
       "    .dataframe thead th {\n",
       "        text-align: right;\n",
       "    }\n",
       "</style>\n",
       "<table border=\"1\" class=\"dataframe\">\n",
       "  <thead>\n",
       "    <tr style=\"text-align: right;\">\n",
       "      <th></th>\n",
       "      <th>2</th>\n",
       "      <th>3</th>\n",
       "      <th>4</th>\n",
       "      <th>5</th>\n",
       "      <th>6</th>\n",
       "      <th>7</th>\n",
       "      <th>8</th>\n",
       "      <th>9</th>\n",
       "      <th>10</th>\n",
       "      <th>11</th>\n",
       "      <th>12</th>\n",
       "      <th>13</th>\n",
       "      <th>14</th>\n",
       "      <th>15</th>\n",
       "      <th>16</th>\n",
       "      <th>17</th>\n",
       "      <th>18</th>\n",
       "      <th>19</th>\n",
       "      <th>20</th>\n",
       "    </tr>\n",
       "  </thead>\n",
       "  <tbody>\n",
       "    <tr>\n",
       "      <th>N=5x5</th>\n",
       "      <td>0.956</td>\n",
       "      <td>0.396</td>\n",
       "      <td>0.338</td>\n",
       "      <td>0.166</td>\n",
       "      <td>0.169</td>\n",
       "      <td>0.141</td>\n",
       "      <td>0.091</td>\n",
       "      <td>0.022</td>\n",
       "      <td>-0.062</td>\n",
       "      <td>-0.157</td>\n",
       "      <td>-0.258</td>\n",
       "      <td>-0.359</td>\n",
       "      <td>-0.456</td>\n",
       "      <td>-0.545</td>\n",
       "      <td>-0.625</td>\n",
       "      <td>-0.694</td>\n",
       "      <td>-0.753</td>\n",
       "      <td>-0.803</td>\n",
       "      <td>-0.846</td>\n",
       "    </tr>\n",
       "    <tr>\n",
       "      <th>N=10x10</th>\n",
       "      <td>0.478</td>\n",
       "      <td>0.666</td>\n",
       "      <td>0.730</td>\n",
       "      <td>0.770</td>\n",
       "      <td>0.478</td>\n",
       "      <td>0.042</td>\n",
       "      <td>-0.055</td>\n",
       "      <td>-0.074</td>\n",
       "      <td>-0.072</td>\n",
       "      <td>-0.069</td>\n",
       "      <td>-0.085</td>\n",
       "      <td>-0.082</td>\n",
       "      <td>-0.087</td>\n",
       "      <td>-0.090</td>\n",
       "      <td>-0.101</td>\n",
       "      <td>-0.107</td>\n",
       "      <td>-0.110</td>\n",
       "      <td>-0.118</td>\n",
       "      <td>-0.128</td>\n",
       "    </tr>\n",
       "    <tr>\n",
       "      <th>N=15x15</th>\n",
       "      <td>0.632</td>\n",
       "      <td>0.671</td>\n",
       "      <td>0.673</td>\n",
       "      <td>0.738</td>\n",
       "      <td>0.743</td>\n",
       "      <td>0.717</td>\n",
       "      <td>0.311</td>\n",
       "      <td>0.008</td>\n",
       "      <td>-0.001</td>\n",
       "      <td>-0.005</td>\n",
       "      <td>-0.012</td>\n",
       "      <td>-0.011</td>\n",
       "      <td>0.007</td>\n",
       "      <td>0.102</td>\n",
       "      <td>0.046</td>\n",
       "      <td>-0.018</td>\n",
       "      <td>-0.016</td>\n",
       "      <td>-0.017</td>\n",
       "      <td>-0.017</td>\n",
       "    </tr>\n",
       "    <tr>\n",
       "      <th>N=25x25</th>\n",
       "      <td>0.338</td>\n",
       "      <td>0.666</td>\n",
       "      <td>0.791</td>\n",
       "      <td>0.843</td>\n",
       "      <td>0.856</td>\n",
       "      <td>0.860</td>\n",
       "      <td>0.874</td>\n",
       "      <td>0.873</td>\n",
       "      <td>0.869</td>\n",
       "      <td>0.871</td>\n",
       "      <td>0.869</td>\n",
       "      <td>0.870</td>\n",
       "      <td>0.874</td>\n",
       "      <td>0.872</td>\n",
       "      <td>0.872</td>\n",
       "      <td>0.872</td>\n",
       "      <td>0.872</td>\n",
       "      <td>0.869</td>\n",
       "      <td>0.856</td>\n",
       "    </tr>\n",
       "    <tr>\n",
       "      <th>N=50x50</th>\n",
       "      <td>0.596</td>\n",
       "      <td>0.740</td>\n",
       "      <td>0.823</td>\n",
       "      <td>0.855</td>\n",
       "      <td>0.870</td>\n",
       "      <td>0.875</td>\n",
       "      <td>0.876</td>\n",
       "      <td>0.875</td>\n",
       "      <td>0.873</td>\n",
       "      <td>0.875</td>\n",
       "      <td>0.874</td>\n",
       "      <td>0.874</td>\n",
       "      <td>0.874</td>\n",
       "      <td>0.873</td>\n",
       "      <td>0.875</td>\n",
       "      <td>0.874</td>\n",
       "      <td>0.864</td>\n",
       "      <td>0.870</td>\n",
       "      <td>0.872</td>\n",
       "    </tr>\n",
       "    <tr>\n",
       "      <th>N=100x100</th>\n",
       "      <td>0.628</td>\n",
       "      <td>0.767</td>\n",
       "      <td>0.820</td>\n",
       "      <td>0.847</td>\n",
       "      <td>0.857</td>\n",
       "      <td>0.866</td>\n",
       "      <td>0.870</td>\n",
       "      <td>0.871</td>\n",
       "      <td>0.873</td>\n",
       "      <td>0.874</td>\n",
       "      <td>0.874</td>\n",
       "      <td>0.873</td>\n",
       "      <td>0.874</td>\n",
       "      <td>0.874</td>\n",
       "      <td>0.873</td>\n",
       "      <td>0.873</td>\n",
       "      <td>0.873</td>\n",
       "      <td>0.873</td>\n",
       "      <td>0.873</td>\n",
       "    </tr>\n",
       "    <tr>\n",
       "      <th>N=250x250</th>\n",
       "      <td>0.577</td>\n",
       "      <td>0.761</td>\n",
       "      <td>0.823</td>\n",
       "      <td>0.850</td>\n",
       "      <td>0.862</td>\n",
       "      <td>0.870</td>\n",
       "      <td>0.874</td>\n",
       "      <td>0.875</td>\n",
       "      <td>0.877</td>\n",
       "      <td>0.877</td>\n",
       "      <td>0.877</td>\n",
       "      <td>0.877</td>\n",
       "      <td>0.877</td>\n",
       "      <td>0.877</td>\n",
       "      <td>0.877</td>\n",
       "      <td>0.877</td>\n",
       "      <td>0.877</td>\n",
       "      <td>0.877</td>\n",
       "      <td>0.877</td>\n",
       "    </tr>\n",
       "    <tr>\n",
       "      <th>N=500x500</th>\n",
       "      <td>0.561</td>\n",
       "      <td>0.752</td>\n",
       "      <td>0.812</td>\n",
       "      <td>0.842</td>\n",
       "      <td>0.854</td>\n",
       "      <td>0.862</td>\n",
       "      <td>0.866</td>\n",
       "      <td>0.867</td>\n",
       "      <td>0.868</td>\n",
       "      <td>0.869</td>\n",
       "      <td>0.869</td>\n",
       "      <td>0.869</td>\n",
       "      <td>0.869</td>\n",
       "      <td>0.869</td>\n",
       "      <td>0.869</td>\n",
       "      <td>0.869</td>\n",
       "      <td>0.869</td>\n",
       "      <td>0.869</td>\n",
       "      <td>0.869</td>\n",
       "    </tr>\n",
       "  </tbody>\n",
       "</table>\n",
       "</div>"
      ],
      "text/plain": [
       "             2     3     4     5     6     7      8      9      10     11  \\\n",
       "N=5x5     0.956 0.396 0.338 0.166 0.169 0.141  0.091  0.022 -0.062 -0.157   \n",
       "N=10x10   0.478 0.666 0.730 0.770 0.478 0.042 -0.055 -0.074 -0.072 -0.069   \n",
       "N=15x15   0.632 0.671 0.673 0.738 0.743 0.717  0.311  0.008 -0.001 -0.005   \n",
       "N=25x25   0.338 0.666 0.791 0.843 0.856 0.860  0.874  0.873  0.869  0.871   \n",
       "N=50x50   0.596 0.740 0.823 0.855 0.870 0.875  0.876  0.875  0.873  0.875   \n",
       "N=100x100 0.628 0.767 0.820 0.847 0.857 0.866  0.870  0.871  0.873  0.874   \n",
       "N=250x250 0.577 0.761 0.823 0.850 0.862 0.870  0.874  0.875  0.877  0.877   \n",
       "N=500x500 0.561 0.752 0.812 0.842 0.854 0.862  0.866  0.867  0.868  0.869   \n",
       "\n",
       "              12     13     14     15     16     17     18     19     20  \n",
       "N=5x5     -0.258 -0.359 -0.456 -0.545 -0.625 -0.694 -0.753 -0.803 -0.846  \n",
       "N=10x10   -0.085 -0.082 -0.087 -0.090 -0.101 -0.107 -0.110 -0.118 -0.128  \n",
       "N=15x15   -0.012 -0.011  0.007  0.102  0.046 -0.018 -0.016 -0.017 -0.017  \n",
       "N=25x25    0.869  0.870  0.874  0.872  0.872  0.872  0.872  0.869  0.856  \n",
       "N=50x50    0.874  0.874  0.874  0.873  0.875  0.874  0.864  0.870  0.872  \n",
       "N=100x100  0.874  0.873  0.874  0.874  0.873  0.873  0.873  0.873  0.873  \n",
       "N=250x250  0.877  0.877  0.877  0.877  0.877  0.877  0.877  0.877  0.877  \n",
       "N=500x500  0.869  0.869  0.869  0.869  0.869  0.869  0.869  0.869  0.869  "
      ]
     },
     "metadata": {},
     "output_type": "display_data"
    }
   ],
   "source": [
    "from numba import jit\n",
    "import numpy as np\n",
    "import pandas as pd\n",
    "\n",
    "# move out of notebook\n",
    "def evaluate_model(model,N_array,dmin=2,dmax=15):\n",
    "    degree = np.arange(dmin,dmax+1)\n",
    "    N_label = []\n",
    "    r2_scores = np.zeros((len(N_array),len(degree)))\n",
    "    for n in range(len(N_array)):\n",
    "        data = cd.CreateData(N_array[n])\n",
    "        data.add_normal_noise(0,variance)\n",
    "        N_label.append(\"N=\"+str(N_array[n])+\"x\"+str(N_array[n]))\n",
    "        for d in range(len(degree)):\n",
    "            data.create_design_matrix(degree[d])\n",
    "            data.split_dataset(test_fraction)\n",
    "            data.scale_dataset(type='standard')\n",
    "            model.fit(data.X_train,data.z_train)\n",
    "            z_hat = model.predict(data.X_test)\n",
    "            r2_scores[n,d] = model.r2(z_hat,data.z_test)\n",
    "    pd.options.display.float_format = '{:,.3f}'.format\n",
    "    r2_df = pd.DataFrame(r2_scores,index=N_label,columns=degree)\n",
    "    r2_df.style.format(\"{:.3}\")\n",
    "    print(\"$R^2$ score for increasing polynomial degree and number of datapoints\")\n",
    "    display(r2_df)\n",
    "#N_label = []\n",
    "N_array = np.array([5,10,15,25,50,100,250,500])        \n",
    "evaluate_model(ols_model,N_array,2,20)"
   ]
  },
  {
   "cell_type": "markdown",
   "metadata": {},
   "source": [
    "As expected the performance of the model increases as the number of datapoints increase, but after about $n=50$ the gain is negligible, especially for the higher degree polynomials. For very few datapoints the performance seems to be fairly random, which makes sense as the performance would then depend strongly on the similarity between the data in the training and test set. \n",
    "\n",
    "While the performance also improves with increasing polynomial degree, we see that this improvement stalls at about the 7th degree. For smaller datasets we see some overfitting for larger polynomial degree.\n",
    "\n",
    "Let us look move on to look at the bias-variance trade-off."
   ]
  },
  {
   "cell_type": "markdown",
   "metadata": {},
   "source": [
    "### Bias-Variance Trade-off\n",
    "Now we explore the bias-variance trade-off. \n",
    "\n",
    "We have from the method section our loss, or cost, function\n",
    "$$\n",
    "L(\\boldsymbol{X},\\boldsymbol{\\beta}) =\\frac{1}{n}\\sum_{i=0}^{n-1}(y_i-\\tilde{y}_i)^2=\\mathbb{E}\\left[(\\boldsymbol{y}-\\boldsymbol{\\tilde{y}})^2\\right].\n",
    "$$\n",
    "Here the expected value $\\mathbb{E}$ is the sample value. This can be manipulated to the form \n",
    "$$\n",
    "\\mathbb{E}\\left[(\\boldsymbol{y}-\\boldsymbol{\\tilde{y}})^2\\right]=\\frac{1}{n}\\sum_i(f_i-\\mathbb{E}\\left[\\boldsymbol{\\tilde{y}}\\right])^2+\\frac{1}{n}\\sum_i(\\tilde{y}_i-\\mathbb{E}\\left[\\boldsymbol{\\tilde{y}}\\right])^2+\\sigma^2.\n",
    "$$"
   ]
  },
  {
   "cell_type": "markdown",
   "metadata": {},
   "source": [
    "Which shows how the erro is divided into a bias term and a variance term."
   ]
  },
  {
   "cell_type": "code",
   "execution_count": null,
   "metadata": {},
   "outputs": [],
   "source": []
  },
  {
   "cell_type": "markdown",
   "metadata": {},
   "source": []
  },
  {
   "cell_type": "markdown",
   "metadata": {},
   "source": []
  },
  {
   "cell_type": "markdown",
   "metadata": {},
   "source": []
  },
  {
   "cell_type": "markdown",
   "metadata": {},
   "source": []
  },
  {
   "cell_type": "markdown",
   "metadata": {},
   "source": []
  },
  {
   "cell_type": "code",
   "execution_count": null,
   "metadata": {},
   "outputs": [],
   "source": []
  },
  {
   "cell_type": "markdown",
   "metadata": {},
   "source": []
  },
  {
   "cell_type": "markdown",
   "metadata": {},
   "source": []
  },
  {
   "cell_type": "markdown",
   "metadata": {},
   "source": [
    "# Discussion"
   ]
  },
  {
   "cell_type": "markdown",
   "metadata": {},
   "source": [
    "# Conclusion"
   ]
  },
  {
   "cell_type": "markdown",
   "metadata": {},
   "source": [
    "# Bibliography\n",
    "[1] USGSs (the United States Geological Survey) EarthExplorer tool - https://earthexplorer.usgs.gov/\n",
    "\n",
    "[2] Franke, R. (1979). A critical comparison of some methods for interpolation of scattered data\n",
    "\n",
    "[3] SciKit-learn: https://scikit-learn.org/stable/index.html\n",
    "\n",
    "[4] Numpy: https://numpy.org/\n",
    "\n",
    "[5] MatPlotLib.PyPlot: https://matplotlib.org/api/pyplot_api.html\n",
    "\n",
    "[6] Python.random: https://docs.python.org/3/library/random.html"
   ]
  }
 ],
 "metadata": {
  "kernelspec": {
   "display_name": "Python 3",
   "language": "python",
   "name": "python3"
  },
  "language_info": {
   "codemirror_mode": {
    "name": "ipython",
    "version": 3
   },
   "file_extension": ".py",
   "mimetype": "text/x-python",
   "name": "python",
   "nbconvert_exporter": "python",
   "pygments_lexer": "ipython3",
   "version": "3.7.2"
  }
 },
 "nbformat": 4,
 "nbformat_minor": 4
}
