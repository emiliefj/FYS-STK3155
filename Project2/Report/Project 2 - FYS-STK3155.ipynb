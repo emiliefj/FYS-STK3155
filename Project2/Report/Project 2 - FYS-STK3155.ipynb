{
 "cells": [
  {
   "cell_type": "markdown",
   "metadata": {
    "hideCode": false,
    "hidePrompt": false
   },
   "source": [
    "# Abstract"
   ]
  },
  {
   "cell_type": "markdown",
   "metadata": {
    "hideCode": false,
    "hidePrompt": false
   },
   "source": []
  },
  {
   "cell_type": "markdown",
   "metadata": {
    "hideCode": false,
    "hidePrompt": false
   },
   "source": [
    "# Introduction "
   ]
  },
  {
   "cell_type": "markdown",
   "metadata": {
    "hideCode": false,
    "hidePrompt": false
   },
   "source": []
  },
  {
   "cell_type": "code",
   "execution_count": null,
   "metadata": {
    "hideCode": false,
    "hidePrompt": false
   },
   "outputs": [],
   "source": []
  },
  {
   "cell_type": "markdown",
   "metadata": {
    "hideCode": false,
    "hidePrompt": false
   },
   "source": [
    "# Data\n",
    "\n",
    "## Franke Function and Terrain Data\n",
    "We will revisit these datasets from project one. For further description refer to the report for project 1 [1]"
   ]
  },
  {
   "cell_type": "markdown",
   "metadata": {
    "hideCode": false,
    "hidePrompt": false
   },
   "source": [
    "## MNIST Handwritten Numbers\n",
    "For our classification problem we will be using the MNIST database of handwritten numbers, or more specifically a subset of this available as the digits dataset in scikit-learn[2]. \n",
    "\n",
    "This dataset contains pixel images of handwritten numbers. In total the digits dataset contains 1797 8x8 images. Meaning we have a dataset consisting of 1797 data points, each with 64 descriptors or inputs, and one output, the label. \n",
    "\n",
    "For a plot of one such data point, see figure 1."
   ]
  },
  {
   "cell_type": "code",
   "execution_count": 3,
   "metadata": {
    "hideCode": true,
    "hidePrompt": false
   },
   "outputs": [
    {
     "data": {
      "image/png": "[encoded data removed]",
      "text/plain": [
       "<Figure size 216x216 with 1 Axes>"
      ]
     },
     "metadata": {
      "needs_background": "light"
     },
     "output_type": "display_data"
    },
    {
     "name": "stdout",
     "output_type": "stream",
     "text": [
      "Figure 1: Plot of one of the entries in the digits dataset showing a number 0.\n"
     ]
    }
   ],
   "source": [
    "from sklearn import datasets\n",
    "import matplotlib.pyplot as plt\n",
    "\n",
    "# Load the data\n",
    "digits = datasets.load_digits()\n",
    "\n",
    "# Plot a datapoint; the first number in the set\n",
    "plt.figure(1, figsize=(3, 3))\n",
    "plt.imshow(digits.images[0], cmap=plt.cm.gray_r, interpolation='nearest')\n",
    "plt.title(\"Label: %d\" % digits.target[0])\n",
    "plt.show()\n",
    "print(\"Figure 1: Plot of one of the entries in the digits dataset showing a number 0.\")"
   ]
  },
  {
   "cell_type": "markdown",
   "metadata": {
    "hideCode": false,
    "hidePrompt": false
   },
   "source": [
    "We will use this dataset to fit and test our classification models. To prepare the data we split it into a training set and a test set. I use $\\texttt{scikit-learn}$'s $\\texttt{train_test_split}$ for this and a 80-20 split."
   ]
  },
  {
   "cell_type": "code",
   "execution_count": 5,
   "metadata": {
    "hideCode": true,
    "hidePrompt": false
   },
   "outputs": [],
   "source": [
    "from sklearn.model_selection import train_test_split\n",
    "\n",
    "# Setting the predictors/inputs and the target\n",
    "digit_target = digits.target\n",
    "digit_input = digits.images\n",
    "n_inputs = len(digit_input)\n",
    "digit_input = digit_input.reshape(n_inputs, -1)\n",
    "\n",
    "# Splitting into training and test\n",
    "train_size = 0.8\n",
    "\n",
    "X_train, X_test, y_train, y_test = train_test_split(digit_input, digit_target, stratify=digit_target,\n",
    "                                                    train_size=train_size)"
   ]
  },
  {
   "cell_type": "markdown",
   "metadata": {
    "hideCode": false,
    "hidePrompt": false
   },
   "source": [
    "I want to make sure that the different classes, i.e. the labels are similarly distributed among the test set and the training test. If for instance no occurrences of the label '3' is found in the training set, models trained on this set are expected to perform poorly on identifying such digits in the test set. To avoid such issues I have set the $\\texttt{stratify}$ parameter in $\\texttt{train_test_split()}$ to the target variable. Let us see if it did its job."
   ]
  },
  {
   "cell_type": "code",
   "execution_count": 6,
   "metadata": {
    "hideCode": true,
    "hidePrompt": false
   },
   "outputs": [
    {
     "data": {
      "image/png": "[encoded data removed]",
      "text/plain": [
       "<Figure size 720x504 with 1 Axes>"
      ]
     },
     "metadata": {
      "needs_background": "light"
     },
     "output_type": "display_data"
    },
    {
     "name": "stdout",
     "output_type": "stream",
     "text": [
      "Figure 2: Histogram of label distribution in training and test set.\n"
     ]
    }
   ],
   "source": [
    "# Creating histogram \n",
    "fig, ax = plt.subplots(figsize =(10, 7)) \n",
    "ax.hist(y_train, label='training')\n",
    "ax.hist(y_test, label='test')\n",
    "plt.legend() \n",
    "plt.xlabel(\"labels\") \n",
    "plt.title(\"Distribution of labels in the training and test set\")\n",
    "  \n",
    "# Show plot \n",
    "plt.show() \n",
    "print(\"Figure 2: Histogram of label distribution in training and test set.\")"
   ]
  },
  {
   "cell_type": "markdown",
   "metadata": {
    "hideCode": false,
    "hidePrompt": false
   },
   "source": [
    "Figure 2 shows the distribution of the different labels int the test and training sets. We see that the labels seem to be very evenly distributed."
   ]
  },
  {
   "cell_type": "markdown",
   "metadata": {
    "hideCode": false,
    "hidePrompt": false
   },
   "source": [
    "# Methods\n",
    "For descriptions of ordinary least squares and ridge regression, please refer to my report for project 1[1].\n",
    "## Performance Measures\n",
    "For a description of the mean square error and $r^2$ please again consult the report of project 1[1].\n",
    "\n",
    "### Accuracy\n",
    "We use the accuracy score to measure the performance of our classification methods. This measure is given by the number of correctly guessed targets $t_i$ divided by the total number of targets, that is\n",
    "\n",
    "$$\n",
    "\\text{Accuracy} = \\frac{\\sum_{i=1}^n I(t_i = y_i)}{n} ,\n",
    "$$\n",
    "\n",
    "where $I$ is the indicator function, which takes the value $1$ if $t_i = y_i$ and $0$ otherwise (for a binary classification problem). Here $t_i$ represents the target and $y_i$ is the prediction. The number of targets is given by $n$."
   ]
  },
  {
   "cell_type": "markdown",
   "metadata": {
    "hideCode": false,
    "hidePrompt": false
   },
   "source": [
    "## Regression Methods\n",
    "\n",
    "### Logistic Regression\n",
    "\n",
    "Logistic regression is a machine learning algorithm typically used for classification problems. It is most typically applied in binary classification problems, e.g. true/false, yes/no, positive/negative, but it can be extended to problems with multiple classes, called multinomial logisticc regression.\n",
    "\n",
    "I logistic regression a logistic function is applied to model the dependent variable. Such a logistic function takes in any input value, and will always return a value between zero and one. This is often viewed as transforming the input and outputting a probability value. In classification we are interested in discrete output. Some functions, like the step function (see figure number) produces a binary zero or one, while we for other functions, like the sigmoid translate the output values according to a cutoff, e.g. output above or equal 0.5 gets coded as a one.\n",
    "\n",
    "The classic function used to transform the input in logistic regression is the sigmoid, see the section on activation functions and figure 4.\n",
    "\n",
    "The general form of logistic regression is\n",
    "\n",
    "$$\n",
    "\\hat{y_k} = g(\\beta X_k),\n",
    "$$\n",
    "\n",
    "where $g(z)$ is the sigmoid and $\\beta$ are weights fit to the inputs in training the model.\n",
    "\n",
    "While we in linear regression used the mean square error as the cost function, this cost function will we non-convex for the logistic case. Therefore we cannot use this cost function. To find a cost function we can use the maximum likelihood estimator. In the binary case this has the form,\n",
    "\n",
    "$$\n",
    "\\begin{align*}\n",
    "P((x_i,y_i)|\\hat{\\beta})& = \\prod_{i=1}^n \\left[p(y_i=1|x_i,\\hat{\\beta})\\right]^{y_i}\\left[1-p(y_i=1|x_i,\\hat{\\beta}))\\right]^{1-y_i}\\nonumber \\\\\n",
    "\\end{align*}\n",
    "$$\n",
    "\n",
    "\n",
    "which by taking the logarithm and reordering leads to the cross-entropy\n",
    "\n",
    "$$\n",
    "\\mathcal{C}(\\hat{\\beta})=-\\sum_{i=1}^n  \\left(y_i(\\boldsymbol{\\beta}x_i) -\\log{(1+\\exp{(\\boldsymbol{\\beta}x_i)})}\\right).\n",
    "$$\n",
    "The cross-entropy will be a convex function of the weights $\\hat{\\beta}$. To train our model we want to minimixe the derivative of the cost function with respect to the weights $\\beta$.\n",
    " \n"
   ]
  },
  {
   "cell_type": "markdown",
   "metadata": {},
   "source": [
    "#### Multinomial Logistic Regression[9]\n",
    "\n",
    "In multinomial logistic regression, also known as softmax regression we use the same general procedure as in binomial logistic regression, but now the output of the model must be coded into discrete values using several ranges. If for example we are interested in classifying our input to one of four classes A, B, C and D we can code an output between 0 and 0.25 to A, an output between 0.25 and 0.5 to B and so forth. \n",
    "\n",
    "The *Softmax* function is the preferred output or activation function for multinomial logistic regression.\n",
    "\n",
    "Using maximum likelihood and a set of $K$ classes $k$ we get\n",
    "\n",
    "$$\n",
    "\\prod_{i=1}^N\\prod_{k=1}^K P(y_i=k|x_i,\\beta)\n",
    "$$\n",
    "\n",
    "with\n",
    "\n",
    "$$\n",
    "P(y_i=k|x_i,\\beta) = \\frac{\\exp(\\beta^{(k)T}x_i)}{\\sum_{j=1}^K \\exp(\\beta^{(j)T}x_i)}\n",
    "$$\n",
    "\n",
    "for each training data point $i$. Here $\\beta^{(k)}$ are the weights of the model.\n",
    "\n",
    "We want to maximize this, or, equivalently minimize its logarithm\n",
    "\n",
    "$$\n",
    "C(\\beta) = -\\sum_{i=1}^N\\sum_{k=1}^K 1\\{y_i=k\\}\\log\\frac{\\exp(\\beta^{(k)T}x_i)}{\\sum_{j=1}^K \\exp(\\beta^{(j)T}x_i)}\n",
    "$$\n",
    "\n",
    "which is our cost function. Here $\\{\\texttt{statement}\\}$ is $1$ if $\\texttt{statement}$ is $\\texttt{True}$ and $0$ otherwise.\n",
    "\n",
    "To train our model we want to minimize the cost function. To do this we need the gradient, which is given by\n",
    "\n",
    "$$\n",
    "\\nabla_{\\beta^k} C(\\beta) = -\\sum_{i=1}^Nx_i\\bigg(1\\{y_i=k\\}-P(y_i=k|x_i,\\beta)\\bigg).\n",
    "$$\n",
    "\n",
    "A method like stochastic gradient descent can again be used together with this to train the model and find optimal weights $\\beta$-\n",
    "\n"
   ]
  },
  {
   "cell_type": "markdown",
   "metadata": {
    "hideCode": false,
    "hidePrompt": false
   },
   "source": [
    "## Stochastic Gradient Descent\n",
    "\n",
    "Stochastic Gradient Descent (SGD) is a variation of the gradient descent method. There are many different variations of gradient descent but the common denomiator is that they work to find the minima of a function (typically the cost function) by iteratively moving in the direction of steepest descent.\n",
    "\n",
    "In other words, if we want to find the minimum of a function $F(\\mathbf{x})$, we should move in the\n",
    "direction of the negative gradient $-\\nabla F(\\mathbf{x})$.\n",
    "\n",
    "For a (typically small) stepsize $\\gamma_k > 0$ known as the step size, or learning rate we then have \n",
    "\n",
    "$$\n",
    "\\mathbf{x}_{k+1} = \\mathbf{x}_k - \\gamma_k \\nabla F(\\mathbf{x}_k),\n",
    "$$\n",
    "\n",
    "An initial guess is made at the first step.\n",
    "\n",
    "For a convex cost function and a sufficiently small stepsize $\\gamma_k$ this method can be used to find the global minimum of said cost function.\n",
    "\n",
    "One drawback of this method is that computing the gradient for large datasets can be very computationally expensive. This is where SGD and its variations comes in. Instead of calculating the gradiant for all datapoints, SGD chooses a subset of the data to calculate the gradient on. The method divides the dataset into a set of $N/M$ so-called mini-batches, and for each step the gradient is calculated on one of these mini-batches. These mini-batches are denoted by $B_k$ where $k=1,\\cdots,N/M$. $N$ is here the size of the training data, and $M$ is the size of each mini-batch.\n",
    "\n",
    "Rewriting the gradient descent method in terms of a cost function $C(\\mathbf{\\beta})$, we get\n",
    "\n",
    "$$\n",
    "\\mathbf{\\beta}_{k+1} = \\mathbf{\\beta}_k - \\gamma_k \\nabla_{\\beta} C(\\mathbf{x}_k,\\mathbf{\\beta}_k),\n",
    "$$\n",
    "\n",
    "Taking the gradient with respect to one mini-batch per step we get\n",
    "\n",
    "$$\n",
    "\\beta_{k+1} = \\beta_k - \\gamma_k \\sum_{i \\in B_k}^n \\nabla_\\beta c_i(\\mathbf{x}_i,\n",
    "\\mathbf{\\beta}_k)\n",
    "$$\n",
    "\n",
    "which is the stochastic gradient descent method.\n",
    "\n",
    "In linear regression the cost function is the mean square error. For the gradient of the cost function we then have\n",
    "\n",
    "$$\n",
    "\\nabla_{\\beta} C(\\mathbf{\\beta}) = \\frac{2}{n} \\bigg( X^T (X\\beta-y) + \\lambda \\beta \\bigg)\n",
    "$$\n",
    "\n",
    "here I have added an $L_2$ regularization parameter $\\lambda$ which will be zero for ordinary least squares, but take some non-zero value for ridge. The number of datapoints is given by n. \n",
    "\n",
    "For logistic regression the cost function is the cross-entropy, which we went over in the section on logistic regression.\n",
    "\n",
    "### Decaying Learning Rate\n",
    "Gradient methods can be sensitive to the choice of the step size or learning rate $\\gamma$, and both too small and too large values can give very poor results. One technique to limit this issue is to gradually decrease the learning rate as we move through the epochs. The idea is that we ise large steps in the beginning when we are likely to be far away from the solution, and smaller steps as we approach the minimum. \n",
    "\n",
    "The let the learning rate $\\gamma_j$ *decay* according to the function\n",
    "\n",
    "$$\n",
    "\\gamma_j(t; t_0, t_1) = \\frac{t_0}{t+t_1} \n",
    "$$ \n",
    "\n",
    "where $t_0, t_1 > 0$ are fixed parameters, and $t=i \\cdot m + b$ with $i$ denoting the current epoch number, $m$ the number of mini-batches, and $b$ the current batch number.\n",
    "\n",
    "\n",
    "[//]: # (Add momentum? Momentum based GD: http://localhost:8888/notebooks/Documents/Studier/fys-stk3155/Exercises/MachineLearning/doc/pub/Splines/ipynb/Splines.ipynb)\n"
   ]
  },
  {
   "cell_type": "markdown",
   "metadata": {
    "hideCode": false,
    "hidePrompt": false
   },
   "source": [
    "## Neural Network\n",
    "Neural networks are a group of models originally inspired by biological neuron used in supervised and unsupervised learning as well as specialized tasks such as image processing. They are non-linear models and can be considered powerful extensions of supervised learning methods like linear and logistic regression  We will be focusing on a type of neuroal networks called feed-forward neural networks (FFNN). "
   ]
  },
  {
   "cell_type": "markdown",
   "metadata": {
    "hideCode": false,
    "hidePrompt": false
   },
   "source": [
    "<img src=\"../Report/FFNN_illustration.png\" width=500 height=350 />\n",
    "Figure 3: A schematic showing a fully connected FFNN with one hidden layer."
   ]
  },
  {
   "cell_type": "markdown",
   "metadata": {
    "hideCode": false,
    "hidePrompt": false
   },
   "source": [
    "### Feed-Forward Neural Network\n",
    "A FFNN is a type of artifical neural network (ANN) made up of layers of connected neurons, also called nodes. They consist of an input layer, followed by one or more so-called hidden layers, and finally an output layer. In each layer there is a certain number of nodes, and this number can vary between the layers. The nodes of one layer are connected with the nodes of the next with an associated weight variable. In addition there may be a bias in each layer. Training the model amounts to finding optimal values for these weights and biases.\n",
    "\n",
    "In FFNN the information flows only forward, from one layer to the next. If all nodes in each layer are connected to all the nodes in the next we have a fully connected network. According to the *universal approximation theorem*[4], a FFNN with just a single hidden layer containing a finite number of neurons can approximate a continuous multidimensional function to arbitrary accuracy. This result assumes that the activation function for the hidden layer is a non-constant, bounded and monotonically-increasing continuous function.[5] \n",
    "\n",
    "For a fully-connected model each input node sends its input $x_j$ to every node in the first hidden layer. The input to node $i$ of the first hidden layer becomes:\n",
    "\n",
    "$$\n",
    "\\begin{equation} z_i^1 = \\sum_{j=1}^{M} w_{ij}^1 x_j + b_i^1\n",
    "\\end{equation}\n",
    "$$"
   ]
  },
  {
   "cell_type": "markdown",
   "metadata": {
    "hideCode": false,
    "hidePrompt": false
   },
   "source": [
    "Each input is weighted bu $w_{ij}$ and in addition to the sum over the weighted inputs the node receives a bias contribution $b_i^1$. This bias is to assure we don't end up with zero activation in a layer, as this would stop the flow of information from the input to the output, and give us no output. The ouput from node $i$ in the first hidden layer is \n",
    "\n",
    "$$\n",
    "\\begin{equation}\n",
    " y_i^1 = f(z_i^1) = f\\left(\\sum_{j=1}^M w_{ij}^1 x_j  + b_i^1\\right)\n",
    "\\end{equation}\n",
    "$$\n",
    "\n",
    "where $f(z)$ is the activation function for the hidden layer. The output from the nodes in the hidden layer are given as weighted inputs to all the nodes in the next hidden layer in the same way as described here for this first layer, with a (different or equal) activation function giving the ouput of that next layer. This continues until the output layer. The output from this final layer is the model layer. Typically the nodes in the hidden layers all have the same activation function, while the ouput layer has a different one.\n",
    "\n",
    "Generalizing we get the output from a model with $l$ hidden layers as:\n",
    "\n",
    "$$\n",
    "\\begin{equation}\n",
    "y^{l+1}_i = f^{l+1}\\left[\\!\\sum_{j=1}^{N_l} w_{ij}^{l+1} f^l\\left(\\sum_{k=1}^{N_{l-1}}w_{jk}^{l}\\left(\\dots f^1\\left(\\sum_{m=1}^{M} w_{nm}^1 x_m+ b_n^1\\right)\\dots\\right)+b_j^{l}\\right)+b_i^{l+1}\\right] \n",
    "\\end{equation}\n",
    "$$\n",
    "\n",
    "which is a nested sum of weighted activation functions.\n",
    "\n",
    "With the biases and activations as $N_l \\times 1$ column vectors $\\hat{b}_l$ and $\\hat{y}_l$, where the $i$-th element of each vector is the bias $b_i^l$ and activation $y_i^l$ of node $i$ in layer $l$ respectively, and the weights as an $N_{l-1} \\times N_l$ matrix, $\\mathrm{W}_l$ we can write the sum as a matrix-vector multiplication. Looking at hidden layer 2 for simplicity we can write this in matrix notation as \n",
    "\n",
    "$$\n",
    "\\begin{equation}\n",
    " \\hat{y}_2 =  \n",
    " f_2\\left(\\left[\\begin{array}{cccc}\n",
    "    w^2_{11} &w^2_{12}  &\\cdots &w^2_{1N_l} \\\\\n",
    "    w^2_{21} &w^2_{22} &\\cdots &\\vdots \\\\\n",
    "    \\vdots   &\\vdots   &       &\\vdots \\\\\n",
    "    w^2_{N_{l-1}1} &w^2_{N_{l-1}2} &\\cdots &w^2_{N_{l-1}N_l} \\\\\n",
    "    \\end{array} \\right] \\cdot\n",
    "    \\left[\\begin{array}{c}\n",
    "           y^1_1 \\\\\n",
    "           y^1_2 \\\\\n",
    "           \\vdots \\\\\n",
    "           y^1_{N_l} \\\\\n",
    "          \\end{array}\\right] + \n",
    "    \\left[\\begin{array}{c}\n",
    "           b^2_1 \\\\\n",
    "           b^2_2 \\\\\n",
    "           \\vdots \\\\\n",
    "           b^2_{N_l} \\\\\n",
    "          \\end{array}\\right]\\right).\n",
    "\\end{equation}\n",
    "$$"
   ]
  },
  {
   "cell_type": "markdown",
   "metadata": {
    "hideCode": false,
    "hidePrompt": false
   },
   "source": [
    "In general we have an expression for $z_i^l$, the activation of node $i$ of the $l$-th layer as\n",
    "\n",
    "$$\n",
    "z_i^l = \\sum_{j=1}^{N_{l-1}}w_{ij}^la_j+b_i^l.\n",
    "$$\n",
    "\n",
    "Here $b_i^l$ is the bias into node $i$ in layer $l$, $w_{ij}^l$ is the weight from node $j$ in layer $l-1$ on the input to node $i$ in layer $l$, and $a_j$ the output from node $j$ in layer $l-1$.\n",
    "\n",
    "The output from node $i$ in layer $l$ becomes\n",
    "\n",
    "$$\n",
    "a_i^l = f^l(z_i^l) = \\frac{1}{1+\\exp{-(z_i^l)}}.\n",
    "$$\n",
    "\n",
    "Using the sigmoid as activation function in layer $l$."
   ]
  },
  {
   "cell_type": "markdown",
   "metadata": {},
   "source": [
    "## Regularization\n",
    "We will be adding an $L_2$ regularization parameter $\\lambda$ to our logistic regression as well as our neural network code. See description of ridge regression in project 1[1] for more info on $L_2$ regularization.\n",
    "\n",
    "### L2 Regularization FFNN\n",
    "when adding L2 regularixation to a feed forward neural network with backpropagation like we have, this amounts to adding a regularization term to the cost function minimizing the size of the individual weights in the model.\n",
    "\n",
    "$$\n",
    "C = C_0 + \\frac{\\lambda}{2n}\\sum_w w^2\n",
    "$$\n",
    "\n",
    "where $C_0$ is the original cost function without regularization and $\\lambda$ is the regularization parameter. The regularization does not have a dependency to the biases, so these are not affected, but the derivative of the cost function with respect to the weights becomes\n",
    "\n",
    "$$\n",
    "\\frac{\\partial C}{\\partial w} = \\frac{\\partial C_0}{\\partial w} + \\frac{\\lambda}{n}w.\n",
    "$$\n",
    "\n",
    "Using this the weights are updated according to\n",
    "\n",
    "$$\n",
    "w -> w\\bigg(1-\\frac{\\gamma\\lambda}{n}\\bigg)-\\gamma\\frac{\\partial C_0}{\\partial w}\n",
    "$$\n"
   ]
  },
  {
   "cell_type": "markdown",
   "metadata": {
    "hideCode": false,
    "hidePrompt": false
   },
   "source": [
    "### Activation Function\n",
    "A choice must be made for the activation function to be usen in the nodes of the hidden layer as well as the nodes of the ouput layer.\n",
    "I will be using the sigmoid function as well ass the ReLU and Leaky ReLU in the hidden layers, and the softmax for the output layer when classifying handwritten numbers. For regression with FFNN I will use ReLU as the activation function for the output layer.\n",
    "\n",
    "#### Sigmoid Function\n",
    "\n",
    "This activation function is popularly used in the ouput layer of binary classification problems. This function is at risk for the so-called vanishing gradient problem; that the gradient becomes too small for effective model training. the function has the form\n",
    "\n",
    "$$\n",
    "f(x) = \\frac{1}{1 + e^{-x}}.\n",
    "$$\n",
    "A plot is seen in figure 4. "
   ]
  },
  {
   "cell_type": "code",
   "execution_count": 7,
   "metadata": {
    "hideCode": true,
    "hidePrompt": false
   },
   "outputs": [
    {
     "data": {
      "image/png": "[encoded data removed]",
      "text/plain": [
       "<Figure size 432x288 with 1 Axes>"
      ]
     },
     "metadata": {
      "needs_background": "light"
     },
     "output_type": "display_data"
    },
    {
     "name": "stdout",
     "output_type": "stream",
     "text": [
      "Figure 4: Plot of the logistic sigmoid function\n"
     ]
    }
   ],
   "source": [
    "import numpy as np\n",
    "x = np.linspace(-10,10,100)\n",
    "y = 1./(1+np.exp(-x))\n",
    "plt.plot(x,y)\n",
    "plt.title(\"The Logistic Sigmoid Function\")\n",
    "plt.xlabel('x')\n",
    "plt.ylabel('y')\n",
    "plt.show()\n",
    "print(\"Figure 4: Plot of the logistic sigmoid function\")"
   ]
  },
  {
   "cell_type": "markdown",
   "metadata": {
    "hideCode": false,
    "hidePrompt": false
   },
   "source": [
    "#### Hyperbolic Tangent Function\n",
    "\n",
    "A mathematically shifted version of the sigmoid that generally performs better than the sigmoid. It has the form\n",
    "\n",
    "$$\n",
    "f(x) = \\tanh(x),\n",
    "$$\n",
    "and a plot is seen in figure 5."
   ]
  },
  {
   "cell_type": "code",
   "execution_count": 10,
   "metadata": {
    "hideCode": true,
    "hidePrompt": false
   },
   "outputs": [
    {
     "data": {
      "image/png": "[encoded data removed]",
      "text/plain": [
       "<Figure size 432x288 with 1 Axes>"
      ]
     },
     "metadata": {
      "needs_background": "light"
     },
     "output_type": "display_data"
    },
    {
     "name": "stdout",
     "output_type": "stream",
     "text": [
      "Figure 5: Plot of the hyperbolic tangent function\n"
     ]
    }
   ],
   "source": [
    "y = np.tanh(x)\n",
    "plt.plot(x,y)\n",
    "plt.title(\"The Hyperbolic Tangent Function\")\n",
    "plt.xlabel('x')\n",
    "plt.ylabel('y')\n",
    "plt.show()\n",
    "print(\"Figure 5: Plot of the hyperbolic tangent function\")"
   ]
  },
  {
   "cell_type": "markdown",
   "metadata": {
    "hideCode": false,
    "hidePrompt": false
   },
   "source": [
    "#### Binary Step Function\n",
    "\n",
    "Also called the heaviside step function, or the unit step function. It is an \"all or nothing\" approach andflips from 0 to 1 at $x=0$.\n",
    "\n",
    "$$\n",
    "f(x) =\n",
    "\\left\\{\n",
    "\t\\begin{array}{ll}\n",
    "\t\t1  & \\mbox{if } x > 0 \\\\\n",
    "\t\t0 & \\mbox{if } x \\leq 0\n",
    "\t\\end{array}\n",
    "\\right.\n",
    "$$\n",
    "A plot is seen in figure 6."
   ]
  },
  {
   "cell_type": "code",
   "execution_count": 11,
   "metadata": {
    "hideCode": true,
    "hidePrompt": false
   },
   "outputs": [
    {
     "data": {
      "image/png": "[encoded data removed]",
      "text/plain": [
       "<Figure size 432x288 with 1 Axes>"
      ]
     },
     "metadata": {
      "needs_background": "light"
     },
     "output_type": "display_data"
    },
    {
     "name": "stdout",
     "output_type": "stream",
     "text": [
      "Figure 6: Plot of the binary step function\n"
     ]
    }
   ],
   "source": [
    "y = np.where(x>0, 1, 0) \n",
    "plt.plot(x,y)\n",
    "plt.title(\"The Binary Step Function\")\n",
    "plt.xlabel('x')\n",
    "plt.ylabel('y')\n",
    "plt.show()\n",
    "print(\"Figure 6: Plot of the binary step function\")"
   ]
  },
  {
   "cell_type": "markdown",
   "metadata": {
    "hideCode": false,
    "hidePrompt": false
   },
   "source": [
    "#### ReLU Function\n",
    "ReLu, or Rectified Linear Unit is a popular and fairly general activation function. It is a popular choice for the activation function of the hidden layers. It is computationally cheap and therefore efficient. One issue is that all negative values are mapped to zero, which can lead to what is called *dying ReLU problem*.  This is an issue that can occur if the weighted sum of a neuron's inputs is negative. The neuron will then produce 0 as its output. Because the gradient of the ReLU function is 0 when its input is negative this is unlikely to change and the neuron is essentialy \"dead\".\n",
    "\n",
    "The rectifier is defined as the positive part of its argument\n",
    "\n",
    "$$\n",
    "f(x) = x^{+} = \\max(0,x).\n",
    "$$\n",
    "A plot is seen in figure 7."
   ]
  },
  {
   "cell_type": "code",
   "execution_count": 12,
   "metadata": {
    "hideCode": true,
    "hidePrompt": false
   },
   "outputs": [
    {
     "data": {
      "image/png": "[encoded data removed]",
      "text/plain": [
       "<Figure size 432x288 with 1 Axes>"
      ]
     },
     "metadata": {
      "needs_background": "light"
     },
     "output_type": "display_data"
    },
    {
     "name": "stdout",
     "output_type": "stream",
     "text": [
      "Figure 7: Plot of the ReLU function\n"
     ]
    }
   ],
   "source": [
    "y = [max(0,xi) for xi in x]\n",
    "plt.plot(x,y)\n",
    "plt.title(\"The Rectified Linear Unit Function\")\n",
    "plt.xlabel('x')\n",
    "plt.ylabel('y')\n",
    "plt.show()\n",
    "print(\"Figure 7: Plot of the ReLU function\")"
   ]
  },
  {
   "cell_type": "markdown",
   "metadata": {
    "hideCode": false,
    "hidePrompt": false
   },
   "source": [
    "#### Leaky ReLU Function\n",
    "Leaky ReLU solves the dying ReLU problem described in the last subsection by assigning a small positive slope for $x < 0$. This does however reduce the performance/computational cost.\n",
    "\n",
    "$$\n",
    "f(x) =\n",
    "\\left\\{\n",
    "\t\\begin{array}{ll}\n",
    "\t\tx  & \\mbox{if } x \\geq 0 \\\\\n",
    "\t\t0.01x & \\mbox{otherwise }\n",
    "\t\\end{array}\n",
    "\\right.\n",
    "$$\n",
    "See figure 8 for a plot of this function."
   ]
  },
  {
   "cell_type": "code",
   "execution_count": 13,
   "metadata": {
    "hideCode": true,
    "hidePrompt": false
   },
   "outputs": [
    {
     "data": {
      "image/png": "[encoded data removed]",
      "text/plain": [
       "<Figure size 432x288 with 1 Axes>"
      ]
     },
     "metadata": {
      "needs_background": "light"
     },
     "output_type": "display_data"
    },
    {
     "name": "stdout",
     "output_type": "stream",
     "text": [
      "Figure 8: Plot of the Leaky ReLU function. It is a bit hard to spot, but the slope from x=-10 to x=0 is positive.\n"
     ]
    }
   ],
   "source": [
    "y = np.where(x>0, x, 0.01*x) \n",
    "plt.plot(x,y)\n",
    "plt.title(\"The Leaky ReLU\")\n",
    "plt.xlabel('x')\n",
    "plt.ylabel('y')\n",
    "plt.show()\n",
    "print(\"Figure 8: Plot of the Leaky ReLU function. It is a bit hard to spot, but the slope from x=-10 to x=0 is positive.\")"
   ]
  },
  {
   "cell_type": "markdown",
   "metadata": {},
   "source": [
    "#### ELU Function\n",
    "\n",
    "The ELU or exponential linear unit function is another function in the ReLU family proposed to avoid the *dying ReLU problem*. It does however add another parameter to the model $\\alpha$.\n",
    "\n",
    "$$\n",
    "f(x) =\n",
    "\\left\\{\n",
    "\t\\begin{array}{ll}\n",
    "\t\t\\alpha(\\exp(x)-1  & \\mbox{if } x < 0 \\\\\n",
    "\t\tx & \\mbox{otherwise }\n",
    "\t\\end{array}\n",
    "\\right.\n",
    "$$\n",
    "A plot is seen in figure 9."
   ]
  },
  {
   "cell_type": "code",
   "execution_count": 15,
   "metadata": {
    "hideCode": true
   },
   "outputs": [
    {
     "data": {
      "image/png": "[encoded data removed]",
      "text/plain": [
       "<Figure size 432x288 with 1 Axes>"
      ]
     },
     "metadata": {
      "needs_background": "light"
     },
     "output_type": "display_data"
    },
    {
     "name": "stdout",
     "output_type": "stream",
     "text": [
      "Figure 9: Plot of the ELU function. I have set the paramater alpha equal to 1.\n"
     ]
    }
   ],
   "source": [
    "y = np.where(x<0, np.exp(x)-1, x) \n",
    "plt.plot(x,y)\n",
    "plt.title(\"The ELU function\")\n",
    "plt.xlabel('x')\n",
    "plt.ylabel('y')\n",
    "plt.show()\n",
    "print(\"Figure 9: Plot of the ELU function. I have set the paramater alpha equal to 1.\")"
   ]
  },
  {
   "cell_type": "markdown",
   "metadata": {
    "hideCode": false,
    "hidePrompt": false
   },
   "source": [
    "#### Softmax Function\n",
    "\n",
    "A generalization of the logistic function often used in multinomial logistic regression.\n",
    "\n",
    "$$\n",
    "f(x) = \\frac{e^x}{\\sum_{j=1}^K e^{x}},\n",
    "$$\n",
    "\n",
    "The function takes as input a vector $x$ of $K$ real numbers, and normalizes it into a probability distribution consisting of $K$ probabilities proportional to the exponentials of the input numbers. See figure 10 for a plot."
   ]
  },
  {
   "cell_type": "code",
   "execution_count": 16,
   "metadata": {
    "hideCode": true,
    "hidePrompt": false
   },
   "outputs": [
    {
     "data": {
      "image/png": "[encoded data removed]",
      "text/plain": [
       "<Figure size 432x288 with 1 Axes>"
      ]
     },
     "metadata": {
      "needs_background": "light"
     },
     "output_type": "display_data"
    },
    {
     "name": "stdout",
     "output_type": "stream",
     "text": [
      "Figure 10: Plot of the softmax function.\n"
     ]
    }
   ],
   "source": [
    "y = np.exp(x)/np.sum(np.exp(x))\n",
    "plt.plot(x,y)\n",
    "plt.title(\"The Softmax Function\")\n",
    "plt.xlabel('x')\n",
    "plt.ylabel('y')\n",
    "plt.show()\n",
    "print(\"Figure 10: Plot of the softmax function.\")"
   ]
  },
  {
   "cell_type": "markdown",
   "metadata": {
    "hideCode": false,
    "hidePrompt": false
   },
   "source": [
    "# Results and Discussion\n",
    "\n",
    "## Linear Regression with Gradient Descent\n",
    "\n",
    "In project one we looked modeled the Franke function using ordinary least squares (OLS) and ridge regression. Now we want to compare these methods to methods using stochastic gradient descent to obtain the fit, i.e the parameters or weights $\\beta$. \n",
    "\n",
    "The comparison is done on data generated with the Franke function, with added stochastic noise with $\\sigma^2=0.1$. See figure 11 for a 3d plot of these data."
   ]
  },
  {
   "cell_type": "code",
   "execution_count": 17,
   "metadata": {
    "hideCode": true,
    "hidePrompt": false
   },
   "outputs": [
    {
     "data": {
      "image/png": "[encoded data removed]",
      "text/plain": [
       "<Figure size 432x288 with 2 Axes>"
      ]
     },
     "metadata": {
      "needs_background": "light"
     },
     "output_type": "display_data"
    },
    {
     "name": "stdout",
     "output_type": "stream",
     "text": [
      "Figure 11: 3D plot of the Franke function with added noise.\n"
     ]
    }
   ],
   "source": [
    "import sys\n",
    "sys.path.append('../Code')\n",
    "import CreateData as cd\n",
    "\n",
    "n = 100 # number of datapoints \n",
    "data = cd.CreateData(n,seed=8)\n",
    "\n",
    "variance = 0.1\n",
    "data.add_normal_noise(0,variance)\n",
    "data.plot_data()\n",
    "print(\"Figure 11: 3D plot of the Franke function with added noise.\")\n",
    "\n",
    "degree = 5\n",
    "test_fraction = 0.25\n",
    "data.create_design_matrix(degree)\n",
    "data.split_dataset(test_fraction)\n",
    "data.scale_dataset(type='standard') # Using SciKit's StandardScaler"
   ]
  },
  {
   "cell_type": "code",
   "execution_count": 21,
   "metadata": {
    "hideCode": true,
    "hideOutput": true,
    "hidePrompt": false
   },
   "outputs": [
    {
     "name": "stdout",
     "output_type": "stream",
     "text": [
      "** Comparing my ols implementation with that of scikit-learn: **\n",
      "The arrays are about the same:  True\n",
      "The mean squared error between my result and that of scikit-learn is:  2.0601779122756744e-22\n"
     ]
    }
   ],
   "source": [
    "# Checking implementation of OLS #\n",
    "## Remove? ##\n",
    "import LinearRegressionwithGradientDescent as lr_gd\n",
    "import numpy as np\n",
    "\n",
    "# Ordinary least squares model\n",
    "ols_model = lr_gd.LinearRegressionwithGradientDescent(method=\"ols\",alpha=0)\n",
    "ols_train = ols_model.fit(data.X_train,data.z_train)\n",
    "ols_test = ols_model.predict(data.X_test)\n",
    "\n",
    "# scikit-learn ols\n",
    "from sklearn.linear_model import LinearRegression\n",
    "skl_ols = LinearRegression(fit_intercept=False) # OLS\n",
    "skl_ols.fit(data.X_train, data.z_train)\n",
    "\n",
    "skl_z_hat = skl_ols.predict(data.X_test)\n",
    "\n",
    "print(\"** Comparing my ols implementation with that of scikit-learn: **\")\n",
    "print(\"The arrays are about the same: \", np.allclose(ols_test,skl_z_hat))\n",
    "print(\"The mean squared error between my result and that of scikit-learn is: \", ols_model.mean_square_error(ols_test,skl_z_hat))\n"
   ]
  },
  {
   "cell_type": "markdown",
   "metadata": {
    "hideCode": false,
    "hidePrompt": false
   },
   "source": [
    "We fit our models to this data. For OLS there are no parameters to tune. We find the mean square error and the $r^2$ score of our OLS method, see table 1."
   ]
  },
  {
   "cell_type": "code",
   "execution_count": 22,
   "metadata": {
    "hideCode": true,
    "hidePrompt": false
   },
   "outputs": [],
   "source": [
    "def mse(pred, actual):\n",
    "    if(pred.shape!=actual.shape):\n",
    "        pred = pred.reshape((-1, 1))\n",
    "        actual = actual.reshape((-1, 1))\n",
    "        \n",
    "    return np.mean((actual-pred)**2)\n",
    "    #return np.square(np.subtract(actual,pred)).mean()\n",
    "\n",
    "def r2(pred,actual):\n",
    "    if(pred.shape!=actual.shape):\n",
    "        pred = pred.reshape((-1, 1))\n",
    "        actual = actual.reshape((-1, 1))\n",
    "    return 1-np.sum((actual-pred)**2)/np.sum((actual-np.mean(actual))**2)"
   ]
  },
  {
   "cell_type": "code",
   "execution_count": 24,
   "metadata": {
    "hideCode": false,
    "hidePrompt": false
   },
   "outputs": [
    {
     "name": "stdout",
     "output_type": "stream",
     "text": [
      "Table 1: Error measures fitting OLS method to noisy Franke data.\n",
      "*** Error measures for OLS method: ***\n",
      "Train:   MSE:  0.012086801248348334   r2:  0.8644398531166579\n",
      "Test:    MSE:  0.012501297568858788   r2:  0.8583664210243516\n"
     ]
    }
   ],
   "source": [
    "# Plot train and test errors for OLS and OLS with SGD\n",
    "print(\"Table 1: Error measures fitting OLS method to noisy Franke data.\")\n",
    "print(\"*** Error measures for OLS method: ***\")\n",
    "print(\"Train:   MSE: \", mse(ols_train,data.z_train), \"  r2: \", r2(ols_train,data.z_train))\n",
    "print(\"Test:    MSE: \", mse(ols_test,data.z_test), \"  r2: \", r2(ols_test,data.z_test))"
   ]
  },
  {
   "cell_type": "markdown",
   "metadata": {
    "hideCode": false,
    "hidePrompt": false
   },
   "source": [
    "For linear regression with gradient descent we have several parameters, the learning rate, the batch size, and the number of epochs. We explore how the error is affected by various choices for these parameters. The results can be seen in table 2. We can see that the error improves steadily, although somewhat erraticaly as the learning rate increases before exploding when we reach a too large learning rate. Too large is seen to be about $\\gamma>0.07$ . A plot can be seen in figure 12."
   ]
  },
  {
   "cell_type": "code",
   "execution_count": 27,
   "metadata": {
    "hideCode": true,
    "hidePrompt": false
   },
   "outputs": [
    {
     "name": "stdout",
     "output_type": "stream",
     "text": [
      "Table 2: Error measures when varying the learning rate used in OLS with SGD as training method.\n",
      "learning rate:    mse_train:   mse_test:\n",
      "   1.000E-04         3.970      3.976\n",
      "   1.146E-04         2.510      2.512\n",
      "   1.313E-04         1.321      1.255\n",
      "   1.505E-04         0.627      0.630\n",
      "   1.725E-04         3.529      3.488\n",
      "   1.977E-04         2.365      2.312\n",
      "   2.265E-04         3.107      3.093\n",
      "   2.596E-04         0.974      0.898\n",
      "   2.975E-04         2.694      2.677\n",
      "   3.409E-04         0.434      0.417\n",
      "   3.907E-04         1.495      1.435\n",
      "   4.477E-04         0.683      0.676\n",
      "   5.131E-04         0.699      0.705\n",
      "   5.880E-04         1.407      1.427\n",
      "   6.739E-04         0.574      0.565\n",
      "   7.722E-04         0.377      0.350\n",
      "   8.850E-04         0.329      0.327\n",
      "   1.014E-03         0.861      0.817\n",
      "   1.162E-03         0.350      0.345\n",
      "   1.332E-03         0.234      0.245\n",
      "   1.526E-03         0.091      0.090\n",
      "   1.749E-03         0.281      0.288\n",
      "   2.005E-03         0.187      0.173\n",
      "   2.297E-03         0.113      0.103\n",
      "   2.633E-03         0.106      0.107\n",
      "   3.017E-03         0.112      0.106\n",
      "   3.458E-03         0.161      0.151\n",
      "   3.962E-03         0.094      0.090\n",
      "   4.541E-03         0.037      0.037\n",
      "   5.204E-03         0.057      0.056\n",
      "   5.964E-03         0.104      0.099\n",
      "   6.834E-03         0.068      0.064\n",
      "   7.832E-03         0.037      0.036\n",
      "   8.976E-03         0.045      0.045\n",
      "   1.029E-02         0.091      0.089\n",
      "   1.179E-02         0.056      0.054\n",
      "   1.351E-02         0.063      0.062\n",
      "   1.548E-02         0.051      0.050\n",
      "   1.774E-02         0.043      0.041\n",
      "   2.033E-02         0.045      0.044\n",
      "   2.330E-02         0.047      0.047\n",
      "   2.670E-02         0.028      0.029\n",
      "   3.060E-02         0.042      0.041\n",
      "   3.507E-02         0.038      0.039\n",
      "   4.019E-02         0.033      0.032\n",
      "   4.605E-02         0.027      0.027\n",
      "   5.278E-02         0.024      0.024\n",
      "   6.048E-02         0.030      0.029\n",
      "   6.931E-02         0.022      0.022\n",
      "   7.943E-02         2482658631695759655224923297773948764160.000      2512771820770411616558710118636282970112.000\n"
     ]
    }
   ],
   "source": [
    "# Varying the learning rate #\n",
    "n_epochs = 100\n",
    "batchsize = int(len(data.z_train)/10)\n",
    "learning_rates = np.logspace(-4, -1.1, 50)\n",
    "\n",
    "r2_lr = np.zeros((len(learning_rates),2))\n",
    "mse_lr = np.zeros((len(learning_rates),2))\n",
    "\n",
    "print(\"Table 2: Error measures when varying the learning rate used in OLS with SGD as training method.\")\n",
    "print(\"learning rate:    mse_train:   mse_test:\")\n",
    "for i in range(len(learning_rates)):\n",
    "    current_model = lr_gd.LinearRegressionwithGradientDescent(method=\"sgd\",alpha=0,n_epochs=n_epochs,batchsize=batchsize,learning_rate=learning_rates[i])\n",
    "    train_hat = current_model.fit(data.X_train,data.z_train)\n",
    "    test_hat = current_model.predict(data.X_test)\n",
    "    \n",
    "    mse_lr[i,:] = (mse(train_hat,data.z_train),mse(test_hat,data.z_test))\n",
    "    r2_lr[i,:] = (r2(train_hat,data.z_train),r2(test_hat,data.z_test))\n",
    "    print(f\"   %.3E         %.3f      %.3f\" %(learning_rates[i],mse_lr[i,0],mse_lr[i,1]))\n",
    "\n"
   ]
  },
  {
   "cell_type": "code",
   "execution_count": 42,
   "metadata": {
    "hideCode": true,
    "hidePrompt": false
   },
   "outputs": [
    {
     "data": {
      "image/png": "[encoded data removed]",
      "text/plain": [
       "<Figure size 576x432 with 1 Axes>"
      ]
     },
     "metadata": {
      "needs_background": "light"
     },
     "output_type": "display_data"
    },
    {
     "name": "stdout",
     "output_type": "stream",
     "text": [
      "Figure 12: The mean square error on the test set as the learning rate of the SGD method is increased.\n",
      "No regularization.\n"
     ]
    }
   ],
   "source": [
    "fig = plt.figure(figsize=(8, 6))\n",
    "#plt.plot(np.log10(learning_rates),mse_lr[:,0], color='#117733', label='$MSE_{train}$')\n",
    "plt.plot(np.log10(learning_rates),mse_lr[:,1], color='#CC6677', label='$MSE_{test}$')\n",
    "plt.xlabel('learning rate (log scale)')\n",
    "plt.ylabel('MSE')\n",
    "plt.title('MSE for varying learning rate')\n",
    "axes = plt.gca()\n",
    "axes.set_ylim([0, 5])\n",
    "plt.legend()\n",
    "plt.show()\n",
    "print(\"Figure 12: The mean square error on the test set as the learning rate of the SGD method is increased.\\nNo regularization.\")"
   ]
  },
  {
   "cell_type": "markdown",
   "metadata": {
    "hideCode": false,
    "hidePrompt": false
   },
   "source": [
    "The increased error for very small learning rate can be explained by the SGD method taking such small steps down the slope it does not reach a minimum, whereas with a too large learning rate the minimum is skipped altogether.\n",
    "\n",
    "We can let the learning rate vary according to a learning schedule as described in the methods section on stochastic gradient descent. Table 3 shows the results, and they are also plotted in figure 13."
   ]
  },
  {
   "cell_type": "code",
   "execution_count": 46,
   "metadata": {
    "hideCode": true,
    "hidePrompt": false
   },
   "outputs": [
    {
     "name": "stdout",
     "output_type": "stream",
     "text": [
      "Table 3: Error measures when letting the learning rate decay as the method advances. \n",
      "The parameters are t0 = 5 and t1 varies as seen in column 1.\n",
      "t1:   mse_train:   mse_test:\n",
      "39      229.239        224.572\n",
      "44      25.058        22.522\n",
      "49      0.178        0.191\n",
      "55      0.055        0.055\n",
      "62      0.074        0.075\n",
      "69      0.133        0.130\n",
      "78      0.150        0.147\n",
      "87      0.051        0.051\n",
      "98      0.178        0.175\n",
      "109      0.076        0.078\n",
      "122      0.086        0.089\n",
      "137      0.157        0.163\n",
      "154      0.189        0.183\n",
      "172      0.060        0.056\n",
      "193      0.068        0.065\n",
      "216      0.203        0.203\n",
      "241      0.148        0.152\n",
      "270      0.311        0.297\n",
      "303      0.132        0.131\n",
      "339      0.192        0.191\n",
      "379      0.224        0.211\n",
      "425      0.352        0.326\n",
      "475      0.236        0.216\n",
      "532      0.687        0.651\n",
      "596      0.486        0.438\n",
      "667      0.733        0.698\n",
      "747      0.440        0.445\n",
      "836      0.364        0.380\n",
      "936      0.603        0.594\n",
      "1048      1.294        1.260\n",
      "1173      1.580        1.378\n",
      "1313      0.826        0.827\n",
      "1470      0.626        0.615\n",
      "1645      1.158        1.151\n",
      "1842      2.987        2.990\n",
      "2061      4.774        4.897\n",
      "2308      2.315        2.309\n",
      "2583      6.714        6.436\n",
      "2892      2.881        2.849\n",
      "3237      3.104        3.190\n",
      "3623      2.656        2.594\n",
      "4056      3.451        3.405\n",
      "4540      3.975        3.784\n",
      "5083      5.774        5.687\n",
      "5689      1.418        1.395\n",
      "6369      7.579        7.618\n",
      "7129      10.030        10.125\n",
      "7980      3.516        3.394\n",
      "8933      3.615        3.744\n",
      "10000      6.233        6.288\n"
     ]
    }
   ],
   "source": [
    "import importlib\n",
    "importlib.reload(lr_gd)\n",
    "# Learning schedule #\n",
    "n_epochs = 10\n",
    "batchsize = int(len(data.z_train)/10)\n",
    "learning_rate = 0.05\n",
    "\n",
    "t0 = 5.0\n",
    "t1 = np.logspace(1.6, 4, 50)\n",
    "\n",
    "mse_ls = np.zeros((len(t1),2))\n",
    "\n",
    "print(\"Table 3: Error measures when letting the learning rate decay as the method advances. \\\n",
    "\\nThe parameters are t0 = 5 and t1 varies as seen in column 1.\")\n",
    "print(\"t1:   mse_train:   mse_test:\")\n",
    "for i in range(len(t1)):\n",
    "    current_model = lr_gd.LinearRegressionwithGradientDescent(method=\"sgd\",alpha=0,n_epochs=n_epochs,\n",
    "                                                              batchsize=batchsize,learning_rate=learning_rate,\n",
    "                                                              decay=True, t0=t0, t1=t1[i])\n",
    "    train_hat = current_model.fit(data.X_train,data.z_train)\n",
    "    test_hat = current_model.predict(data.X_test)\n",
    "    mse_ls[i,:] = (mse(train_hat,data.z_train),mse(test_hat,data.z_test))\n",
    "    print(f\"%d      %.3f        %.3f\" %(t1[i],mse_ls[i,0],mse_ls[i,1]))"
   ]
  },
  {
   "cell_type": "code",
   "execution_count": 48,
   "metadata": {
    "hideCode": true,
    "hidePrompt": false
   },
   "outputs": [
    {
     "data": {
      "image/png": "[encoded data removed]",
      "text/plain": [
       "<Figure size 576x432 with 1 Axes>"
      ]
     },
     "metadata": {
      "needs_background": "light"
     },
     "output_type": "display_data"
    },
    {
     "name": "stdout",
     "output_type": "stream",
     "text": [
      "Figure 13: The mean square error for varying learning schedule.\n"
     ]
    }
   ],
   "source": [
    "fig = plt.figure(figsize=(8, 6))\n",
    "#plt.plot(np.log10(t1),mse_ls[:,0], color='#117733', label='$MSE_{train}$')\n",
    "plt.plot(np.log10(t1),mse_ls[:,1], color='#CC6677', label='$MSE_{test}$')\n",
    "plt.xlabel('t1 (log scale)')\n",
    "plt.ylabel('MSE')\n",
    "axes = plt.gca()\n",
    "axes.set_ylim([0, 10])\n",
    "plt.title('MSE for varying the learning schedule, $t_0=5$')\n",
    "plt.legend() \n",
    "plt.show()\n",
    "print(\"Figure 13: The mean square error for varying learning schedule.\")"
   ]
  },
  {
   "cell_type": "markdown",
   "metadata": {
    "hideCode": false,
    "hidePrompt": false
   },
   "source": [
    "We see that a too small value for $\\texttt{t1}$ leads to the error exploding, but the error also startes rising for large t1. The sweet spot appears to be around $50<\\texttt{t1}<200$.\n",
    "\n",
    "We also want to explore how the error is affected by the number of epochs used. See figure 14 for a plot. As expected the error decreases as the number of epochs increases. At first there is a steep improvement, but as we reach a few hundred epochs the rate of improvement has slowed down markedly and we gain very little relative to the inrease in computational cost. Although there is some benefit to increasing to 1000+ epochs, whether that is worth it or not will depend on computation cost and prescicion requirements."
   ]
  },
  {
   "cell_type": "code",
   "execution_count": 50,
   "metadata": {
    "hideCode": true,
    "hideOutput": true,
    "hidePrompt": false
   },
   "outputs": [
    {
     "name": "stdout",
     "output_type": "stream",
     "text": [
      "Table 4: Error measures when varying the number of epochs used in the SGD method.\n",
      "n_epoch:  mse_train:   mse_test:\n",
      "  1        0.73866     0.66895\n",
      "  2        0.18794     0.18127\n",
      "  3        0.19750     0.19314\n",
      "  5        0.17758     0.17385\n",
      "  8        0.19946     0.18428\n",
      "  12        0.09483     0.09181\n",
      "  18        0.03562     0.03559\n",
      "  28        0.04833     0.04671\n",
      "  42        0.04542     0.04493\n",
      "  64        0.04782     0.04584\n",
      "  98        0.02362     0.02421\n",
      "  148        0.02641     0.02706\n",
      "  223        0.02175     0.02193\n",
      "  338        0.02073     0.02082\n",
      "  510        0.01976     0.01988\n",
      "  771        0.02009     0.02029\n",
      "  1165        0.01853     0.01851\n",
      "  1761        0.01921     0.01917\n",
      "  2660        0.01698     0.01705\n",
      "  4019        0.01547     0.01556\n",
      "  6072        0.01576     0.01562\n",
      "  9172        0.01489     0.01494\n",
      "  13856        0.01457     0.01475\n",
      "  20933        0.01430     0.01440\n",
      "  31622        0.01390     0.01409\n"
     ]
    }
   ],
   "source": [
    "# Varying the number of epochs #\n",
    "learning_rate = 0.05\n",
    "epochs = np.logspace(0.2, 4.5, 25)\n",
    "mse_epoch = np.zeros((len(epochs),2))\n",
    "print(\"Table 4: Error measures when varying the number of epochs used in the SGD method.\")\n",
    "print(\"n_epoch:  mse_train:   mse_test:\")\n",
    "for i in range(len(epochs)):\n",
    "    current_model = lr_gd.LinearRegressionwithGradientDescent(method=\"sgd\",alpha=0,n_epochs=int(epochs[i]),batchsize=batchsize,learning_rate=learning_rate)\n",
    "    train_hat = current_model.fit(data.X_train,data.z_train)\n",
    "    test_hat = current_model.predict(data.X_test)\n",
    "    mse_epoch[i,:] = (mse(train_hat,data.z_train),mse(test_hat,data.z_test))\n",
    "    print(f\"  %d        %.5f     %.5f\" %(epochs[i],mse_epoch[i,0],mse_epoch[i,1]))\n"
   ]
  },
  {
   "cell_type": "code",
   "execution_count": 52,
   "metadata": {
    "hideCode": true,
    "hidePrompt": false
   },
   "outputs": [
    {
     "data": {
      "image/png": "[encoded data removed]",
      "text/plain": [
       "<Figure size 576x432 with 1 Axes>"
      ]
     },
     "metadata": {
      "needs_background": "light"
     },
     "output_type": "display_data"
    },
    {
     "name": "stdout",
     "output_type": "stream",
     "text": [
      "Figure 14: The mean square error for increasing number of epochs.\n"
     ]
    }
   ],
   "source": [
    "fig = plt.figure(figsize=(8, 6))\n",
    "#plt.plot(np.log10(epochs),mse_epoch[:,0], color='#117733', label='$MSE_{train}$')\n",
    "plt.plot(np.log10(epochs),mse_epoch[:,1], color='#CC6677', label='$MSE_{test}$')\n",
    "plt.xlabel('Numper of epochs (log scale)')\n",
    "plt.ylabel('MSE')\n",
    "plt.title('MSE for varying the number of epochs')\n",
    "plt.legend() \n",
    "plt.show()\n",
    "print(\"Figure 14: The mean square error for increasing number of epochs.\")"
   ]
  },
  {
   "cell_type": "code",
   "execution_count": 59,
   "metadata": {
    "hideCode": true,
    "hideOutput": true,
    "hidePrompt": false
   },
   "outputs": [
    {
     "name": "stdout",
     "output_type": "stream",
     "text": [
      "Table 5: Error measures when batchsize of the SGD method.\n",
      "batchsize:  mse_train:   mse_test:\n",
      "   5         0.13254      0.13336\n",
      "   6         0.02580      0.02562\n",
      "   8         0.01903      0.01923\n",
      "   10         0.01875      0.01881\n",
      "   14         0.02013      0.02005\n",
      "   18         0.01788      0.01734\n",
      "   23         0.02405      0.02380\n",
      "   30         0.01768      0.01769\n",
      "   39         0.01686      0.01675\n",
      "   51         0.02071      0.02070\n",
      "   66         0.01826      0.01824\n",
      "   86         0.02165      0.02149\n",
      "   112         0.01659      0.01675\n",
      "   145         0.01878      0.01873\n",
      "   188         0.02134      0.02176\n",
      "   244         0.02371      0.02351\n",
      "   316         0.02273      0.02312\n",
      "   409         0.01970      0.01951\n",
      "   530         0.02804      0.02754\n",
      "   687         0.02270      0.02320\n",
      "   891         0.04366      0.04309\n",
      "   1154         0.03846      0.03949\n",
      "   1496         0.03877      0.03912\n",
      "   1938         0.03478      0.03615\n",
      "   2511         0.03583      0.03684\n"
     ]
    }
   ],
   "source": [
    "from sklearn.metrics import mean_squared_error\n",
    "from sklearn.metrics import r2_score\n",
    "# Varying the batch size #\n",
    "learning_rate = 0.05\n",
    "n_epoch = 100\n",
    "\n",
    "sizes = np.logspace(0.7, 3.4, 25)\n",
    "mse_batch = np.zeros((len(sizes),2))\n",
    "\n",
    "print(\"Table 5: Error measures when batchsize of the SGD method.\")\n",
    "print(\"batchsize:  mse_train:   mse_test:\")\n",
    "for i in range(len(sizes)):\n",
    "    current_model = lr_gd.LinearRegressionwithGradientDescent(method=\"sgd\",alpha=0,n_epochs=n_epoch,batchsize=int(sizes[i]),learning_rate=learning_rate)\n",
    "    train_hat = current_model.fit(data.X_train,data.z_train)\n",
    "    test_hat = current_model.predict(data.X_test)\n",
    "    mse_batch[i,:] = (mse(train_hat,data.z_train),mse(test_hat,data.z_test))\n",
    "    print(f\"   %d         %.5f      %.5f\" %(sizes[i],mse_batch[i,0],mse_batch[i,1]))"
   ]
  },
  {
   "cell_type": "code",
   "execution_count": 60,
   "metadata": {
    "hideCode": true,
    "hidePrompt": false
   },
   "outputs": [
    {
     "data": {
      "image/png": "[encoded data removed]",
      "text/plain": [
       "<Figure size 576x432 with 1 Axes>"
      ]
     },
     "metadata": {
      "needs_background": "light"
     },
     "output_type": "display_data"
    },
    {
     "name": "stdout",
     "output_type": "stream",
     "text": [
      "Figure 15: The mean square error for increasing the batch size.\n"
     ]
    }
   ],
   "source": [
    "fig = plt.figure(figsize=(8, 6))\n",
    "#plt.plot(np.log10(sizes),mse_batch[:,0], color='#117733', label='$MSE_{train}$')\n",
    "plt.plot(np.log10(sizes),mse_batch[:,1], color='#CC6677', label='$MSE_{test}$')\n",
    "plt.xlabel('batch size  (log scale)')\n",
    "plt.ylabel('MSE')\n",
    "plt.title('MSE for varying the batch size')\n",
    "plt.legend() \n",
    "plt.show()\n",
    "print(\"Figure 15: The mean square error for increasing the batch size.\")"
   ]
  },
  {
   "cell_type": "markdown",
   "metadata": {
    "hideCode": false,
    "hidePrompt": false
   },
   "source": [
    "As we see the error explodes for small batch size, but for any batchsize > 7 or so the performance is fairly stable at a minimum. As the batchsize grows very big the error starts to climb up, but even at about 1/3 of the size of the training set the error is small. The reason the error starte increasing here is that the number of epochs is constant, so with very large batchsize we perform fewer steps per epoch and the increased precision of the gradient calculation does not make up for this reduction in steps. For very small batchsizes the estimate for the gradient is simply too inaccurate, and we are not guaranteed to be moving down the gradient slope."
   ]
  },
  {
   "cell_type": "markdown",
   "metadata": {
    "hideCode": false,
    "hidePrompt": false
   },
   "source": [
    "We move on to look at ridge regression with gradient descent. I will be using k-fold cross validation to explore choices for the regression parameter $\\lambda$ and how this choice affects model performance. Figure 16 shows a heatmap of the results."
   ]
  },
  {
   "cell_type": "code",
   "execution_count": 62,
   "metadata": {
    "hideCode": true,
    "hideOutput": true,
    "hidePrompt": false
   },
   "outputs": [
    {
     "name": "stdout",
     "output_type": "stream",
     "text": [
      "Table 6: MSE for ridge regression with stochastic gradient descent on franke function with noise\n"
     ]
    },
    {
     "data": {
      "text/html": [
       "<div>\n",
       "<style scoped>\n",
       "    .dataframe tbody tr th:only-of-type {\n",
       "        vertical-align: middle;\n",
       "    }\n",
       "\n",
       "    .dataframe tbody tr th {\n",
       "        vertical-align: top;\n",
       "    }\n",
       "\n",
       "    .dataframe thead th {\n",
       "        text-align: right;\n",
       "    }\n",
       "</style>\n",
       "<table border=\"1\" class=\"dataframe\">\n",
       "  <thead>\n",
       "    <tr style=\"text-align: right;\">\n",
       "      <th></th>\n",
       "      <th>gma=1.0e-04</th>\n",
       "      <th>gma=1.7e-04</th>\n",
       "      <th>gma=2.8e-04</th>\n",
       "      <th>gma=4.6e-04</th>\n",
       "      <th>gma=7.7e-04</th>\n",
       "      <th>gma=1.3e-03</th>\n",
       "      <th>gma=2.2e-03</th>\n",
       "      <th>gma=3.6e-03</th>\n",
       "      <th>gma=6.0e-03</th>\n",
       "      <th>gma=1.0e-02</th>\n",
       "    </tr>\n",
       "  </thead>\n",
       "  <tbody>\n",
       "    <tr>\n",
       "      <th>lbd=1.0e-05</th>\n",
       "      <td>3.841254</td>\n",
       "      <td>1.932445</td>\n",
       "      <td>1.203666</td>\n",
       "      <td>0.715944</td>\n",
       "      <td>0.516028</td>\n",
       "      <td>2.908964e-01</td>\n",
       "      <td>1.925081e-01</td>\n",
       "      <td>1.608064e-01</td>\n",
       "      <td>9.652848e-02</td>\n",
       "      <td>6.286195e-02</td>\n",
       "    </tr>\n",
       "    <tr>\n",
       "      <th>lbd=1.8e-05</th>\n",
       "      <td>4.011811</td>\n",
       "      <td>1.944079</td>\n",
       "      <td>1.961985</td>\n",
       "      <td>1.104971</td>\n",
       "      <td>0.812574</td>\n",
       "      <td>4.761061e-01</td>\n",
       "      <td>1.671219e-01</td>\n",
       "      <td>9.316470e-02</td>\n",
       "      <td>8.086163e-02</td>\n",
       "      <td>5.744162e-02</td>\n",
       "    </tr>\n",
       "    <tr>\n",
       "      <th>lbd=3.2e-05</th>\n",
       "      <td>4.629211</td>\n",
       "      <td>2.489784</td>\n",
       "      <td>1.627817</td>\n",
       "      <td>1.096290</td>\n",
       "      <td>0.585827</td>\n",
       "      <td>2.637745e-01</td>\n",
       "      <td>1.710778e-01</td>\n",
       "      <td>1.042113e-01</td>\n",
       "      <td>1.016608e-01</td>\n",
       "      <td>6.036380e-02</td>\n",
       "    </tr>\n",
       "    <tr>\n",
       "      <th>lbd=5.6e-05</th>\n",
       "      <td>3.491269</td>\n",
       "      <td>2.121483</td>\n",
       "      <td>1.656017</td>\n",
       "      <td>1.396568</td>\n",
       "      <td>0.552813</td>\n",
       "      <td>3.670345e-01</td>\n",
       "      <td>1.370167e-01</td>\n",
       "      <td>1.354849e-01</td>\n",
       "      <td>8.497371e-02</td>\n",
       "      <td>7.539157e-02</td>\n",
       "    </tr>\n",
       "    <tr>\n",
       "      <th>lbd=1.0e-04</th>\n",
       "      <td>3.502692</td>\n",
       "      <td>2.154715</td>\n",
       "      <td>1.590976</td>\n",
       "      <td>1.261862</td>\n",
       "      <td>0.732945</td>\n",
       "      <td>4.093123e-01</td>\n",
       "      <td>1.980040e-01</td>\n",
       "      <td>1.055888e-01</td>\n",
       "      <td>7.026749e-02</td>\n",
       "      <td>5.546506e-02</td>\n",
       "    </tr>\n",
       "    <tr>\n",
       "      <th>lbd=1.8e-04</th>\n",
       "      <td>5.769006</td>\n",
       "      <td>2.012809</td>\n",
       "      <td>1.844779</td>\n",
       "      <td>1.668348</td>\n",
       "      <td>0.597612</td>\n",
       "      <td>3.475546e-01</td>\n",
       "      <td>1.824000e-01</td>\n",
       "      <td>8.575782e-02</td>\n",
       "      <td>9.769606e-02</td>\n",
       "      <td>7.807323e-02</td>\n",
       "    </tr>\n",
       "    <tr>\n",
       "      <th>lbd=3.2e-04</th>\n",
       "      <td>2.823850</td>\n",
       "      <td>2.403854</td>\n",
       "      <td>1.648311</td>\n",
       "      <td>1.003022</td>\n",
       "      <td>0.737686</td>\n",
       "      <td>3.121002e-01</td>\n",
       "      <td>2.207793e-01</td>\n",
       "      <td>8.763099e-02</td>\n",
       "      <td>8.062596e-02</td>\n",
       "      <td>6.622303e-02</td>\n",
       "    </tr>\n",
       "    <tr>\n",
       "      <th>lbd=5.6e-04</th>\n",
       "      <td>3.206965</td>\n",
       "      <td>2.133453</td>\n",
       "      <td>1.367251</td>\n",
       "      <td>0.885479</td>\n",
       "      <td>0.548825</td>\n",
       "      <td>3.050366e-01</td>\n",
       "      <td>1.638722e-01</td>\n",
       "      <td>1.182045e-01</td>\n",
       "      <td>1.017547e-01</td>\n",
       "      <td>7.436783e-02</td>\n",
       "    </tr>\n",
       "    <tr>\n",
       "      <th>lbd=1.0e-03</th>\n",
       "      <td>3.538441</td>\n",
       "      <td>1.418581</td>\n",
       "      <td>2.182905</td>\n",
       "      <td>0.852496</td>\n",
       "      <td>0.617868</td>\n",
       "      <td>2.422517e-01</td>\n",
       "      <td>2.692788e-01</td>\n",
       "      <td>7.649569e-02</td>\n",
       "      <td>9.522761e-02</td>\n",
       "      <td>6.743689e-02</td>\n",
       "    </tr>\n",
       "    <tr>\n",
       "      <th>lbd=1.8e-03</th>\n",
       "      <td>2.568345</td>\n",
       "      <td>1.968864</td>\n",
       "      <td>2.149615</td>\n",
       "      <td>1.118881</td>\n",
       "      <td>0.766507</td>\n",
       "      <td>3.376082e-01</td>\n",
       "      <td>2.287826e-01</td>\n",
       "      <td>1.332413e-01</td>\n",
       "      <td>1.053321e-01</td>\n",
       "      <td>4.981355e-02</td>\n",
       "    </tr>\n",
       "    <tr>\n",
       "      <th>lbd=3.2e-03</th>\n",
       "      <td>4.613631</td>\n",
       "      <td>3.072491</td>\n",
       "      <td>1.793478</td>\n",
       "      <td>1.280674</td>\n",
       "      <td>0.445610</td>\n",
       "      <td>2.192615e-01</td>\n",
       "      <td>2.078160e-01</td>\n",
       "      <td>1.214218e-01</td>\n",
       "      <td>1.020448e-01</td>\n",
       "      <td>5.598099e-02</td>\n",
       "    </tr>\n",
       "    <tr>\n",
       "      <th>lbd=5.6e-03</th>\n",
       "      <td>3.127622</td>\n",
       "      <td>1.892162</td>\n",
       "      <td>2.683898</td>\n",
       "      <td>0.868830</td>\n",
       "      <td>0.522410</td>\n",
       "      <td>2.689358e-01</td>\n",
       "      <td>1.895513e-01</td>\n",
       "      <td>1.420825e-01</td>\n",
       "      <td>7.860917e-02</td>\n",
       "      <td>9.211588e-02</td>\n",
       "    </tr>\n",
       "    <tr>\n",
       "      <th>lbd=1.0e-02</th>\n",
       "      <td>3.915963</td>\n",
       "      <td>1.694068</td>\n",
       "      <td>1.272101</td>\n",
       "      <td>1.409650</td>\n",
       "      <td>0.592614</td>\n",
       "      <td>3.455181e-01</td>\n",
       "      <td>1.360200e-01</td>\n",
       "      <td>8.122681e-02</td>\n",
       "      <td>5.712023e-02</td>\n",
       "      <td>6.313129e-02</td>\n",
       "    </tr>\n",
       "    <tr>\n",
       "      <th>lbd=1.8e-02</th>\n",
       "      <td>3.203402</td>\n",
       "      <td>1.674388</td>\n",
       "      <td>2.049761</td>\n",
       "      <td>1.395721</td>\n",
       "      <td>0.594551</td>\n",
       "      <td>5.077243e-01</td>\n",
       "      <td>1.986086e-01</td>\n",
       "      <td>1.187414e-01</td>\n",
       "      <td>6.202614e-02</td>\n",
       "      <td>7.383861e-02</td>\n",
       "    </tr>\n",
       "    <tr>\n",
       "      <th>lbd=3.2e-02</th>\n",
       "      <td>3.360084</td>\n",
       "      <td>2.706243</td>\n",
       "      <td>2.059036</td>\n",
       "      <td>1.210871</td>\n",
       "      <td>0.702226</td>\n",
       "      <td>2.492646e-01</td>\n",
       "      <td>1.337154e-01</td>\n",
       "      <td>1.452121e-01</td>\n",
       "      <td>1.413016e-01</td>\n",
       "      <td>9.148804e-02</td>\n",
       "    </tr>\n",
       "    <tr>\n",
       "      <th>lbd=5.6e-02</th>\n",
       "      <td>3.150718</td>\n",
       "      <td>2.878263</td>\n",
       "      <td>1.274227</td>\n",
       "      <td>1.112664</td>\n",
       "      <td>0.941079</td>\n",
       "      <td>4.007732e-01</td>\n",
       "      <td>1.975877e-01</td>\n",
       "      <td>1.295461e-01</td>\n",
       "      <td>1.041325e-01</td>\n",
       "      <td>1.623775e-01</td>\n",
       "    </tr>\n",
       "    <tr>\n",
       "      <th>lbd=1.0e-01</th>\n",
       "      <td>2.538817</td>\n",
       "      <td>3.140582</td>\n",
       "      <td>1.520075</td>\n",
       "      <td>0.705516</td>\n",
       "      <td>0.801829</td>\n",
       "      <td>2.428062e-01</td>\n",
       "      <td>2.017036e-01</td>\n",
       "      <td>1.390265e-01</td>\n",
       "      <td>2.504110e-01</td>\n",
       "      <td>2.485530e-01</td>\n",
       "    </tr>\n",
       "    <tr>\n",
       "      <th>lbd=1.8e-01</th>\n",
       "      <td>4.203664</td>\n",
       "      <td>1.456787</td>\n",
       "      <td>1.661009</td>\n",
       "      <td>1.766115</td>\n",
       "      <td>0.975625</td>\n",
       "      <td>5.461024e-01</td>\n",
       "      <td>4.002547e-01</td>\n",
       "      <td>2.662622e-01</td>\n",
       "      <td>3.887683e-01</td>\n",
       "      <td>5.460166e-01</td>\n",
       "    </tr>\n",
       "    <tr>\n",
       "      <th>lbd=3.2e-01</th>\n",
       "      <td>2.283149</td>\n",
       "      <td>2.680680</td>\n",
       "      <td>0.898069</td>\n",
       "      <td>1.683035</td>\n",
       "      <td>0.875246</td>\n",
       "      <td>9.578957e-01</td>\n",
       "      <td>3.760904e-01</td>\n",
       "      <td>6.906351e-01</td>\n",
       "      <td>1.120571e+00</td>\n",
       "      <td>4.873155e+00</td>\n",
       "    </tr>\n",
       "    <tr>\n",
       "      <th>lbd=5.6e-01</th>\n",
       "      <td>5.067729</td>\n",
       "      <td>1.538421</td>\n",
       "      <td>1.869758</td>\n",
       "      <td>1.414674</td>\n",
       "      <td>1.494896</td>\n",
       "      <td>6.096434e-01</td>\n",
       "      <td>1.390511e+00</td>\n",
       "      <td>9.459761e-01</td>\n",
       "      <td>1.387202e+01</td>\n",
       "      <td>2.315409e+02</td>\n",
       "    </tr>\n",
       "    <tr>\n",
       "      <th>lbd=1.0e+00</th>\n",
       "      <td>2.816461</td>\n",
       "      <td>2.530099</td>\n",
       "      <td>2.986345</td>\n",
       "      <td>1.967851</td>\n",
       "      <td>2.487192</td>\n",
       "      <td>2.066678e+00</td>\n",
       "      <td>6.668539e+00</td>\n",
       "      <td>2.316543e+01</td>\n",
       "      <td>9.050978e+02</td>\n",
       "      <td>2.392983e+05</td>\n",
       "    </tr>\n",
       "    <tr>\n",
       "      <th>lbd=1.8e+00</th>\n",
       "      <td>4.311304</td>\n",
       "      <td>2.665835</td>\n",
       "      <td>2.362641</td>\n",
       "      <td>4.565287</td>\n",
       "      <td>8.065417</td>\n",
       "      <td>1.791950e+01</td>\n",
       "      <td>4.655071e+01</td>\n",
       "      <td>2.131865e+03</td>\n",
       "      <td>1.763401e+06</td>\n",
       "      <td>6.368190e+10</td>\n",
       "    </tr>\n",
       "    <tr>\n",
       "      <th>lbd=3.2e+00</th>\n",
       "      <td>3.846769</td>\n",
       "      <td>3.115336</td>\n",
       "      <td>2.979702</td>\n",
       "      <td>7.450598</td>\n",
       "      <td>45.276364</td>\n",
       "      <td>3.527688e+02</td>\n",
       "      <td>1.016687e+04</td>\n",
       "      <td>6.064686e+06</td>\n",
       "      <td>2.931072e+11</td>\n",
       "      <td>1.472776e+20</td>\n",
       "    </tr>\n",
       "    <tr>\n",
       "      <th>lbd=5.6e+00</th>\n",
       "      <td>10.318426</td>\n",
       "      <td>9.087080</td>\n",
       "      <td>13.181187</td>\n",
       "      <td>43.490882</td>\n",
       "      <td>649.575560</td>\n",
       "      <td>2.276013e+04</td>\n",
       "      <td>3.351530e+07</td>\n",
       "      <td>7.967889e+12</td>\n",
       "      <td>7.955747e+21</td>\n",
       "      <td>5.462981e+36</td>\n",
       "    </tr>\n",
       "    <tr>\n",
       "      <th>lbd=1.0e+01</th>\n",
       "      <td>26.724786</td>\n",
       "      <td>22.856019</td>\n",
       "      <td>78.487575</td>\n",
       "      <td>1829.787698</td>\n",
       "      <td>168007.604870</td>\n",
       "      <td>2.211155e+08</td>\n",
       "      <td>1.037501e+14</td>\n",
       "      <td>4.070309e+23</td>\n",
       "      <td>1.588867e+39</td>\n",
       "      <td>5.300900e+64</td>\n",
       "    </tr>\n",
       "  </tbody>\n",
       "</table>\n",
       "</div>"
      ],
      "text/plain": [
       "             gma=1.0e-04  gma=1.7e-04  gma=2.8e-04  gma=4.6e-04  \\\n",
       "lbd=1.0e-05     3.841254     1.932445     1.203666     0.715944   \n",
       "lbd=1.8e-05     4.011811     1.944079     1.961985     1.104971   \n",
       "lbd=3.2e-05     4.629211     2.489784     1.627817     1.096290   \n",
       "lbd=5.6e-05     3.491269     2.121483     1.656017     1.396568   \n",
       "lbd=1.0e-04     3.502692     2.154715     1.590976     1.261862   \n",
       "lbd=1.8e-04     5.769006     2.012809     1.844779     1.668348   \n",
       "lbd=3.2e-04     2.823850     2.403854     1.648311     1.003022   \n",
       "lbd=5.6e-04     3.206965     2.133453     1.367251     0.885479   \n",
       "lbd=1.0e-03     3.538441     1.418581     2.182905     0.852496   \n",
       "lbd=1.8e-03     2.568345     1.968864     2.149615     1.118881   \n",
       "lbd=3.2e-03     4.613631     3.072491     1.793478     1.280674   \n",
       "lbd=5.6e-03     3.127622     1.892162     2.683898     0.868830   \n",
       "lbd=1.0e-02     3.915963     1.694068     1.272101     1.409650   \n",
       "lbd=1.8e-02     3.203402     1.674388     2.049761     1.395721   \n",
       "lbd=3.2e-02     3.360084     2.706243     2.059036     1.210871   \n",
       "lbd=5.6e-02     3.150718     2.878263     1.274227     1.112664   \n",
       "lbd=1.0e-01     2.538817     3.140582     1.520075     0.705516   \n",
       "lbd=1.8e-01     4.203664     1.456787     1.661009     1.766115   \n",
       "lbd=3.2e-01     2.283149     2.680680     0.898069     1.683035   \n",
       "lbd=5.6e-01     5.067729     1.538421     1.869758     1.414674   \n",
       "lbd=1.0e+00     2.816461     2.530099     2.986345     1.967851   \n",
       "lbd=1.8e+00     4.311304     2.665835     2.362641     4.565287   \n",
       "lbd=3.2e+00     3.846769     3.115336     2.979702     7.450598   \n",
       "lbd=5.6e+00    10.318426     9.087080    13.181187    43.490882   \n",
       "lbd=1.0e+01    26.724786    22.856019    78.487575  1829.787698   \n",
       "\n",
       "               gma=7.7e-04   gma=1.3e-03   gma=2.2e-03   gma=3.6e-03  \\\n",
       "lbd=1.0e-05       0.516028  2.908964e-01  1.925081e-01  1.608064e-01   \n",
       "lbd=1.8e-05       0.812574  4.761061e-01  1.671219e-01  9.316470e-02   \n",
       "lbd=3.2e-05       0.585827  2.637745e-01  1.710778e-01  1.042113e-01   \n",
       "lbd=5.6e-05       0.552813  3.670345e-01  1.370167e-01  1.354849e-01   \n",
       "lbd=1.0e-04       0.732945  4.093123e-01  1.980040e-01  1.055888e-01   \n",
       "lbd=1.8e-04       0.597612  3.475546e-01  1.824000e-01  8.575782e-02   \n",
       "lbd=3.2e-04       0.737686  3.121002e-01  2.207793e-01  8.763099e-02   \n",
       "lbd=5.6e-04       0.548825  3.050366e-01  1.638722e-01  1.182045e-01   \n",
       "lbd=1.0e-03       0.617868  2.422517e-01  2.692788e-01  7.649569e-02   \n",
       "lbd=1.8e-03       0.766507  3.376082e-01  2.287826e-01  1.332413e-01   \n",
       "lbd=3.2e-03       0.445610  2.192615e-01  2.078160e-01  1.214218e-01   \n",
       "lbd=5.6e-03       0.522410  2.689358e-01  1.895513e-01  1.420825e-01   \n",
       "lbd=1.0e-02       0.592614  3.455181e-01  1.360200e-01  8.122681e-02   \n",
       "lbd=1.8e-02       0.594551  5.077243e-01  1.986086e-01  1.187414e-01   \n",
       "lbd=3.2e-02       0.702226  2.492646e-01  1.337154e-01  1.452121e-01   \n",
       "lbd=5.6e-02       0.941079  4.007732e-01  1.975877e-01  1.295461e-01   \n",
       "lbd=1.0e-01       0.801829  2.428062e-01  2.017036e-01  1.390265e-01   \n",
       "lbd=1.8e-01       0.975625  5.461024e-01  4.002547e-01  2.662622e-01   \n",
       "lbd=3.2e-01       0.875246  9.578957e-01  3.760904e-01  6.906351e-01   \n",
       "lbd=5.6e-01       1.494896  6.096434e-01  1.390511e+00  9.459761e-01   \n",
       "lbd=1.0e+00       2.487192  2.066678e+00  6.668539e+00  2.316543e+01   \n",
       "lbd=1.8e+00       8.065417  1.791950e+01  4.655071e+01  2.131865e+03   \n",
       "lbd=3.2e+00      45.276364  3.527688e+02  1.016687e+04  6.064686e+06   \n",
       "lbd=5.6e+00     649.575560  2.276013e+04  3.351530e+07  7.967889e+12   \n",
       "lbd=1.0e+01  168007.604870  2.211155e+08  1.037501e+14  4.070309e+23   \n",
       "\n",
       "              gma=6.0e-03   gma=1.0e-02  \n",
       "lbd=1.0e-05  9.652848e-02  6.286195e-02  \n",
       "lbd=1.8e-05  8.086163e-02  5.744162e-02  \n",
       "lbd=3.2e-05  1.016608e-01  6.036380e-02  \n",
       "lbd=5.6e-05  8.497371e-02  7.539157e-02  \n",
       "lbd=1.0e-04  7.026749e-02  5.546506e-02  \n",
       "lbd=1.8e-04  9.769606e-02  7.807323e-02  \n",
       "lbd=3.2e-04  8.062596e-02  6.622303e-02  \n",
       "lbd=5.6e-04  1.017547e-01  7.436783e-02  \n",
       "lbd=1.0e-03  9.522761e-02  6.743689e-02  \n",
       "lbd=1.8e-03  1.053321e-01  4.981355e-02  \n",
       "lbd=3.2e-03  1.020448e-01  5.598099e-02  \n",
       "lbd=5.6e-03  7.860917e-02  9.211588e-02  \n",
       "lbd=1.0e-02  5.712023e-02  6.313129e-02  \n",
       "lbd=1.8e-02  6.202614e-02  7.383861e-02  \n",
       "lbd=3.2e-02  1.413016e-01  9.148804e-02  \n",
       "lbd=5.6e-02  1.041325e-01  1.623775e-01  \n",
       "lbd=1.0e-01  2.504110e-01  2.485530e-01  \n",
       "lbd=1.8e-01  3.887683e-01  5.460166e-01  \n",
       "lbd=3.2e-01  1.120571e+00  4.873155e+00  \n",
       "lbd=5.6e-01  1.387202e+01  2.315409e+02  \n",
       "lbd=1.0e+00  9.050978e+02  2.392983e+05  \n",
       "lbd=1.8e+00  1.763401e+06  6.368190e+10  \n",
       "lbd=3.2e+00  2.931072e+11  1.472776e+20  \n",
       "lbd=5.6e+00  7.955747e+21  5.462981e+36  \n",
       "lbd=1.0e+01  1.588867e+39  5.300900e+64  "
      ]
     },
     "metadata": {},
     "output_type": "display_data"
    }
   ],
   "source": [
    "importlib.reload(lr_gd)\n",
    "import pandas as pd\n",
    "n_epoch = 100\n",
    "\n",
    "lambdas = np.logspace(-5, 1, 25)\n",
    "gammas = np.logspace(-4, -2, 10)\n",
    "mse_ridge = np.zeros((len(lambdas),len(gammas)))\n",
    "for i in range(len(lambdas)):\n",
    "    for j in range(len(gammas)):\n",
    "        current_model = lr_gd.LinearRegressionwithGradientDescent(method=\"sgd\",alpha=lambdas[i],n_epochs=n_epoch,\n",
    "                                                                  batchsize=batchsize,learning_rate=gammas[j])\n",
    "        mse_ridge[i,j], r2_mean = current_model.k_fold_cv(data.X_train,data.z_train,k=5, shuffle=True)\n",
    "\n",
    "lambda_label = ['lbd=%.1e'%i for i in lambdas]\n",
    "gamma_label = ['gma=%.1e'%i for i in gammas]\n",
    "mse_rigde_df = pd.DataFrame(mse_ridge,index=lambda_label,columns=gamma_label)\n",
    "print(\"Table 6: MSE for ridge regression with stochastic gradient descent on franke function with noise\")\n",
    "display(mse_rigde_df)"
   ]
  },
  {
   "cell_type": "code",
   "execution_count": 71,
   "metadata": {
    "hideCode": true,
    "hidePrompt": false
   },
   "outputs": [
    {
     "data": {
      "text/plain": [
       "<AxesSubplot:>"
      ]
     },
     "execution_count": 71,
     "metadata": {},
     "output_type": "execute_result"
    },
    {
     "data": {
      "image/png": "[encoded data removed]",
      "text/plain": [
       "<Figure size 864x504 with 2 Axes>"
      ]
     },
     "metadata": {
      "needs_background": "light"
     },
     "output_type": "display_data"
    }
   ],
   "source": [
    "import seaborn as sns\n",
    "fig, ax = plt.subplots(figsize = (12, 7))\n",
    "#mse_rigde_df.style.background_gradient(cmap ='coolwarm').set_properties(**{'font-size': '12px'}) \n",
    "sns.heatmap(mse_rigde_df, vmin=0,vmax=5,center=1, annot = True) "
   ]
  },
  {
   "cell_type": "code",
   "execution_count": 72,
   "metadata": {
    "hideCode": true
   },
   "outputs": [
    {
     "name": "stdout",
     "output_type": "stream",
     "text": [
      "Figure 16: A heatmap to illustrate how the mean square error of the ridge regression model with\n",
      "stochastic gradient descent depends on the choice of ridge parameter lambda and learning rate gamma.\n"
     ]
    }
   ],
   "source": [
    "print(\"Figure 16: A heatmap to illustrate how the mean square error of the ridge regression model with\\\n",
    "\\nstochastic gradient descent depends on the choice of ridge parameter lambda and learning rate gamma.\")"
   ]
  },
  {
   "cell_type": "markdown",
   "metadata": {
    "hideCode": false,
    "hidePrompt": false
   },
   "source": [
    "We see from figure 16 that for a small enough $\\lambda$, the MSE is fairly robust to the choice of the learning rate $\\gamma$. As $\\lambda$ grows however, the range of $\\gamma$-values giving a small MSE narrows. "
   ]
  },
  {
   "cell_type": "markdown",
   "metadata": {
    "hideCode": false,
    "hidePrompt": false
   },
   "source": [
    "Now that we have found some optimal parameters for SGD on this particular problem, let us compare our model performance with that of scikit-learn's $\\texttt{SGDRegressor}$."
   ]
  },
  {
   "cell_type": "code",
   "execution_count": 66,
   "metadata": {},
   "outputs": [
    {
     "name": "stdout",
     "output_type": "stream",
     "text": [
      "Table 7: Comparing my own ridge regression model with SGD with SGDRegressor from scikit-learn.\n"
     ]
    }
   ],
   "source": [
    "print(\"Table 7: Comparing my own ridge regression model with SGD with SGDRegressor from scikit-learn.\")"
   ]
  },
  {
   "cell_type": "code",
   "execution_count": 585,
   "metadata": {
    "hideCode": true,
    "hidePrompt": false
   },
   "outputs": [
    {
     "name": "stdout",
     "output_type": "stream",
     "text": [
      "SGDRegressor: mse=0.0308    r2=0.6509\n",
      "Own ridge SGD: mse=0.0164    r2=0.8146\n"
     ]
    }
   ],
   "source": [
    "# Using the same parameters\n",
    "lmd = 0.0004\n",
    "lr = 0.02\n",
    "epochs = 1000\n",
    "\n",
    "# scikit-learn's SGD regressor\n",
    "from sklearn.linear_model import SGDRegressor\n",
    "sklearn_sgd_model = SGDRegressor(loss='squared_loss', penalty='l2', alpha=lmd, fit_intercept=False, max_iter=epochs,\n",
    "                                 shuffle=True, random_state=93, learning_rate='constant', eta0=lr)\n",
    "sklearn_sgd_model.fit(data.X_train, data.z_train)\n",
    "sklearn_sgd_test_pred = sklearn_sgd_model.predict(data.X_test)\n",
    "print(f\"SGDRegressor: mse=%.4f    r2=%0.4f\" %(mse(sklearn_sgd_test_pred,data.z_test), \n",
    "                                              r2(sklearn_sgd_test_pred,data.z_test)))\n",
    "# My own linear ridge regression with SGD\n",
    "sgd_ridge_model = lr_gd.LinearRegressionwithGradientDescent(method=\"sgd\",alpha=lmd,n_epochs=n_epoch,\n",
    "                                                            batchsize=10,learning_rate=lr)\n",
    "sgd_train_pred = sgd_ridge_model.fit(data.X_train,data.z_train)\n",
    "sgd_test_pred = sgd_ridge_model.predict(data.X_test)\n",
    "print(f\"Own ridge SGD: mse=%.4f    r2=%0.4f\" %(mse(sgd_test_pred,data.z_test), \n",
    "                                              r2(sgd_test_pred,data.z_test)))"
   ]
  },
  {
   "cell_type": "markdown",
   "metadata": {
    "hideCode": false,
    "hidePrompt": false
   },
   "source": [
    "I see the error is actually better for my implementation using these parameter, although the method is noticeably slower. The improved error and at least part of the speed improvement is likely due to $\\texttt{SGDRegressor}$ calculating the gradient on only one datapoint at a time, instead of a batch[3]. This gives a noisier/more erratic movement towards the minimum."
   ]
  },
  {
   "cell_type": "markdown",
   "metadata": {
    "hideCode": false,
    "hidePrompt": false
   },
   "source": [
    "### Neural Network - Regression\n",
    "\n",
    "The second of the overarching goals in this project was to use a feed forward neural network with backpropagation (FFNN) to model the Franke function. We have used the sigmoid function as activation function for the hidden layers, while the output layer has no activation function as I want the actual, continuous values, i.e. not translated into a binary yes/no value or a set of classes. Squared loss is used as cost function.\n",
    "\n",
    "The network is set up with a number of input nodes matching the number of terms in the design matrix $\\texttt{X}$, and just one output node as we only have one output, z. \n",
    "\n",
    "I try out a few different configurations for the hidden layer(s). Figure 17 shows a plot of the resulting $r^2$ scores, all using 100 epochs and a batchsixe of 50. The configurations correspond to the following:\n",
    "* config1 = [21,1]\n",
    "* config2 = [21,5,1]\n",
    "* config3 = [21,10,1]\n",
    "* config4 = [21,5,2,1]\n",
    "* config5 = [21,5,5,1]\n",
    "* config6 = [21,10,5,1]\n",
    "* config7 = [21,10,10,1]\n",
    "* config8 = [21,15,10,5,1]\n",
    "\n",
    "which shows a list of the number of nodes per layer from input layer, via all the hidden layers, ending with the output layer. The model is tested on a set of learning rates, but the learning rate where the error explodes is different for the various configurations. I have plotted only the sensible values, so when the lines in figure 17 stop that means their error exploded for the next value of the learning rate $\\gamma$."
   ]
  },
  {
   "cell_type": "code",
   "execution_count": 69,
   "metadata": {},
   "outputs": [],
   "source": [
    "import NeuralNet as nn\n",
    "importlib.reload(nn)\n",
    "\n",
    "# For trying out a few network configurations #\n",
    "def test_network_configuration(layers_list,learning_rates,seed=135):\n",
    "    r2_score = np.zeros(len(learning_rates))\n",
    "    for i in range(len(learning_rates)):\n",
    "        model = nn.NeuralNet(layers_list=layers_list, h_af='sigmoid', o_af='none', cost='cross-entropy', lmda=0, seed=seed)\n",
    "        model.sgd(X=data.X_train, y=data.z_train, n_epochs=100, batchsize=50, learning_rate=learning_rates[i], print_epochs=False)\n",
    "        pred = model.predict(data.X_test)\n",
    "        r2_score[i] = nn.r2(pred,data.z_test)\n",
    "        if(np.isnan(r2_score[i])):\n",
    "            print('Exiting early due to \\'nan\\'.')\n",
    "            break\n",
    "        print(\"done with \", i, \": \",learning_rates[i],\"  r2:\", r2_score[i])\n",
    "    return r2_score\n"
   ]
  },
  {
   "cell_type": "code",
   "execution_count": 70,
   "metadata": {
    "hideCode": true,
    "hideOutput": true,
    "hidePrompt": false
   },
   "outputs": [
    {
     "name": "stdout",
     "output_type": "stream",
     "text": [
      "*** config1 ***\n",
      "done with  0 :  0.01   r2: 0.761854667566996\n",
      "done with  1 :  0.05   r2: 0.7673911269649689\n",
      "done with  2 :  0.1   r2: 0.7735394330606287\n"
     ]
    },
    {
     "name": "stderr",
     "output_type": "stream",
     "text": [
      "../Code\\NeuralNet.py:104: RuntimeWarning: overflow encountered in add\n",
      "  nabla_w = [nw+dnw for nw, dnw in zip(nabla_w, dw_list)]\n"
     ]
    },
    {
     "name": "stdout",
     "output_type": "stream",
     "text": [
      "Exiting early due to 'nan'.\n",
      "*** config2 ***\n",
      "done with  0 :  0.01   r2: 0.7072969461119085\n",
      "done with  1 :  0.05   r2: 0.7746813479541343\n",
      "done with  2 :  0.1   r2: 0.8132158347677493\n",
      "done with  3 :  0.5   r2: 0.8580437348591368\n",
      "done with  4 :  0.75   r2: 0.8647671776185841\n",
      "done with  5 :  1.0   r2: 0.8654284630643074\n"
     ]
    },
    {
     "name": "stderr",
     "output_type": "stream",
     "text": [
      "../Code\\NeuralNet.py:260: RuntimeWarning: overflow encountered in exp\n",
      "  return 1./(1+np.exp(-z))\n",
      "../Code\\NeuralNet.py:151: RuntimeWarning: invalid value encountered in multiply\n",
      "  delta = np.dot(self.weights[-l+1].T, delta)*self.h_af_derivative(z)\n"
     ]
    },
    {
     "name": "stdout",
     "output_type": "stream",
     "text": [
      "Exiting early due to 'nan'.\n",
      "*** config3 ***\n",
      "done with  0 :  0.01   r2: 0.7351632592303365\n",
      "done with  1 :  0.05   r2: 0.7871916134467114\n",
      "done with  2 :  0.1   r2: 0.8131384185680848\n",
      "done with  3 :  0.5   r2: 0.8503120063594798\n",
      "done with  4 :  0.75   r2: 0.8466549356351774\n",
      "done with  5 :  1.0   r2: 0.797946090119066\n"
     ]
    },
    {
     "name": "stderr",
     "output_type": "stream",
     "text": [
      "../Code\\NeuralNet.py:260: RuntimeWarning: overflow encountered in exp\n",
      "  return 1./(1+np.exp(-z))\n",
      "../Code\\NeuralNet.py:151: RuntimeWarning: invalid value encountered in multiply\n",
      "  delta = np.dot(self.weights[-l+1].T, delta)*self.h_af_derivative(z)\n"
     ]
    },
    {
     "name": "stdout",
     "output_type": "stream",
     "text": [
      "Exiting early due to 'nan'.\n",
      "*** config4 ***\n",
      "done with  0 :  0.01   r2: 0.5395666819201383\n",
      "done with  1 :  0.05   r2: 0.743980563195958\n",
      "done with  2 :  0.1   r2: 0.7843728641838712\n",
      "done with  3 :  0.5   r2: 0.8609954840666533\n",
      "done with  4 :  0.75   r2: 0.8612323736893558\n",
      "done with  5 :  1.0   r2: 0.8612944989856348\n",
      "done with  6 :  2.0   r2: -1887.1257950549711\n",
      "*** config5 ***\n",
      "done with  0 :  0.01   r2: 0.6616165118384221\n",
      "done with  1 :  0.05   r2: 0.7548740398091206\n",
      "done with  2 :  0.1   r2: 0.7867048904194553\n",
      "done with  3 :  0.5   r2: 0.8462229260010609\n",
      "done with  4 :  0.75   r2: 0.8560237511735784\n",
      "done with  5 :  1.0   r2: 0.8370345056988943\n",
      "done with  6 :  2.0   r2: -2480.2075095157797\n",
      "*** config6 ***\n",
      "done with  0 :  0.01   r2: 0.615194612460285\n",
      "done with  1 :  0.05   r2: 0.733152768161288\n",
      "done with  2 :  0.1   r2: 0.775394208256324\n",
      "done with  3 :  0.5   r2: 0.866842850534594\n",
      "done with  4 :  0.75   r2: 0.8745172426564717\n",
      "done with  5 :  1.0   r2: 0.874044300048229\n",
      "done with  6 :  2.0   r2: -3290.8316401496936\n",
      "*** config7 ***\n",
      "done with  0 :  0.01   r2: 0.6084957944786389\n",
      "done with  1 :  0.05   r2: 0.7546611700292492\n",
      "done with  2 :  0.1   r2: 0.7857030902469596\n",
      "done with  3 :  0.5   r2: 0.7851883074656694\n",
      "done with  4 :  0.75   r2: 0.8584673206440834\n",
      "done with  5 :  1.0   r2: 0.7664951890768821\n",
      "done with  6 :  2.0   r2: -4371.257029522184\n",
      "*** config8 ***\n",
      "done with  0 :  0.01   r2: 0.3277886237197756\n",
      "done with  1 :  0.05   r2: 0.7206866393757139\n",
      "done with  2 :  0.1   r2: 0.763458377765917\n",
      "done with  3 :  0.5   r2: 0.8561812971757478\n",
      "done with  4 :  0.75   r2: 0.8414561757617756\n",
      "done with  5 :  1.0   r2: 0.8295904824144615\n",
      "done with  6 :  2.0   r2: -2818.3895977455654\n"
     ]
    },
    {
     "data": {
      "image/png": "[encoded data removed]",
      "text/plain": [
       "<Figure size 720x576 with 1 Axes>"
      ]
     },
     "metadata": {
      "needs_background": "light"
     },
     "output_type": "display_data"
    }
   ],
   "source": [
    "config1 = [21,1]\n",
    "config2 = [21,5,1]\n",
    "config3 = [21,10,1]\n",
    "config4 = [21,5,2,1]\n",
    "config5 = [21,5,5,1]\n",
    "config6 = [21,10,5,1]\n",
    "config7 = [21,10,10,1]\n",
    "config8 = [21,15,10,5,1]\n",
    "configs = [config1,config2,config3,config4,config5,config6,config7,config8]\n",
    "\n",
    "learning_rates = np.array([0.01,0.05,0.1,0.5,0.75,1.0,2.0])\n",
    "fig = plt.figure(figsize=(10, 8))\n",
    "for i in range(len(configs)):\n",
    "    print(f'*** config{i+1} ***')\n",
    "    r2_score = test_network_configuration(configs[i],learning_rates)\n",
    "    plt.plot(np.log10(learning_rates),r2_score, label=f'config{i+1}')\n",
    "\n",
    "axes = plt.gca()\n",
    "axes.set_ylim([0.4, 0.9])\n",
    "plt.xlabel('learning rate (log scale)')\n",
    "plt.ylabel('R2 score')\n",
    "plt.title('R2 score for varying network architectures')\n",
    "plt.legend()\n",
    "plt.show()"
   ]
  },
  {
   "cell_type": "markdown",
   "metadata": {},
   "source": [
    "<img src=\"../Results/r2_architecture_regression5.png\" width=600 height=450 />\n",
    "Figure 17: R2 score on test set for a selection of architectures for the neural network. For all models the\\n\\\n",
    "logistic sigmoid is used in the hidden layers, cross entropy is the cost function. The models are fitted over 100 \\n\\\n",
    "epochs with a batchsize of 50."
   ]
  },
  {
   "cell_type": "markdown",
   "metadata": {},
   "source": [
    "Of the network architectures tried, the optimal seems to be configuration number 6 with two hidden layers, one with 10 nodes and one with 5. We will use this configuration fronmhere on.\n",
    "\n",
    "Next up we explore how this FFNN model is affected by the learning rate, see figure 18. We see the same behavior as in our linear model. The performance is poor when the learning rate is too small and improves with increasing learning rate up to the point where it crashes as the learning rate becomes too big."
   ]
  },
  {
   "cell_type": "code",
   "execution_count": null,
   "metadata": {
    "hideCode": false
   },
   "outputs": [],
   "source": [
    "lrs = np.array([0.001,0.005,0.01,0.05,0.1,0.5,0.75,1.0,2.0])\n",
    "error_lr = np.zeros((len(lrs),2))\n",
    "for i in range(len(lrs)):\n",
    "    model = nn.NeuralNet(layers_list=[21,10,5,1], h_af='sigmoid', o_af='none', cost='cross-entropy', lmda=0, metric='r2')\n",
    "    model.sgd(X=data.X_train, y=data.z_train, n_epochs=100, batchsize=50, learning_rate=lrs[i],print_epochs=False)\n",
    "    pred = model.predict(data.X_test)\n",
    "    error_lr[i][0] = nn.r2(pred,data.z_test)\n",
    "    error_lr[i][1] = nn.mse(pred,data.z_test)\n"
   ]
  },
  {
   "cell_type": "code",
   "execution_count": null,
   "metadata": {
    "hideCode": false,
    "hidePrompt": false
   },
   "outputs": [],
   "source": [
    "fig = plt.figure(figsize=(8, 6))\n",
    "#plt.plot(np.log10(lrs),error_lr[:,1], color='#117733', label='mse (test set)')\n",
    "plt.plot(np.log10(lrs),error_lr[:,0], color='#CC6677', label='r2 (test set)')\n",
    "axes = plt.gca()\n",
    "axes.set_ylim([0, 1])\n",
    "plt.xlabel('learning rate (log scale)')\n",
    "plt.ylabel('R2 score')\n",
    "plt.title('R2 score for increasing learning rate')\n",
    "plt.legend()\n",
    "plt.show()"
   ]
  },
  {
   "cell_type": "code",
   "execution_count": 73,
   "metadata": {
    "hideCode": true
   },
   "outputs": [
    {
     "name": "stdout",
     "output_type": "stream",
     "text": [
      "Figure 18: How the performance of the FFNN regression model on the franke data changes with the learning rate. \n",
      "One hidden layer with 10 nodes, and one with 5. The batchsize is 50 and the number of epochs is 100. The hidden \n",
      "layer uses the sigmoid activation function and the output layer uses no activation function.\n"
     ]
    }
   ],
   "source": [
    "print('Figure 18: How the performance of the FFNN regression model on the franke data changes with the learning rate. \\n\\\n",
    "One hidden layer with 10 nodes, and one with 5. The batchsize is 50 and the number of epochs is 100. The hidden \\n\\\n",
    "layer uses the sigmoid activation function and the output layer uses no activation function.')"
   ]
  },
  {
   "cell_type": "code",
   "execution_count": null,
   "metadata": {
    "hideCode": false,
    "hideOutput": true,
    "hidePrompt": false
   },
   "outputs": [],
   "source": [
    "n_epochs = np.array([1,2,5,10,25,50,100,250,500,1000,2500])\n",
    "error_epoch = np.zeros((len(n_epochs),2))\n",
    "for i in range(len(n_epochs)):\n",
    "    model = nn.NeuralNet(layers_list=[21,10,5,1], h_af='sigmoid', o_af='none', cost='cross-entropy', lmda=0, metric='r2')\n",
    "    model.sgd(X=data.X_train, y=data.z_train, n_epochs=n_epochs[i], batchsize=100, learning_rate=0.8, print_epochs=False)\n",
    "    pred = model.predict(data.X_test)\n",
    "    error_epoch[i][0] = nn.r2(pred,data.z_test)\n",
    "    error_epoch[i][1] = nn.mse(pred,data.z_test)\n",
    "    print(\"Finished run for n_epochs =\", n_epochs[i])"
   ]
  },
  {
   "cell_type": "code",
   "execution_count": null,
   "metadata": {
    "hideCode": false,
    "hidePrompt": false
   },
   "outputs": [],
   "source": [
    "fig = plt.figure(figsize=(8, 6))\n",
    "#plt.plot(np.log10(n_epochs),error_epoch[:,1], color='#117733', label='mse (test set)')\n",
    "plt.plot(np.log10(n_epochs),error_epoch[:,0], color='#CC6677', label='r2 (test set)')\n",
    "axes = plt.gca()\n",
    "axes.set_ylim([0, 1])\n",
    "plt.xlabel('number of epochs (log scale)')\n",
    "plt.ylabel('R2 score')\n",
    "plt.title('R2 score for increasing number of epochs')\n",
    "plt.legend()\n",
    "plt.show()\n",
    "print('Figure 19: How the performance of the FFNN regression model on the franke data changes with the number of \\n\\\n",
    "epochs. One hidden layer with 10 nodes, one with 5. The batchsize is 100 and the learning rate is 0.8. The hidden \\n\\\n",
    "layer uses the sigmoid activation function and the output layer uses no activation function.')"
   ]
  },
  {
   "cell_type": "markdown",
   "metadata": {},
   "source": [
    "Figure 19 shows the performance as a function of the number of epochs. We see the $r^2$ score improves with increasing the number, as expected, but from 100 epochs and on it flattens out and no further improvement is seen, meaning increasing the number above this will increase the computational cost at minimal to no additional gain in performance.\n",
    "\n",
    "Next up is the batchsize, as seen in the plot in figure 20. Even for small batchsizes the perfromance here is good, we don't see the same sensitivity we saw using linear regression with SGD, but we get a similar dip for very large batchsizes. Note that the training set has 7500 entries, so a batchsize of 500 (the first datapoint where we see a reduction in the r2 score) is about $7\\%$ of the total training set."
   ]
  },
  {
   "cell_type": "code",
   "execution_count": null,
   "metadata": {
    "hideCode": false
   },
   "outputs": [],
   "source": [
    "batch_size = np.array([1,2,5,10,25,50,100,500,1000,5000])\n",
    "error_bs = np.zeros((len(batch_size),2))\n",
    "for i in range(len(batch_size)):\n",
    "    model = nn.NeuralNet(layers_list=[21,10,5,1], h_af='sigmoid', o_af='none', cost='cross-entropy', lmda=0, metric='r2', seed=seed)\n",
    "    model.sgd(X=data.X_train, y=data.z_train, n_epochs=100, batchsize=batch_size[i], learning_rate=0.8, print_epochs=False)\n",
    "    pred = model.predict(data.X_test)\n",
    "    error_bs[i][0] = nn.r2(pred,data.z_test)\n",
    "    error_bs[i][1] = nn.mse(pred,data.z_test)"
   ]
  },
  {
   "cell_type": "code",
   "execution_count": null,
   "metadata": {
    "hideCode": false,
    "hidePrompt": false
   },
   "outputs": [],
   "source": [
    "fig = plt.figure(figsize=(8, 6))\n",
    "#plt.plot(np.log10(batch_size),error_bs[:,1], color='#117733', label='mse (test set)')\n",
    "plt.plot(np.log10(batch_size),error_bs[:,0], color='#CC6677', label='r2 (test set)')\n",
    "axes = plt.gca()\n",
    "axes.set_ylim([0, 1])\n",
    "plt.xlabel('batch size (log scale)')\n",
    "plt.ylabel('R2 score')\n",
    "plt.title('R2 score for increasing the batch size for the GD')\n",
    "plt.legend()\n",
    "plt.show()\n",
    "print('Figure 20: How the performance of the FFNN regression model on the franke data changes with the size of \\n\\\n",
    "the batches used in the stochastic gradient descent. One hidden layer with 10 nodes, one with 5. The number of epochs\\n\\\n",
    "is 100 and the learning rate is 0.8. The hidden layer uses the sigmoid activation function and the output layer uses \\n\\\n",
    "no activation function.')"
   ]
  },
  {
   "cell_type": "markdown",
   "metadata": {
    "hideCode": false,
    "hidePrompt": false
   },
   "source": [
    "#### Adding L2 Regularization\n",
    "\n",
    "We now explore adding regularization to the method, namely l2 regularization. First we look at the choice of the regularization parameter $\\lambda$ searching for an optimized value. Figure 21 shows a plot."
   ]
  },
  {
   "cell_type": "code",
   "execution_count": 345,
   "metadata": {
    "hideCode": false
   },
   "outputs": [],
   "source": [
    "lambdas = np.array([0.0001,0.0005,0.001,0.005,0.01,0.05,0.1,0.5,1.0,2.0,5.0])\n",
    "error_lmda = np.zeros((len(lambdas),2))\n",
    "for i in range(len(lambdas)):\n",
    "    model = nn.NeuralNet(layers_list=[21,10,5,1], h_af='sigmoid', o_af='none', cost='cross-entropy', lmda=lambdas[i], seed=seed)\n",
    "    model.sgd(X=data.X_train, y=data.z_train, n_epochs=100, batchsize=100, learning_rate=0.8, print_epochs=False)\n",
    "    pred = model.predict(data.X_test)\n",
    "    error_lmda[i][0] = nn.r2(pred,data.z_test)\n",
    "    error_lmda[i][1] = nn.mse(pred,data.z_test)"
   ]
  },
  {
   "cell_type": "code",
   "execution_count": 349,
   "metadata": {
    "hideCode": false
   },
   "outputs": [
    {
     "data": {
      "image/png": "[encoded data removed]",
      "text/plain": [
       "<Figure size 576x432 with 1 Axes>"
      ]
     },
     "metadata": {
      "needs_background": "light"
     },
     "output_type": "display_data"
    },
    {
     "name": "stdout",
     "output_type": "stream",
     "text": [
      "Figure number: How the performance of the FFNN regression model on the franke data changes with the strength/weight\n",
      "of the l2 regularization. Model with one hidden layer with 10 nodes, one with 5. The number of epochs is 100 and\n",
      "the learning rate is 0.8. The hidden layer uses the sigmoid activation function and the output layer uses none.\n"
     ]
    }
   ],
   "source": [
    "fig = plt.figure(figsize=(8, 6))\n",
    "#plt.plot(np.log10(lambdas),error_lmda[:,1], color='#117733', label='mse (test set)')\n",
    "plt.plot(np.log10(lambdas),error_lmda[:,0], color='#CC6677', label='r2 (test set)')\n",
    "axes = plt.gca()\n",
    "axes.set_ylim([0, 1])\n",
    "plt.xlabel('regularization parameter lambda (log scale)')\n",
    "plt.ylabel('R2 score')\n",
    "plt.title('R2 score when varying regularization strength')\n",
    "plt.legend()\n",
    "plt.show()\n",
    "print('Figure 21: How the performance of the FFNN regression model on the franke data changes with the strength/weight\\n\\\n",
    "of the l2 regularization. Model with one hidden layer with 10 nodes, one with 5. The number of epochs is 100 and\\n\\\n",
    "the learning rate is 0.8. The hidden layer uses the sigmoid activation function and the output layer uses none.')"
   ]
  },
  {
   "cell_type": "markdown",
   "metadata": {},
   "source": [
    "#### Different Activation Functions\n",
    "There are several available options for the activation function of the nodes in the hidden layers. Figure 22 shows a plot of the r2 score for models when the shape of this activation function is altered. Again the error explodes at different values for the learning rate for the different activation functions, and we have avoided plotting the exploding scores, which is why the plots are over differing ranges of the learning rate. We see from figure 22 that ReLU, ELU and the sigmoid all give similar performance, while leaky ReLU seems to struggle more with the learning rate."
   ]
  },
  {
   "cell_type": "code",
   "execution_count": 395,
   "metadata": {},
   "outputs": [],
   "source": [
    "def test_activation_functions(activation_function,learning_rates,seed=135):\n",
    "    r2_score = np.zeros(len(learning_rates))\n",
    "    for i in range(len(learning_rates)):\n",
    "        model = nn.NeuralNet(layers_list=config3, h_af=activation_function, o_af='none', cost='cross-entropy', lmda=0, seed=seed)\n",
    "        model.sgd(X=data.X_train, y=data.z_train, n_epochs=100, batchsize=50, learning_rate=learning_rates[i], print_epochs=False)\n",
    "        pred = model.predict(data.X_test)\n",
    "        r2_score[i] = nn.r2(pred,data.z_test)\n",
    "        if(np.isnan(r2_score[i])):\n",
    "            print('Exiting early due to \\'nan\\'.')\n",
    "            break\n",
    "        print(\"done with \", i, \": \",learning_rates[i],\"  r2:\", r2_score[i])\n",
    "    return r2_score"
   ]
  },
  {
   "cell_type": "code",
   "execution_count": 409,
   "metadata": {},
   "outputs": [
    {
     "name": "stdout",
     "output_type": "stream",
     "text": [
      "*** activation function: sigmoid ***\n",
      "done with  0 :  0.001   r2: 0.603201443087635\n",
      "done with  1 :  0.005   r2: 0.7013013300602701\n",
      "done with  2 :  0.01   r2: 0.7351632592303365\n",
      "done with  3 :  0.05   r2: 0.7871916134467114\n",
      "done with  4 :  0.1   r2: 0.8131384185680848\n",
      "done with  5 :  0.5   r2: 0.8503120063594798\n",
      "done with  6 :  0.75   r2: 0.8466549356351774\n",
      "done with  7 :  1.0   r2: 0.797946090119066\n"
     ]
    },
    {
     "name": "stderr",
     "output_type": "stream",
     "text": [
      "../Code\\NeuralNet.py:260: RuntimeWarning: overflow encountered in exp\n",
      "  return 1./(1+np.exp(-z))\n",
      "../Code\\NeuralNet.py:151: RuntimeWarning: invalid value encountered in multiply\n",
      "  delta = np.dot(self.weights[-l+1].T, delta)*self.h_af_derivative(z)\n"
     ]
    },
    {
     "name": "stdout",
     "output_type": "stream",
     "text": [
      "Exiting early due to 'nan'.\n",
      "*** activation function: relu ***\n",
      "done with  0 :  0.001   r2: 0.7528873615240326\n",
      "done with  1 :  0.005   r2: 0.7966132550261952\n",
      "done with  2 :  0.01   r2: 0.8190799401379059\n",
      "done with  3 :  0.05   r2: 0.8649550479812356\n",
      "done with  4 :  0.1   r2: 0.8706854293382067\n"
     ]
    },
    {
     "name": "stderr",
     "output_type": "stream",
     "text": [
      "../Code\\NeuralNet.py:151: RuntimeWarning: invalid value encountered in multiply\n",
      "  delta = np.dot(self.weights[-l+1].T, delta)*self.h_af_derivative(z)\n",
      "../Code\\NeuralNet.py:104: RuntimeWarning: invalid value encountered in add\n",
      "  nabla_w = [nw+dnw for nw, dnw in zip(nabla_w, dw_list)]\n"
     ]
    },
    {
     "name": "stdout",
     "output_type": "stream",
     "text": [
      "Exiting early due to 'nan'.\n",
      "*** activation function: elu ***\n",
      "done with  0 :  0.001   r2: 0.6967450896224168\n",
      "done with  1 :  0.005   r2: 0.745601510987024\n",
      "done with  2 :  0.01   r2: 0.7571559263198138\n",
      "done with  3 :  0.05   r2: 0.7783951666646705\n",
      "done with  4 :  0.1   r2: 0.8040431878510034\n",
      "done with  5 :  0.5   r2: 0.828790090286972\n"
     ]
    },
    {
     "name": "stderr",
     "output_type": "stream",
     "text": [
      "../Code\\NeuralNet.py:255: RuntimeWarning: overflow encountered in exp\n",
      "  return  np.where(z<0, np.exp(z)-1, z)\n",
      "../Code\\NeuralNet.py:260: RuntimeWarning: overflow encountered in exp\n",
      "  return 1./(1+np.exp(-z))\n",
      "../Code\\NeuralNet.py:151: RuntimeWarning: invalid value encountered in multiply\n",
      "  delta = np.dot(self.weights[-l+1].T, delta)*self.h_af_derivative(z)\n",
      "../Code\\NeuralNet.py:104: RuntimeWarning: overflow encountered in add\n",
      "  nabla_w = [nw+dnw for nw, dnw in zip(nabla_w, dw_list)]\n"
     ]
    },
    {
     "name": "stdout",
     "output_type": "stream",
     "text": [
      "Exiting early due to 'nan'.\n",
      "*** activation function: leaky ***\n",
      "done with  0 :  0.001   r2: 0.009867401374455631\n",
      "done with  1 :  0.005   r2: 0.4448388668386466\n",
      "done with  2 :  0.01   r2: 0.4662347320356234\n",
      "Exiting early due to 'nan'.\n"
     ]
    },
    {
     "data": {
      "image/png": "[encoded data removed]",
      "text/plain": [
       "<Figure size 720x576 with 1 Axes>"
      ]
     },
     "metadata": {
      "needs_background": "light"
     },
     "output_type": "display_data"
    }
   ],
   "source": [
    "import NeuralNet as nn\n",
    "importlib.reload(nn)\n",
    "\n",
    "afs = ['sigmoid', 'relu', 'elu', 'leaky']\n",
    "\n",
    "learning_rates = np.array([0.001,0.005,0.01,0.05,0.1,0.5,0.75,1.0,2.0])\n",
    "fig = plt.figure(figsize=(10, 8))\n",
    "for i in range(len(afs)):\n",
    "    print(f'*** activation function: {afs[i]} ***')\n",
    "    r2_score = test_activation_functions(afs[i],learning_rates)\n",
    "    plt.plot(np.log10(learning_rates),r2_score, label=afs[i])\n",
    "axes = plt.gca()\n",
    "axes.set_ylim([0.3, 1])\n",
    "plt.xlabel('learning rate (log scale)')\n",
    "plt.ylabel('R2 score')\n",
    "plt.title('R2 score for a selection of activation functions')\n",
    "plt.legend()\n",
    "plt.show()"
   ]
  },
  {
   "cell_type": "code",
   "execution_count": 74,
   "metadata": {},
   "outputs": [
    {
     "name": "stdout",
     "output_type": "stream",
     "text": [
      "Figure 21: R2 score on test set for a selection of activation functions used in the hidden layers of the\n",
      "neural network. For all models cross entropy is the cost function and the network architecture is as in config??. The\n",
      "models are fitted over 100 epochs with a batchsize of 50.\n"
     ]
    }
   ],
   "source": [
    "print('Figure 21: R2 score on test set for a selection of activation functions used in the hidden layers of the\\n\\\n",
    "neural network. For all models cross entropy is the cost function and the network architecture is as in config??. The\\n\\\n",
    "models are fitted over 100 epochs with a batchsize of 50.')"
   ]
  },
  {
   "cell_type": "code",
   "execution_count": null,
   "metadata": {},
   "outputs": [],
   "source": []
  },
  {
   "cell_type": "code",
   "execution_count": 311,
   "metadata": {
    "hideCode": false,
    "hideOutput": true,
    "hidePrompt": false
   },
   "outputs": [
    {
     "name": "stdout",
     "output_type": "stream",
     "text": [
      "Epoch 1: Measured r2: 0.05132243272805925\n",
      "Epoch 2: Measured r2: 0.1120657017441441\n",
      "Epoch 3: Measured r2: 0.18548235622269205\n",
      "Epoch 4: Measured r2: 0.24400851354608522\n",
      "Epoch 5: Measured r2: 0.305524345145738\n",
      "Epoch 6: Measured r2: 0.3603621798948524\n",
      "Epoch 7: Measured r2: 0.4070416758854697\n",
      "Epoch 8: Measured r2: 0.44560688525202674\n",
      "Epoch 9: Measured r2: 0.4715425017154936\n",
      "Epoch 10: Measured r2: 0.4996776360116807\n",
      "Epoch 11: Measured r2: 0.514511623516172\n",
      "Epoch 12: Measured r2: 0.5303013721066531\n",
      "Epoch 13: Measured r2: 0.5331742189636369\n",
      "Epoch 14: Measured r2: 0.5459887527587511\n",
      "Epoch 15: Measured r2: 0.5511497952428848\n",
      "Epoch 16: Measured r2: 0.5566123682569214\n",
      "Epoch 17: Measured r2: 0.5579171853279994\n",
      "Epoch 18: Measured r2: 0.5644455967527493\n",
      "Epoch 19: Measured r2: 0.5615654430777937\n",
      "Epoch 20: Measured r2: 0.5683915714112007\n",
      "Epoch 21: Measured r2: 0.5732272880801721\n",
      "Epoch 22: Measured r2: 0.5757756705788875\n",
      "Epoch 23: Measured r2: 0.5784400566561512\n",
      "Epoch 24: Measured r2: 0.5805693347448951\n",
      "Epoch 25: Measured r2: 0.5799392331636135\n"
     ]
    }
   ],
   "source": []
  },
  {
   "cell_type": "markdown",
   "metadata": {},
   "source": [
    "Now that we have optimalized our parameters to an extent, we compare the performance of this model with theat of the $\\texttt{MLPRegressor}$ in $\\texttt{scikit-learn}$,"
   ]
  },
  {
   "cell_type": "code",
   "execution_count": 368,
   "metadata": {},
   "outputs": [
    {
     "name": "stdout",
     "output_type": "stream",
     "text": [
      "0.8746547497215121     0.011063607118505937\n",
      "-804.7445988193437     71.11910231452401\n"
     ]
    }
   ],
   "source": [
    "# Add regularization?\n",
    "\n",
    "# scikit-learn neural net with SGD - regression #\n",
    "from sklearn.neural_network import MLPRegressor\n",
    "sk_nn_regressor = MLPRegressor(hidden_layer_sizes=(10,5), activation='logistic', solver='sgd', alpha=0.0, \n",
    "                               batch_size=50, learning_rate='constant', learning_rate_init=0.5, max_iter=2000, \n",
    "                               shuffle=True, random_state=587)\n",
    "sk_nn_regressor.fit(data.X_train, data.z_train)\n",
    "pred = sk_nn_regressor.predict(data.X_test)\n",
    "r2_sk = nn.r2(pred,data.z_test)\n",
    "mse_sk = nn.mse(pred,data.z_test)\n",
    "\n",
    "# Own code for FFNN - regression #\n",
    "own_nn_regressor = nn.NeuralNet(layers_list=[21,10,5,1], h_af='sigmoid', o_af='none', cost='cross-entropy', lmda=0, seed=seed)\n",
    "own_nn_regressor.sgd(X=data.X_train, y=data.z_train, n_epochs=100, batchsize=50, learning_rate=0.1, print_epochs=False)\n",
    "pred = model.predict(data.X_test)\n",
    "r2_own = nn.r2(pred,data.z_test)\n",
    "mse_own = nn.mse(pred,data.z_test)\n",
    "\n",
    "print(r2_sk,\"   \", mse_sk)\n",
    "print(r2_own,\"   \", mse_own)\n",
    "             "
   ]
  },
  {
   "cell_type": "code",
   "execution_count": null,
   "metadata": {},
   "outputs": [],
   "source": []
  },
  {
   "cell_type": "code",
   "execution_count": null,
   "metadata": {},
   "outputs": [],
   "source": []
  },
  {
   "cell_type": "code",
   "execution_count": null,
   "metadata": {},
   "outputs": [],
   "source": []
  },
  {
   "cell_type": "markdown",
   "metadata": {
    "hideCode": false,
    "hidePrompt": false
   },
   "source": [
    "### Neural Network - Classification\n",
    "\n",
    "I will now use my Neural Network code to perform classification of handwritten numbers. I will begin by performing the clasification using $\\texttt{scikit-learn}$'s $\\texttt{MLPClassifier}$ to have something to compare my model to. I set up this network with 64 input nodes, corresponding to the 64 pixels in each digit image, one layer of 30 hidden nodes, and finally an output layer of 10 nodes, corresponding to the 10 output possibilities. The activation function of the output layer is the softmax, while the hidden layer(s) use the sigmoid. I am not using regularization here. Note that the $\\texttt{MLPClassifier}$ implicitly designs the input and output layers based on the provided data in $\\texttt{fit()}$ method. It uses cross-entropy as the default cost function. "
   ]
  },
  {
   "cell_type": "code",
   "execution_count": 166,
   "metadata": {},
   "outputs": [],
   "source": [
    "# Setting the predictors/inputs and the target\n",
    "digits = datasets.load_digits()\n",
    "digit_target = digits.target\n",
    "digit_input = digits.images\n",
    "n_inputs = len(digit_input)\n",
    "digit_input = digit_input.reshape(n_inputs, -1)\n",
    "\n",
    "\n",
    "# Splitting into training and test\n",
    "train_size = 0.8\n",
    "X_train, X_test, y_train, y_test = train_test_split(digit_input, digit_target, stratify=digit_target,\n",
    "                                                    train_size=train_size, random_state=97)"
   ]
  },
  {
   "cell_type": "code",
   "execution_count": 188,
   "metadata": {},
   "outputs": [
    {
     "name": "stdout",
     "output_type": "stream",
     "text": [
      "The measured accuracy of FFNN on the test set using scikit-learn's MLPClassifier \n",
      "with one hidden layer of 30 nodes, softmax activation function in the output layer \n",
      "and logistic in the hidden layer is: 0.977778\n"
     ]
    }
   ],
   "source": [
    "from sklearn.neural_network import MLPClassifier\n",
    "\n",
    "h_activation = 'logistic'\n",
    "o_activation = 'softmax'\n",
    "lr = 0.005\n",
    "batch_size = 10\n",
    "seed = 796\n",
    "n_input_nodes = 64\n",
    "n_hidden_nodes = 30\n",
    "n_output_nodes = 10\n",
    "\n",
    "sk_nn_classifier = MLPClassifier(hidden_layer_sizes=(n_hidden_nodes, ), activation=h_activation, solver='sgd', alpha=0, \n",
    "                                 batch_size=batch_size, learning_rate='constant', learning_rate_init=lr, max_iter=200, \n",
    "                                 shuffle=True, random_state=seed)\n",
    "sk_nn_classifier.fit(X_train, y_train)\n",
    "pred = sk_nn_classifier.predict(X_test)\n",
    "accuracy = nn.accuracy(pred,y_test)\n",
    "print(\"The measured accuracy of FFNN on the test set using scikit-learn's MLPClassifier \\n\\\n",
    "with one hidden layer of 30 nodes, %s activation function in the output layer \\n\\\n",
    "and %s in the hidden layer is: %f\" %(o_activation, h_activation, accuracy))"
   ]
  },
  {
   "cell_type": "markdown",
   "metadata": {},
   "source": [
    "We get a very impressive accuracy score of $\\approx0.98$ using $\\texttt{scikit-learn}$. Let us see how our model does with the same set up."
   ]
  },
  {
   "cell_type": "code",
   "execution_count": 169,
   "metadata": {},
   "outputs": [
    {
     "name": "stdout",
     "output_type": "stream",
     "text": [
      "Epoch 1: Accuracy measured to 0.8909\n",
      "Epoch 2: Accuracy measured to 0.9104\n",
      "Epoch 3: Accuracy measured to 0.9145\n",
      "Epoch 4: Accuracy measured to 0.9252\n",
      "Epoch 5: Accuracy measured to 0.9283\n",
      "Epoch 6: Accuracy measured to 0.9323\n",
      "Epoch 7: Accuracy measured to 0.9336\n",
      "Epoch 8: Accuracy measured to 0.9338\n",
      "Epoch 9: Accuracy measured to 0.94\n",
      "Epoch 10: Accuracy measured to 0.9392\n"
     ]
    }
   ],
   "source": [
    "# comparing with other digit dataset\n",
    "import NeuralNet as nn\n",
    "importlib.reload(nn)\n",
    "\n",
    "training_data, validation_data, test_data = load_data_wrapper()\n",
    "X_train, y_train = zip(*training_data)\n",
    "X=np.squeeze(X_train)\n",
    "y=np.squeeze(y_train)\n",
    "X_test, y_test = zip(*test_data)\n",
    "X_test=np.squeeze(X_test)\n",
    "y_test=np.squeeze(y_test)\n",
    "\n",
    "#X_train, X_test, y_train, y_test = train_test_split(digit_input, digit_target, stratify=digit_target,train_size=train_size,random_state=97)\n",
    "\n",
    "nn_class = nn.NeuralNet(layers_list=[784, 30, 10], h_af='sigmoid', o_af='softmax', cost='cross-entropy', seed=seed)\n",
    "nn_class.sgd(X=X, y=y, n_epochs=10, batchsize=100, learning_rate=3.0, test_data=zip(X_test,y_test))"
   ]
  },
  {
   "cell_type": "code",
   "execution_count": 212,
   "metadata": {
    "hideOutput": true
   },
   "outputs": [
    {
     "name": "stdout",
     "output_type": "stream",
     "text": [
      "Epoch 1: Accuracy measured to 0.7083333333333334\n",
      "Epoch 2: Accuracy measured to 0.8555555555555555\n",
      "Epoch 3: Accuracy measured to 0.9333333333333333\n",
      "Epoch 4: Accuracy measured to 0.9277777777777778\n",
      "Epoch 5: Accuracy measured to 0.9527777777777777\n",
      "Epoch 6: Accuracy measured to 0.9138888888888889\n",
      "Epoch 7: Accuracy measured to 0.975\n",
      "Epoch 8: Accuracy measured to 0.9777777777777777\n",
      "Epoch 9: Accuracy measured to 0.9722222222222222\n",
      "Epoch 10: Accuracy measured to 0.975\n",
      "Epoch 11: Accuracy measured to 0.9833333333333333\n",
      "Epoch 12: Accuracy measured to 0.9916666666666667\n",
      "Epoch 13: Accuracy measured to 0.9722222222222222\n",
      "Epoch 14: Accuracy measured to 0.975\n",
      "Epoch 15: Accuracy measured to 0.9861111111111112\n",
      "Epoch 16: Accuracy measured to 0.9805555555555555\n",
      "Epoch 17: Accuracy measured to 0.9805555555555555\n",
      "Epoch 18: Accuracy measured to 0.9833333333333333\n",
      "Epoch 19: Accuracy measured to 0.9861111111111112\n",
      "Epoch 20: Accuracy measured to 0.9888888888888889\n",
      "Epoch 21: Accuracy measured to 0.9888888888888889\n",
      "Epoch 22: Accuracy measured to 0.9888888888888889\n",
      "Epoch 23: Accuracy measured to 0.9916666666666667\n",
      "Epoch 24: Accuracy measured to 0.9888888888888889\n",
      "Epoch 25: Accuracy measured to 0.9944444444444445\n",
      "Epoch 26: Accuracy measured to 0.9888888888888889\n",
      "Epoch 27: Accuracy measured to 0.9888888888888889\n",
      "Epoch 28: Accuracy measured to 0.9861111111111112\n",
      "Epoch 29: Accuracy measured to 0.9888888888888889\n",
      "Epoch 30: Accuracy measured to 0.9888888888888889\n",
      "Epoch 31: Accuracy measured to 0.9861111111111112\n",
      "Epoch 32: Accuracy measured to 0.9888888888888889\n",
      "Epoch 33: Accuracy measured to 0.9861111111111112\n",
      "Epoch 34: Accuracy measured to 0.9888888888888889\n",
      "Epoch 35: Accuracy measured to 0.9888888888888889\n",
      "Epoch 36: Accuracy measured to 0.9888888888888889\n",
      "Epoch 37: Accuracy measured to 0.9861111111111112\n",
      "Epoch 38: Accuracy measured to 0.9888888888888889\n",
      "Epoch 39: Accuracy measured to 0.9916666666666667\n",
      "Epoch 40: Accuracy measured to 0.9916666666666667\n",
      "Epoch 41: Accuracy measured to 0.9916666666666667\n",
      "Epoch 42: Accuracy measured to 0.9861111111111112\n",
      "Epoch 43: Accuracy measured to 0.9916666666666667\n",
      "Epoch 44: Accuracy measured to 0.9861111111111112\n",
      "Epoch 45: Accuracy measured to 0.9888888888888889\n",
      "Epoch 46: Accuracy measured to 0.9888888888888889\n",
      "Epoch 47: Accuracy measured to 0.9944444444444445\n",
      "Epoch 48: Accuracy measured to 0.9888888888888889\n",
      "Epoch 49: Accuracy measured to 0.9916666666666667\n",
      "Epoch 50: Accuracy measured to 0.9861111111111112\n",
      "Epoch 51: Accuracy measured to 0.9944444444444445\n",
      "Epoch 52: Accuracy measured to 0.9916666666666667\n",
      "Epoch 53: Accuracy measured to 0.9833333333333333\n",
      "Epoch 54: Accuracy measured to 0.9888888888888889\n",
      "Epoch 55: Accuracy measured to 0.9916666666666667\n",
      "Epoch 56: Accuracy measured to 0.9916666666666667\n",
      "Epoch 57: Accuracy measured to 0.9916666666666667\n",
      "Epoch 58: Accuracy measured to 0.9861111111111112\n",
      "Epoch 59: Accuracy measured to 0.9888888888888889\n",
      "Epoch 60: Accuracy measured to 0.9861111111111112\n",
      "Epoch 61: Accuracy measured to 0.9833333333333333\n",
      "Epoch 62: Accuracy measured to 0.9888888888888889\n",
      "Epoch 63: Accuracy measured to 0.9916666666666667\n",
      "Epoch 64: Accuracy measured to 0.9888888888888889\n",
      "Epoch 65: Accuracy measured to 0.9861111111111112\n",
      "Epoch 66: Accuracy measured to 0.9805555555555555\n",
      "Epoch 67: Accuracy measured to 0.9805555555555555\n",
      "Epoch 68: Accuracy measured to 0.9888888888888889\n",
      "Epoch 69: Accuracy measured to 0.9861111111111112\n",
      "Epoch 70: Accuracy measured to 0.9888888888888889\n",
      "Epoch 71: Accuracy measured to 0.9888888888888889\n",
      "Epoch 72: Accuracy measured to 0.9888888888888889\n",
      "Epoch 73: Accuracy measured to 0.9833333333333333\n",
      "Epoch 74: Accuracy measured to 0.9861111111111112\n",
      "Epoch 75: Accuracy measured to 0.9916666666666667\n",
      "Epoch 76: Accuracy measured to 0.9888888888888889\n",
      "Epoch 77: Accuracy measured to 0.9888888888888889\n",
      "Epoch 78: Accuracy measured to 0.9916666666666667\n",
      "Epoch 79: Accuracy measured to 0.9888888888888889\n",
      "Epoch 80: Accuracy measured to 0.9916666666666667\n",
      "Epoch 81: Accuracy measured to 0.9916666666666667\n",
      "Epoch 82: Accuracy measured to 0.9916666666666667\n",
      "Epoch 83: Accuracy measured to 0.9888888888888889\n",
      "Epoch 84: Accuracy measured to 0.9861111111111112\n",
      "Epoch 85: Accuracy measured to 0.9888888888888889\n",
      "Epoch 86: Accuracy measured to 0.9916666666666667\n",
      "Epoch 87: Accuracy measured to 0.9888888888888889\n",
      "Epoch 88: Accuracy measured to 0.9916666666666667\n",
      "Epoch 89: Accuracy measured to 0.9888888888888889\n",
      "Epoch 90: Accuracy measured to 0.9888888888888889\n",
      "Epoch 91: Accuracy measured to 0.9888888888888889\n",
      "Epoch 92: Accuracy measured to 0.9888888888888889\n",
      "Epoch 93: Accuracy measured to 0.9861111111111112\n",
      "Epoch 94: Accuracy measured to 0.9916666666666667\n",
      "Epoch 95: Accuracy measured to 0.9916666666666667\n",
      "Epoch 96: Accuracy measured to 0.9916666666666667\n",
      "Epoch 97: Accuracy measured to 0.9888888888888889\n",
      "Epoch 98: Accuracy measured to 0.9861111111111112\n",
      "Epoch 99: Accuracy measured to 0.9888888888888889\n",
      "Epoch 100: Accuracy measured to 0.9888888888888889\n"
     ]
    }
   ],
   "source": [
    "import NeuralNet as nn\n",
    "importlib.reload(nn)\n",
    "X_train, X_test, y_train, y_test = train_test_split(digit_input, digit_target, stratify=digit_target,train_size=train_size,random_state=97)\n",
    "nn_class = nn.NeuralNet(layers_list=[64, 30, 10], h_af='sigmoid', o_af='softmax', cost='cross-entropy', seed=seed)\n",
    "nn_class.sgd(X=X_train, y=y_train, n_epochs=100, batchsize=100, learning_rate=0.5, test_data=zip(X_test,y_test))\n"
   ]
  },
  {
   "cell_type": "code",
   "execution_count": 226,
   "metadata": {},
   "outputs": [
    {
     "name": "stdout",
     "output_type": "stream",
     "text": [
      "The measured accuracy of FFNN on the test set using our custom neural net class \n",
      "with one hidden layer of 30 nodes, softmax activation function in the output layer \n",
      "and logistic in the hidden layer is: 0.988889\n"
     ]
    }
   ],
   "source": [
    "pred = nn_class.predict(X_test)\n",
    "accuracy = nn.accuracy(pred,y_test)\n",
    "print(\"The measured accuracy of FFNN on the test set using our custom neural net class \\n\\\n",
    "with one hidden layer of 30 nodes, %s activation function in the output layer \\n\\\n",
    "and %s in the hidden layer is: %f\" %(o_activation, h_activation, accuracy))\n"
   ]
  },
  {
   "cell_type": "markdown",
   "metadata": {},
   "source": [
    "%I'm kind of using test to fit model -> use train as test data? maybe set aside a fraction of the training data %\n",
    "\n",
    "Our custom neural network code for classification actually performs better that the $\\texttt{scikit-learn}$ class. However it is worth noting that we don't have very many data points and our performance is not very stable to initialation values and changes in the learning rate. "
   ]
  },
  {
   "cell_type": "code",
   "execution_count": null,
   "metadata": {},
   "outputs": [],
   "source": [
    "def resulting_accuracy(model,X_test,y_test):\n",
    "    pred = model.predict(X_test)\n",
    "    return nn.accuracy(pred,y_test)"
   ]
  },
  {
   "cell_type": "code",
   "execution_count": 245,
   "metadata": {
    "hideCode": false
   },
   "outputs": [],
   "source": [
    "import NeuralNet as nn\n",
    "importlib.reload(nn)\n",
    "X_train, X_test, y_train, y_test = train_test_split(digit_input, digit_target, stratify=digit_target,train_size=train_size,random_state=97)\n",
    "\n",
    "n_epochs = np.array([1,2,5,10,25,50,100,250,500,1000,2500])\n",
    "accuracy_epochs = np.zeros((len(n_epochs),2))\n",
    "for i in range(len(n_epochs)):\n",
    "    model = nn.NeuralNet(layers_list=[64, 30, 10], h_af='sigmoid', o_af='softmax', cost='cross-entropy', seed=seed)\n",
    "    model.sgd(X=X_train, y=y_train, n_epochs=n_epochs[i], batchsize=100, learning_rate=0.5,print_epochs=False)\n",
    "    accuracy_epochs[i][0] = resulting_accuracy(model,X_test,y_test)\n",
    "    accuracy_epochs[i][1] = resulting_accuracy(model,X_train,y_train)\n"
   ]
  },
  {
   "cell_type": "code",
   "execution_count": 246,
   "metadata": {
    "hideCode": true
   },
   "outputs": [
    {
     "data": {
      "image/png": "[encoded data removed]",
      "text/plain": [
       "<Figure size 576x432 with 1 Axes>"
      ]
     },
     "metadata": {
      "needs_background": "light"
     },
     "output_type": "display_data"
    },
    {
     "name": "stdout",
     "output_type": "stream",
     "text": [
      "Figure number: How accuracy of the FFNN classification model changes with the number of epochs. One hidden layer with 30 nodes, batchsize is 100 and the learning rate is 0.5. The hidden layer uses the sigmoid activation function and the output layer uses the softmax.\n"
     ]
    }
   ],
   "source": [
    "fig = plt.figure(figsize=(8, 6))\n",
    "plt.plot(np.log10(n_epochs),accuracy_epochs[:,1], color='#117733', label='Accuracy (train)')\n",
    "plt.plot(np.log10(n_epochs),accuracy_epochs[:,0], color='#CC6677', label='Accuracy (test)')\n",
    "plt.xlabel('Number of epochs (log scale)')\n",
    "plt.ylabel('Accuracy')\n",
    "plt.title('Accuracy for increasing number of epochs')\n",
    "plt.legend()\n",
    "plt.show()\n",
    "print('Figure number: How accuracy of the FFNN classification model changes with the number of epochs. One hidden \\\n",
    "layer with 30 nodes, batchsize is 100 and the learning rate is 0.5. The hidden layer uses the sigmoid activation \\\n",
    "function and the output layer uses the softmax.')"
   ]
  },
  {
   "cell_type": "code",
   "execution_count": 249,
   "metadata": {
    "hideCode": true
   },
   "outputs": [
    {
     "name": "stdout",
     "output_type": "stream",
     "text": [
      "The max accuracy on the test set is 0.994444 after 25 epochs.\n"
     ]
    }
   ],
   "source": [
    "ei = 4\n",
    "print(\"The max accuracy on the test set is %f after %d epochs.\" %(accuracy_epochs[ei][0],n_epochs[ei]))"
   ]
  },
  {
   "cell_type": "code",
   "execution_count": 252,
   "metadata": {
    "hideCode": false
   },
   "outputs": [
    {
     "name": "stderr",
     "output_type": "stream",
     "text": [
      "../Code\\NeuralNet.py:235: RuntimeWarning: overflow encountered in exp\n",
      "  return 1./(1+np.exp(-z))\n"
     ]
    }
   ],
   "source": [
    "lrs = np.array([0.001,0.005,0.01,0.05,0.1,0.5,1.0,2.0,5.0])\n",
    "accuracy_lr = np.zeros((len(lrs),2))\n",
    "for i in range(len(lrs)):\n",
    "    model = nn.NeuralNet(layers_list=[64, 30, 10], h_af='sigmoid', o_af='softmax', cost='cross-entropy', seed=seed)\n",
    "    model.sgd(X=X_train, y=y_train, n_epochs=100, batchsize=100, learning_rate=lrs[i],print_epochs=False)\n",
    "    accuracy_lr[i][0] = resulting_accuracy(model,X_test,y_test)\n",
    "    accuracy_lr[i][1] = resulting_accuracy(model,X_train,y_train)"
   ]
  },
  {
   "cell_type": "code",
   "execution_count": 253,
   "metadata": {
    "hideCode": false
   },
   "outputs": [
    {
     "data": {
      "image/png": "[encoded data removed]",
      "text/plain": [
       "<Figure size 576x432 with 1 Axes>"
      ]
     },
     "metadata": {
      "needs_background": "light"
     },
     "output_type": "display_data"
    },
    {
     "name": "stdout",
     "output_type": "stream",
     "text": [
      "Figure number: How accuracy of the FFNN classification model changes with the learning rate. One hidden layer with 30 nodes, batchsize is 100 and the number of epochs is 100. The hidden layer uses the sigmoid activation function and the output layer uses the softmax.\n"
     ]
    }
   ],
   "source": [
    "fig = plt.figure(figsize=(8, 6))\n",
    "plt.plot(np.log10(lrs),accuracy_lr[:,1], color='#117733', label='Accuracy (train)')\n",
    "plt.plot(np.log10(lrs),accuracy_lr[:,0], color='#CC6677', label='Accuracy (test)')\n",
    "plt.xlabel('learning rate (log scale)')\n",
    "plt.ylabel('Accuracy')\n",
    "plt.title('Accuracy for increasing learning rate')\n",
    "plt.legend()\n",
    "plt.show()\n",
    "print('Figure number: How accuracy of the FFNN classification model changes with the learning rate. One hidden \\\n",
    "layer with 30 nodes, batchsize is 100 and the number of epochs is 100. The hidden layer uses the sigmoid activation \\\n",
    "function and the output layer uses the softmax.')"
   ]
  },
  {
   "cell_type": "code",
   "execution_count": 254,
   "metadata": {
    "hideCode": false
   },
   "outputs": [
    {
     "name": "stderr",
     "output_type": "stream",
     "text": [
      "../Code\\NeuralNet.py:235: RuntimeWarning: overflow encountered in exp\n",
      "  return 1./(1+np.exp(-z))\n"
     ]
    }
   ],
   "source": [
    "batch_size = np.array([1,2,5,10,25,50,100,500,1000])\n",
    "accuracy_bs = np.zeros((len(batch_size),2))\n",
    "for i in range(len(batch_size)):\n",
    "    model = nn.NeuralNet(layers_list=[64, 30, 10], h_af='sigmoid', o_af='softmax', cost='cross-entropy', seed=seed)\n",
    "    model.sgd(X=X_train, y=y_train, n_epochs=100, batchsize=batch_size[i], learning_rate=0.5,print_epochs=False)\n",
    "    accuracy_bs[i][0] = resulting_accuracy(model,X_test,y_test)\n",
    "    accuracy_bs[i][1] = resulting_accuracy(model,X_train,y_train)"
   ]
  },
  {
   "cell_type": "code",
   "execution_count": 255,
   "metadata": {
    "hideCode": true
   },
   "outputs": [
    {
     "data": {
      "image/png": "[encoded data removed]",
      "text/plain": [
       "<Figure size 576x432 with 1 Axes>"
      ]
     },
     "metadata": {
      "needs_background": "light"
     },
     "output_type": "display_data"
    },
    {
     "name": "stdout",
     "output_type": "stream",
     "text": [
      "Figure number: How accuracy of the FFNN classification model changes with the batch size. One hidden layer with 30 nodes, larning rate is 0.5 and the number of epochs is 100. The hidden layer uses the sigmoid activation function and the output layer uses the softmax.\n"
     ]
    }
   ],
   "source": [
    "fig = plt.figure(figsize=(8, 6))\n",
    "plt.plot(np.log10(batch_size),accuracy_bs[:,1], color='#117733', label='Accuracy (train)')\n",
    "plt.plot(np.log10(batch_size),accuracy_bs[:,0], color='#CC6677', label='Accuracy (test)')\n",
    "plt.xlabel('batch size (log scale)')\n",
    "plt.ylabel('Accuracy')\n",
    "plt.title('Accuracy for increasing batch size')\n",
    "plt.legend()\n",
    "plt.show()\n",
    "print('Figure number: How accuracy of the FFNN classification model changes with the batch size. One hidden \\\n",
    "layer with 30 nodes, larning rate is 0.5 and the number of epochs is 100. The hidden layer uses the sigmoid activation \\\n",
    "function and the output layer uses the softmax.')"
   ]
  },
  {
   "cell_type": "markdown",
   "metadata": {},
   "source": [
    "#### Adding Regularization\n",
    "To avoid overfitting and increase the generalization of a model one can add a regularixation term. As we have seen in the results so far we don't appear too troubled by overfitting in our classification model with our current parameters. Adding regularization can also make the model more stable to changes in these parameters."
   ]
  },
  {
   "cell_type": "code",
   "execution_count": 261,
   "metadata": {
    "hideCode": false
   },
   "outputs": [],
   "source": [
    "lambdas = np.array([0.001,0.005,0.01,0.05,0.1,0.5,1.0,2.0,5.0])\n",
    "accuracy_lmda = np.zeros((len(lambdas),2))\n",
    "for i in range(len(lambdas)):\n",
    "    model = nn.NeuralNet(layers_list=[64, 30, 10], h_af='sigmoid', o_af='softmax', cost='cross-entropy', lmda=lambdas[i],seed=seed)\n",
    "    model.sgd(X=X_train, y=y_train, n_epochs=100, batchsize=100, learning_rate=0.5,print_epochs=False)\n",
    "    accuracy_lmda[i][0] = resulting_accuracy(model,X_test,y_test)\n",
    "    accuracy_lmda[i][1] = resulting_accuracy(model,X_train,y_train)"
   ]
  },
  {
   "cell_type": "code",
   "execution_count": 264,
   "metadata": {
    "hideCode": true
   },
   "outputs": [
    {
     "data": {
      "image/png": "[encoded data removed]",
      "text/plain": [
       "<Figure size 576x432 with 1 Axes>"
      ]
     },
     "metadata": {
      "needs_background": "light"
     },
     "output_type": "display_data"
    },
    {
     "name": "stdout",
     "output_type": "stream",
     "text": [
      "Figure number: The FFNN classification model with added l2 regularization. One hidden layer with 30 nodes, learning \n",
      "rate is 0.5 and the number of epochs is 100. The hidden layer uses the sigmoid activation function and the output \n",
      "layer uses the softmax.\n"
     ]
    }
   ],
   "source": [
    "fig = plt.figure(figsize=(8, 6))\n",
    "plt.plot(np.log10(lambdas),accuracy_lmda[:,1], color='#117733', label='Accuracy (train)')\n",
    "plt.plot(np.log10(lambdas),accuracy_lmda[:,0], color='#CC6677', label='Accuracy (test)')\n",
    "plt.xlabel('regularization parameter $\\lambda$ (log scale)')\n",
    "plt.ylabel('Accuracy')\n",
    "plt.title('Accuracy for FFNN classification model with L2 regularization')\n",
    "plt.legend()\n",
    "plt.show()\n",
    "print('Figure number: The FFNN classification model with added l2 regularization. One hidden \\\n",
    "layer with 30 nodes, learning \\nrate is 0.5 and the number of epochs is 100. The hidden layer uses the sigmoid activation \\\n",
    "function and the output \\nlayer uses the softmax.')"
   ]
  },
  {
   "cell_type": "code",
   "execution_count": 100,
   "metadata": {},
   "outputs": [],
   "source": [
    "import NeuralNet as nn\n",
    "importlib.reload(nn)\n",
    "X_train, X_test, y_train, y_test = train_test_split(digit_input, digit_target, stratify=digit_target,train_size=train_size,random_state=97)"
   ]
  },
  {
   "cell_type": "code",
   "execution_count": 148,
   "metadata": {},
   "outputs": [
    {
     "name": "stdout",
     "output_type": "stream",
     "text": [
      "(1437, 10)\n",
      "Epoch 1 complete\n"
     ]
    }
   ],
   "source": [
    "\n"
   ]
  },
  {
   "cell_type": "code",
   "execution_count": 140,
   "metadata": {},
   "outputs": [
    {
     "data": {
      "text/plain": [
       "(1437,)"
      ]
     },
     "execution_count": 140,
     "metadata": {},
     "output_type": "execute_result"
    }
   ],
   "source": [
    "# Setting the predictors/inputs and the target\n",
    "digits = datasets.load_digits()\n",
    "digit_target = digits.target\n",
    "digit_input = digits.images\n",
    "n_inputs = len(digit_input)\n",
    "digit_input = digit_input.reshape(n_inputs, -1)\n",
    "\n",
    "\n",
    "# Splitting into training and test\n",
    "train_size = 0.8\n",
    "X_train, X_test, y_train, y_test = train_test_split(digit_input, digit_target, stratify=digit_target,\n",
    "                                                    train_size=train_size)\n",
    "\n",
    "np.shape(y_train)"
   ]
  },
  {
   "cell_type": "markdown",
   "metadata": {},
   "source": [
    "### Logistic Regression - Classification\n",
    "\n",
    "We have used our neural network for classification and now we want to compare our result with a different method. The method of choice is logistic regression. As we are performing classification to multiple classes (not binary classification) we use the softmax in place of the standard sigmoid. This form of logistic regression is called multinomial logistic regression or simply softmax regression. Our cost function is again cross-entropy.\n",
    "\n",
    "We have our own code for this as well, but first we attempt classification of our digit data with $\\texttt{scikit-learn}$'s $\\texttt{SGDClassifier}$. Setting the $\\texttt[loss}$ parameter of this method to 'log' gives a logistic regression for classification."
   ]
  },
  {
   "cell_type": "code",
   "execution_count": null,
   "metadata": {},
   "outputs": [],
   "source": [
    "from sklearn.linear_model import SGDClassifier\n",
    "import LogisticRegression as lr\n",
    "importlib.reload(lr)\n",
    "\n",
    "seed=734\n",
    "logreg_skl = SGDClassifier(loss='log', penalty='l2', alpha=0.0, fit_intercept=False, max_iter=1000, shuffle=True, \n",
    "                           random_state=seed, learning_rate='constant', eta0=0.1)\n",
    "logreg_skl.fit(X_train,y_train)\n",
    "sk_pred = logreg_skl.predict(X_test)\n",
    "accuracy_sk = lr.accuracy(pred,y_test)\n"
   ]
  },
  {
   "cell_type": "code",
   "execution_count": null,
   "metadata": {
    "hideCode": false,
    "hidePrompt": false
   },
   "outputs": [],
   "source": [
    "np.shape(y_test)"
   ]
  },
  {
   "cell_type": "code",
   "execution_count": 26,
   "metadata": {
    "hideCode": false,
    "hidePrompt": false
   },
   "outputs": [
    {
     "ename": "NameError",
     "evalue": "name 'lr_gd' is not defined",
     "output_type": "error",
     "traceback": [
      "\u001b[1;31m---------------------------------------------------------------------------\u001b[0m",
      "\u001b[1;31mNameError\u001b[0m                                 Traceback (most recent call last)",
      "\u001b[1;32m<ipython-input-26-7817e6390cce>\u001b[0m in \u001b[0;36m<module>\u001b[1;34m\u001b[0m\n\u001b[0;32m      2\u001b[0m \u001b[1;33m\u001b[0m\u001b[0m\n\u001b[0;32m      3\u001b[0m \u001b[0mimportlib\u001b[0m\u001b[1;33m.\u001b[0m\u001b[0mreload\u001b[0m\u001b[1;33m(\u001b[0m\u001b[0mcd\u001b[0m\u001b[1;33m)\u001b[0m\u001b[1;33m\u001b[0m\u001b[1;33m\u001b[0m\u001b[0m\n\u001b[1;32m----> 4\u001b[1;33m \u001b[0mimportlib\u001b[0m\u001b[1;33m.\u001b[0m\u001b[0mreload\u001b[0m\u001b[1;33m(\u001b[0m\u001b[0mlr_gd\u001b[0m\u001b[1;33m)\u001b[0m\u001b[1;33m\u001b[0m\u001b[1;33m\u001b[0m\u001b[0m\n\u001b[0m",
      "\u001b[1;31mNameError\u001b[0m: name 'lr_gd' is not defined"
     ]
    }
   ],
   "source": [
    "import importlib\n",
    "\n",
    "importlib.reload(cd)\n",
    "importlib.reload(lr_gd)\n"
   ]
  },
  {
   "cell_type": "code",
   "execution_count": null,
   "metadata": {
    "hideCode": false,
    "hidePrompt": false
   },
   "outputs": [],
   "source": []
  },
  {
   "cell_type": "code",
   "execution_count": null,
   "metadata": {
    "hideCode": false,
    "hidePrompt": false
   },
   "outputs": [],
   "source": []
  },
  {
   "cell_type": "code",
   "execution_count": null,
   "metadata": {
    "hideCode": false,
    "hidePrompt": false
   },
   "outputs": [],
   "source": []
  },
  {
   "cell_type": "code",
   "execution_count": 678,
   "metadata": {
    "hideCode": false,
    "hidePrompt": false
   },
   "outputs": [],
   "source": []
  },
  {
   "cell_type": "code",
   "execution_count": null,
   "metadata": {
    "hideCode": false,
    "hidePrompt": false
   },
   "outputs": [],
   "source": []
  },
  {
   "cell_type": "code",
   "execution_count": null,
   "metadata": {
    "hideCode": false,
    "hidePrompt": false
   },
   "outputs": [],
   "source": []
  },
  {
   "cell_type": "code",
   "execution_count": 558,
   "metadata": {
    "hideCode": false,
    "hidePrompt": false
   },
   "outputs": [
    {
     "name": "stdout",
     "output_type": "stream",
     "text": [
      "0.9995996508522816\n"
     ]
    },
    {
     "data": {
      "text/plain": [
       "[<matplotlib.lines.Line2D at 0x1b82de20a58>]"
      ]
     },
     "execution_count": 558,
     "metadata": {},
     "output_type": "execute_result"
    },
    {
     "data": {
      "image/png": "[encoded data removed]",
      "text/plain": [
       "<Figure size 432x288 with 1 Axes>"
      ]
     },
     "metadata": {
      "needs_background": "light"
     },
     "output_type": "display_data"
    }
   ],
   "source": [
    "n = 100\n",
    "x1 = np.linspace(0,10,n)\n",
    "x2 = x1*x1\n",
    "\n",
    "X = np.ones((n,2))\n",
    "x[:,0] = x1\n",
    "x[:,1] = x2\n",
    "y_true = 4+3*x[:,1].reshape(n,1)-2*x[:,0].reshape(n,1)+np.random.randn(n,1)\n",
    "\n",
    "\n",
    "current_model = lr_gd.LinearRegressionwithGradientDescent(method=\"sgd\",alpha=0,n_epochs=10,batchsize=5,learning_rate=0.00001)\n",
    "train_hat = current_model.fit(x,y_true)\n",
    "print(r2(train_hat,y_true))\n",
    "\n",
    "plt.plot(y_true)\n",
    "plt.plot(train_hat)"
   ]
  },
  {
   "cell_type": "code",
   "execution_count": 82,
   "metadata": {
    "hideCode": false,
    "hidePrompt": false
   },
   "outputs": [],
   "source": [
    "\"\"\"\n",
    "mnist_loader\n",
    "~~~~~~~~~~~~\n",
    "\n",
    "A library to load the MNIST image data.  For details of the data\n",
    "structures that are returned, see the doc strings for ``load_data``\n",
    "and ``load_data_wrapper``.  In practice, ``load_data_wrapper`` is the\n",
    "function usually called by our neural network code.\n",
    "\"\"\"\n",
    "\n",
    "#### Libraries\n",
    "# Standard library\n",
    "import pickle as cPickle\n",
    "import gzip\n",
    "\n",
    "# Third-party libraries\n",
    "import numpy as np\n",
    "\n",
    "def load_data():\n",
    "    \"\"\"Return the MNIST data as a tuple containing the training data,\n",
    "    the validation data, and the test data.\n",
    "\n",
    "    The ``training_data`` is returned as a tuple with two entries.\n",
    "    The first entry contains the actual training images.  This is a\n",
    "    numpy ndarray with 50,000 entries.  Each entry is, in turn, a\n",
    "    numpy ndarray with 784 values, representing the 28 * 28 = 784\n",
    "    pixels in a single MNIST image.\n",
    "\n",
    "    The second entry in the ``training_data`` tuple is a numpy ndarray\n",
    "    containing 50,000 entries.  Those entries are just the digit\n",
    "    values (0...9) for the corresponding images contained in the first\n",
    "    entry of the tuple.\n",
    "\n",
    "    The ``validation_data`` and ``test_data`` are similar, except\n",
    "    each contains only 10,000 images.\n",
    "\n",
    "    This is a nice data format, but for use in neural networks it's\n",
    "    helpful to modify the format of the ``training_data`` a little.\n",
    "    That's done in the wrapper function ``load_data_wrapper()``, see\n",
    "    below.\n",
    "    \"\"\"\n",
    "    f = gzip.open('../Data/mnist.pkl.gz', 'rb')\n",
    "    u = cPickle._Unpickler( f )\n",
    "    u.encoding = 'latin1'\n",
    "    #train, val, test = u.load()\n",
    "    training_data, validation_data, test_data = u.load()#cPickle.load(f)\n",
    "    f.close()\n",
    "    return (training_data, validation_data, test_data)\n",
    "\n",
    "def load_data_wrapper():\n",
    "    \"\"\"Return a tuple containing ``(training_data, validation_data,\n",
    "    test_data)``. Based on ``load_data``, but the format is more\n",
    "    convenient for use in our implementation of neural networks.\n",
    "\n",
    "    In particular, ``training_data`` is a list containing 50,000\n",
    "    2-tuples ``(x, y)``.  ``x`` is a 784-dimensional numpy.ndarray\n",
    "    containing the input image.  ``y`` is a 10-dimensional\n",
    "    numpy.ndarray representing the unit vector corresponding to the\n",
    "    correct digit for ``x``.\n",
    "\n",
    "    ``validation_data`` and ``test_data`` are lists containing 10,000\n",
    "    2-tuples ``(x, y)``.  In each case, ``x`` is a 784-dimensional\n",
    "    numpy.ndarry containing the input image, and ``y`` is the\n",
    "    corresponding classification, i.e., the digit values (integers)\n",
    "    corresponding to ``x``.\n",
    "\n",
    "    Obviously, this means we're using slightly different formats for\n",
    "    the training data and the validation / test data.  These formats\n",
    "    turn out to be the most convenient for use in our neural network\n",
    "    code.\"\"\"\n",
    "    tr_d, va_d, te_d = load_data()\n",
    "    training_inputs = [np.reshape(x, (784, 1)) for x in tr_d[0]]\n",
    "    training_results = [vectorized_result(y) for y in tr_d[1]]\n",
    "    training_data = zip(training_inputs, tr_d[1])\n",
    "    validation_inputs = [np.reshape(x, (784, 1)) for x in va_d[0]]\n",
    "    validation_data = zip(validation_inputs, va_d[1])\n",
    "    test_inputs = [np.reshape(x, (784, 1)) for x in te_d[0]]\n",
    "    test_results = [vectorized_result(y) for y in te_d[1]]\n",
    "    test_data = zip(test_inputs, te_d[1])\n",
    "    return (training_data, validation_data, test_data)\n",
    "\n",
    "def vectorized_result(j):\n",
    "    \"\"\"Return a 10-dimensional unit vector with a 1.0 in the jth\n",
    "    position and zeroes elsewhere.  This is used to convert a digit\n",
    "    (0...9) into a corresponding desired output from the neural\n",
    "    network.\"\"\"\n",
    "    e = np.zeros((10, 1))\n",
    "    e[j] = 1.0\n",
    "    return e"
   ]
  },
  {
   "cell_type": "markdown",
   "metadata": {
    "hideCode": false,
    "hidePrompt": false
   },
   "source": [
    "# Conclusion"
   ]
  },
  {
   "cell_type": "code",
   "execution_count": null,
   "metadata": {
    "hideCode": false,
    "hidePrompt": false
   },
   "outputs": [],
   "source": []
  },
  {
   "cell_type": "markdown",
   "metadata": {
    "hideCode": false,
    "hidePrompt": false
   },
   "source": [
    "# Bibliography\n",
    "\n",
    "[1] Project 1: https://github.com/emiliefj/FYS-STK3155/blob/master/Project1/Report/Project%201%20-%20FYS-STK3155.pdf\n",
    "\n",
    "[2] Digits dataset in scikit-learn: https://scikit-learn.org/stable/auto_examples/datasets/plot_digits_last_image.html\n",
    "\n",
    "[3} https://www.bogotobogo.com/python/scikit-learn/scikit-learn_batch-gradient-descent-versus-stochastic-gradient-descent.php\n",
    "\n",
    "[4] Universal approximation theorem: https://en.wikipedia.org/wiki/Universal_approximation_theorem\n",
    "\n",
    "[5] Slides week 40: https://compphysics.github.io/MachineLearning/doc/pub/week40/html/week40.html\n",
    "\n",
    "[6] Softmax function: https://en.wikipedia.org/wiki/Softmax_function\n",
    "\n",
    "[7] Neural Networks and classification of handwritten digits: http://neuralnetworksanddeeplearning.com\n",
    "\n",
    "[8] Softmax Regression tutorial: http://saitcelebi.com/tut/output/part2.html\n",
    "\n",
    "[9] Standford Softmax Regression tutorial: http://deeplearning.stanford.edu/tutorial/supervised/SoftmaxRegression/"
   ]
  },
  {
   "cell_type": "code",
   "execution_count": null,
   "metadata": {
    "hideCode": false,
    "hidePrompt": false
   },
   "outputs": [],
   "source": []
  }
 ],
 "metadata": {
  "celltoolbar": "Hide code",
  "hide_code_all_hidden": false,
  "kernelspec": {
   "display_name": "Python 3",
   "language": "python",
   "name": "python3"
  },
  "language_info": {
   "codemirror_mode": {
    "name": "ipython",
    "version": 3
   },
   "file_extension": ".py",
   "mimetype": "text/x-python",
   "name": "python",
   "nbconvert_exporter": "python",
   "pygments_lexer": "ipython3",
   "version": "3.7.2"
  }
 },
 "nbformat": 4,
 "nbformat_minor": 4
}
