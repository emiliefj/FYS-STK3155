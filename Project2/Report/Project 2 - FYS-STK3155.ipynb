{
 "cells": [
  {
   "cell_type": "markdown",
   "metadata": {},
   "source": [
    "# Abstract"
   ]
  },
  {
   "cell_type": "markdown",
   "metadata": {},
   "source": []
  },
  {
   "cell_type": "markdown",
   "metadata": {},
   "source": [
    "# Introduction "
   ]
  },
  {
   "cell_type": "markdown",
   "metadata": {},
   "source": []
  },
  {
   "cell_type": "code",
   "execution_count": null,
   "metadata": {},
   "outputs": [],
   "source": []
  },
  {
   "cell_type": "markdown",
   "metadata": {},
   "source": [
    "# Data\n",
    "\n",
    "## Franke Function and Terrain Data\n",
    "We will revisit these datasets from project one. For further description refer to the report for project 1 [1]"
   ]
  },
  {
   "cell_type": "markdown",
   "metadata": {},
   "source": [
    "## MNIST Handwritten Numbers\n",
    "For our classification problem we will be using the MNIST database of handwritten numbers, or more specifically a subset of this available as the digits dataset in scikit-learn[2]. \n",
    "\n",
    "This dataset contains pixel images of handwritten numbers. In total the digits dataset contains 1797 8x8 images. Meaning we have a dataset consisting of 1797 data points, each with 64 descriptors or inputs, and one output, the label. \n",
    "\n",
    "We can import this dataset and look at one of the datapoints."
   ]
  },
  {
   "cell_type": "code",
   "execution_count": 39,
   "metadata": {},
   "outputs": [
    {
     "data": {
      "image/png": "[encoded data removed]",
      "text/plain": [
       "<Figure size 216x216 with 1 Axes>"
      ]
     },
     "metadata": {
      "needs_background": "light"
     },
     "output_type": "display_data"
    },
    {
     "name": "stdout",
     "output_type": "stream",
     "text": [
      "Figure 1: Plot of one of the entries in the digits dataset showing a number 8.\n"
     ]
    }
   ],
   "source": [
    "from sklearn import datasets\n",
    "import matplotlib.pyplot as plt\n",
    "\n",
    "# Load the data\n",
    "digits = datasets.load_digits()\n",
    "\n",
    "# Plot a datapoint; the first number in the set\n",
    "plt.figure(1, figsize=(3, 3))\n",
    "plt.imshow(digits.images[-1], cmap=plt.cm.gray_r, interpolation='nearest')\n",
    "plt.title(\"Label: %d\" % digits.target[-1])\n",
    "plt.show()\n",
    "print(\"Figure 1: Plot of one of the entries in the digits dataset showing a number 8.\")"
   ]
  },
  {
   "cell_type": "markdown",
   "metadata": {},
   "source": [
    "We will use this dataset to fit and test our classification models. Before we can do this we need to split the data into a training set and a test set."
   ]
  },
  {
   "cell_type": "code",
   "execution_count": 36,
   "metadata": {},
   "outputs": [],
   "source": [
    "from sklearn.model_selection import train_test_split\n",
    "\n",
    "# Setting the predictors/inputs and the target\n",
    "digit_input = digits.images\n",
    "digit_target = digits.target\n",
    "\n",
    "# Splitting into training and test\n",
    "train_size = 0.8\n",
    "X_train, X_test, Y_train, Y_test = train_test_split(digit_input, digit_target, stratify=digit_target,\n",
    "                                                    train_size=train_size)"
   ]
  },
  {
   "cell_type": "markdown",
   "metadata": {},
   "source": [
    "I want to make sure that the different classes, i.e. the labels are similarly distributed among the test set and the training test. If for instance no occurrences of the label '3' is found in the training set, models trained on this set are expected to perform poorly on identifying such digits in the test set. That is why I have set the $\\texttt{stratify}$ parameter in $\\texttt{train_test_split()}$ above. Let us see if it did its job."
   ]
  },
  {
   "cell_type": "code",
   "execution_count": 38,
   "metadata": {},
   "outputs": [
    {
     "data": {
      "image/png": "[encoded data removed]",
      "text/plain": [
       "<Figure size 720x504 with 1 Axes>"
      ]
     },
     "metadata": {
      "needs_background": "light"
     },
     "output_type": "display_data"
    },
    {
     "name": "stdout",
     "output_type": "stream",
     "text": [
      "Figure 2: Histogram of label distribution in training and test set.\n"
     ]
    }
   ],
   "source": [
    "# Creating histogram \n",
    "fig, ax = plt.subplots(figsize =(10, 7)) \n",
    "ax.hist(Y_train, label='training')\n",
    "ax.hist(Y_test, label='test')\n",
    "plt.legend() \n",
    "plt.xlabel(\"labels\") \n",
    "plt.title(\"Distribution of labels in the training and test set\")\n",
    "  \n",
    "# Show plot \n",
    "plt.show() \n",
    "print(\"Figure 2: Histogram of label distribution in training and test set.\")"
   ]
  },
  {
   "cell_type": "markdown",
   "metadata": {},
   "source": [
    "We see that the labels seem to be very evenly distributed."
   ]
  },
  {
   "cell_type": "markdown",
   "metadata": {},
   "source": [
    "# Methods\n",
    "For descriptions of ordinary least squares and ridge regression, please refer to my report for project 1[1].\n",
    "## Performance Measures\n",
    "For a description of the mean square error and $r^2$ please again consult the report of project 1[1].\n",
    "\n",
    "### Accuracy\n",
    "We use the accuracy score to measure the performance of our classification methods. This measure is given by the number of correctly guessed targets $t_i$ divided by the total number of targets, that is\n",
    "\n",
    "$$\n",
    "\\text{Accuracy} = \\frac{\\sum_{i=1}^n I(t_i = y_i)}{n} ,\n",
    "$$\n",
    "\n",
    "where $I$ is the indicator function, which takes the value $1$ if $t_i = y_i$ and $0$ otherwise (for a binary classification problem). Here $t_i$ represents the target and $y_i$ is the prediction. The number of targets is given by $n$."
   ]
  },
  {
   "cell_type": "markdown",
   "metadata": {},
   "source": [
    "## Regression Methods\n",
    "\n",
    "## Logistic Regression\n",
    "\n",
    "\n",
    "It is called Logistic Regression because it used the logistic function which is basically a sigmoid function. A sigmoid function takes in a value and produces a value between 0 and 1\n",
    "\n",
    "Logistic regression is generally applied to (binary) classification problems. Logistic regression assumes the binomial distribution of the dependent variable. It applies a logistic function to model a binary dependent variable. Logistic regression on a binary outcome is often called binary logistic regression, and can be expended to multiple predictors. This is called multinomal logistic regression. \n",
    "\n",
    "Unlike linear regression, where the outputs take continuous values, we are now interested in discrete outputs, either binary 0/1 or more. To transform the continuous to discrete output we can use a so-called activation function. Several such functions can be used; the step function, the sigmoid, tanhh etc. \n",
    "\n",
    "For the sigmoid function we get\n",
    "\n",
    "$$\n",
    "\\hat{y}_k = g(\\beta^T X_k),\\ g(z) = \\frac{1}{1+\\exp(-z)}\n",
    "$$\n",
    "where $g(z)$ is the sigmoid.\n",
    "\n",
    "While we in linear regression used the mean square error as the cost function, this cost function will we non-convex for the logistic case. Therefore a different cost function is used, which we use maximum likelihood estimation to find. The result is the cross-entropy. The cross-entropy is a convex function of the weights $\\hat{\\beta}$.\n",
    "\n",
    "$$\n",
    "\\mathcal{C}(\\hat{\\beta})=-\\sum_{i=1}^n  \\left(y_i(\\beta_0+\\beta_1x_i) -\\log{(1+\\exp{(\\beta_0+\\beta_1x_i)})}\\right).\n",
    "$$\n",
    "\n",
    "To minimize this function we find the derivatives, written compactly as \n",
    "\n",
    "$$\n",
    "\\frac{\\partial \\mathcal{C}(\\hat{\\beta})}{\\partial \\hat{\\beta}} = -\\hat{X}^T\\left(\\hat{y}-\\hat{p}\\right).\n",
    "$$\n",
    "\n",
    "where $\\hat{p}$ is a vector of fitted probabilities $p(y_i\\vert x_i,\\hat{\\beta})$, and\n",
    "\n",
    "$$\n",
    "\\frac{\\partial^2 \\mathcal{C}(\\boldsymbol{\\beta})}{\\partial \\boldsymbol{\\beta}\\partial \\boldsymbol{\\beta}^T} = \\boldsymbol{X}^T\\boldsymbol{W}\\boldsymbol{X}.\n",
    "$$\n",
    "\n",
    "where $\\boldsymbol{W}$ is a diagonal matrix  with elements $p(y_i\\vert x_i,\\boldsymbol{\\beta})(1-p(y_i\\vert x_i,\\boldsymbol{\\beta})$.\n",
    "\n",
    "Solving these can be done with for instance Newton-Raphson's iterative method or a gradient descent method.\n",
    "[//]: # (Add multinomial logistic regression including softmax)\n",
    "\n",
    "### Regularization\n",
    "We will be adding an $L_2$ regularization parameter $\\lambda$ to our logistic regression. See description of ridge regression in project 1[1] for more info on $L_2$ regularization."
   ]
  },
  {
   "cell_type": "markdown",
   "metadata": {},
   "source": [
    "## Stochastic Gradient Descent\n",
    "\n",
    "Stochastic Gradient Descent (SGD) is a variation of the gradient descent method. There are many different variations of gradient descent but the common denomiator is that they work to find the minima of a function (typically the cost function) by iteratively moving in the direction of steepest descent.\n",
    "\n",
    "In other words, if we want to find the minimum of a function $F(\\mathbf{x})$, we should move in the\n",
    "direction of the negative gradient $-\\nabla F(\\mathbf{x})$.\n",
    "\n",
    "For a (typically small) stepsize $\\gamma_k > 0$ known as the step size, or learning rate we then have \n",
    "\n",
    "$$\n",
    "\\mathbf{x}_{k+1} = \\mathbf{x}_k - \\gamma_k \\nabla F(\\mathbf{x}_k),\n",
    "$$\n",
    "\n",
    "An initial guess is made for $\\mathbf{0}_k$.\n",
    "\n",
    "For a convex cost function and a sufficiently small stepsize $\\gamma_k$ this method can be used to find the global minimum of said cost function.\n",
    "\n",
    "One drawback of this method is that computing the gradient for large datasets can be very computationally expensive. This is where SGD and its variations comes in. Instead of calculating the gradiant for all datapoints, SGD chooses a subset of the data to calculate the gradient on. The method divides the dataset into a set of $n/M$ so-called mini-batches, and for each step the gradient is calculated on one of these mini-batches. These minibatches are denoted by $B_k$ where $k=1,\\cdots,n/M$.\n",
    "\n",
    "Rewriting the gradient descent method in terms of a cost function $C(\\mathbf{\\beta})$, we get\n",
    "\n",
    "$$\n",
    "\\mathbf{\\beta}_{k+1} = \\mathbf{\\beta}_k - \\gamma_k \\nabla_{\\beta} C(\\mathbf{x}_k,\\mathbf{\\beta}_k),\n",
    "$$\n",
    "\n",
    "Taking the gradient with respect to one mini-batch per step we get\n",
    "\n",
    "$$\n",
    "\\beta_{k+1} = \\beta_k - \\gamma_k \\sum_{i \\in B_k}^n \\nabla_\\beta c_i(\\mathbf{x}_i,\n",
    "\\mathbf{\\beta}_k)\n",
    "$$\n",
    "\n",
    "which is the stochastic gradient descent method.\n",
    "\n",
    "In linear regression the cost function is the mean square error. For the gradient of the cost function we then have\n",
    "\n",
    "$$\n",
    "\\nabla_{\\beta} C(\\mathbf{\\beta}) = \\frac{2}{n} \\bigg( X^T (X\\beta-y) + \\lambda \\beta \\bigg)\n",
    "$$\n",
    "\n",
    "here I have added an $L_2$ regularization parameter $\\lambda$ which will be zero for ordinary least squares, but take some non-zero value for ridge. The number of datapoints is given by n. \n",
    "\n",
    "For logistic regression the cost function is the cross-entropy.\n",
    "\n",
    "\n",
    "[//]: # (Add momentum? Momentum based GD: http://localhost:8888/notebooks/Documents/Studier/fys-stk3155/Exercises/MachineLearning/doc/pub/Splines/ipynb/Splines.ipynb)\n"
   ]
  },
  {
   "cell_type": "markdown",
   "metadata": {},
   "source": [
    "## Neural Network\n",
    "Neural networks are a group of models originally inspired by biological neuron used in supervised and unsupervised learning as well as specialized tasks such as image processing. They are non-linear models and can be considered powerful extensions of supervised learning methods like linear and logistic regression  We will be focusing on a type of neuroal networks called feed-forward neural networks (FFNN). \n",
    "\n",
    "### Feed-Forward Neural Network\n",
    "A FFNN is a type of artifical neural network (ANN) made up of layers of connected neurons, also called nodes. They consist of an input layer, followed by one or more so-called hidden layers, and finally an output layer. In each layer there is a certain number of nodes, and this number can vary between the layers. The nodes of one layer are connected with the nodes of the next with an associated weight variable. In addition there may be a bias in each layer. Training the model amounts to finding optimal values for these weights and biases.\n",
    "\n",
    "In FFNN the information flows only forward, from one layer to the next. If all nodes in each layer are connected to all the nodes in the next we have a fully connected network. According to the *Universal approximation theorem*[4], a FFNN with just a single hidden layer containing a finite number of neurons can approximate a continuous multidimensional function to arbitrary accuracy. This result assumes that the activation function for the hidden layer is a non-constant, bounded and monotonically-increasing continuous function.[5] \n",
    "\n",
    "For a fully-connected model each input node sends its input $x_j$ to every node in the first hidden layer. The input to node $i$ of the first hidden layer becomes:\n",
    "\n",
    "$$\n",
    "\\begin{equation} z_i^1 = \\sum_{j=1}^{M} w_{ij}^1 x_j + b_i^1\n",
    "\\end{equation}\n",
    "$$"
   ]
  },
  {
   "cell_type": "markdown",
   "metadata": {},
   "source": [
    "Each input is weighted bu $w_{ij}$ and in addition to the sum over the weighted inputs the node receives a bias contribution $b_i^1$. This bias is to assure we don't end up with zero activation in a layer, as this would stop the flow of information from the input to the output, and give us no output. The ouput from node $i$ in the first hidden layer is \n",
    "\n",
    "$$\n",
    "\\begin{equation}\n",
    " y_i^1 = f(z_i^1) = f\\left(\\sum_{j=1}^M w_{ij}^1 x_j  + b_i^1\\right)\n",
    "\\end{equation}\n",
    "$$\n",
    "\n",
    "where $f(z)$ is the activation function for the hidden layer. The output from the nodes in the hidden layer are given as weighted inputs to all the nodes in the next hidden layer in the same way as described here for this first layer, with a (different or equal) activation function giving the ouput of that next layer. This continues until the output layer. The output from this final layer is the model layer. Typically the nodes in the hidden layers all have the same activation function, while the ouput layer has a different one.\n",
    "\n",
    "Generalizing we get the output from a model with $l$ hidden layers as:\n",
    "\n",
    "$$\n",
    "\\begin{equation}\n",
    "y^{l+1}_i = f^{l+1}\\left[\\!\\sum_{j=1}^{N_l} w_{ij}^3 f^l\\left(\\sum_{k=1}^{N_{l-1}}w_{jk}^{l-1}\\left(\\dots f^1\\left(\\sum_{n=1}^{N_0} w_{mn}^1 x_n+ b_m^1\\right)\\dots\\right)+b_k^2\\right)+b_1^3\\right] \n",
    "\\end{equation}\n",
    "$$\n",
    "\n",
    "which is a nested sum of weighted activation functions.\n",
    "\n",
    "With the biases and activations as $N_l \\times 1$ column vectors $\\hat{b}_l$ and $\\hat{y}_l$, where the $i$-th element of each vector is the bias $b_i^l$ and activation $y_i^l$ of node $i$ in layer $l$ respectively, and the weights as an $N_{l-1} \\times N_l$ matrix, $\\mathrm{W}_l$ we can write the sum as a matrix-vector multiplication. Looking at hidden layer 2 for simplicity we can write this in matrix notation as \n",
    "\n",
    "$$\n",
    "\\begin{equation}\n",
    " \\hat{y}_2 =  \n",
    " f_2\\left(\\left[\\begin{array}{cccc}\n",
    "    w^2_{11} &w^2_{12}  &\\cdots &w^2_{1N_l} \\\\\n",
    "    w^2_{21} &w^2_{22} &\\cdots &\\vdots \\\\\n",
    "    \\vdots   &\\vdots   &       &\\vdots \\\\\n",
    "    w^2_{N_{l-1}1} &w^2_{N_{l-1}2} &\\cdots &w^2_{N_{l-1}N_l} \\\\\n",
    "    \\end{array} \\right] \\cdot\n",
    "    \\left[\\begin{array}{c}\n",
    "           y^1_1 \\\\\n",
    "           y^1_2 \\\\\n",
    "           \\vdots \\\\\n",
    "           y^1_{N_l} \\\\\n",
    "          \\end{array}\\right] + \n",
    "    \\left[\\begin{array}{c}\n",
    "           b^2_1 \\\\\n",
    "           b^2_2 \\\\\n",
    "           \\vdots \\\\\n",
    "           b^2_{N_l} \\\\\n",
    "          \\end{array}\\right]\\right)\n",
    "\\end{equation}\n",
    "$$\n",
    "\n",
    "### Activation Function\n",
    "A choice must be made for the activation function to be usen in the nodes of the hidden layer as well as the nodes of the ouput layer.\n",
    "\n",
    "Typical choices include the one-sided *sigmoid* function\n",
    "\n",
    "$$\n",
    "f(x) = \\frac{1}{1 + e^{-x}},\n",
    "$$\n",
    "which is considered more biologically plausible because the output of inactive neurons are zero.\n",
    "\n",
    "\n",
    "and the *hyperbolic tangent* function\n",
    "\n",
    "$$\n",
    "f(x) = \\tanh(x)\n",
    "$$\n",
    "\n",
    "A generalization of the logistic function often used in multinomial logistic regression is the *softmax* function[6]\n",
    "\n",
    "$$\n",
    "f(x) = \\frac{e^x}{\\sum_{j=1}^K e^{x}},\n",
    "$$\n",
    "\n",
    "which vector of $K$ real numbers as inputs, and normalizes it into a probability distribution consisting of $K$ probabilities proportional to the exponentials of the input numbers. "
   ]
  },
  {
   "cell_type": "code",
   "execution_count": null,
   "metadata": {},
   "outputs": [],
   "source": []
  },
  {
   "cell_type": "code",
   "execution_count": null,
   "metadata": {},
   "outputs": [],
   "source": []
  },
  {
   "cell_type": "markdown",
   "metadata": {},
   "source": [
    "# Results and Discussion\n",
    "\n",
    "## Linear Regression with Gradient Descent\n",
    "\n",
    "In project one we looked modeled the Franke function using ordinary least squares (OLS) and ridge regression. Now we want to modify these methods to use stochastic gradient descent to obtain the fit, i.e the $\\beta$. \n",
    "\n",
    "First we create some data from the Franke function, divide into training and test sets, and scale it."
   ]
  },
  {
   "cell_type": "code",
   "execution_count": 9,
   "metadata": {},
   "outputs": [
    {
     "data": {
      "image/png": "[encoded data removed]",
      "text/plain": [
       "<Figure size 432x288 with 2 Axes>"
      ]
     },
     "metadata": {
      "needs_background": "light"
     },
     "output_type": "display_data"
    },
    {
     "name": "stdout",
     "output_type": "stream",
     "text": [
      "Figure 2: 3D plot of the Franke function with added noise.\n"
     ]
    }
   ],
   "source": [
    "import sys\n",
    "sys.path.append('../Code')\n",
    "import CreateData as cd\n",
    "\n",
    "n = 100 # number of datapoints \n",
    "data = cd.CreateData(n,seed=8)\n",
    "\n",
    "variance = 0.1\n",
    "data.add_normal_noise(0,variance)\n",
    "data.plot_data()\n",
    "print(\"Figure 2: 3D plot of the Franke function with added noise.\")\n",
    "\n",
    "degree = 5\n",
    "test_fraction = 0.25\n",
    "data.create_design_matrix(degree)\n",
    "data.split_dataset(test_fraction)\n",
    "data.scale_dataset(type='standard') # Using SciKit's StandardScaler"
   ]
  },
  {
   "cell_type": "markdown",
   "metadata": {},
   "source": [
    "Now that we have our data, let us fit some regression models to this data and compare their performance."
   ]
  },
  {
   "cell_type": "code",
   "execution_count": 511,
   "metadata": {},
   "outputs": [
    {
     "name": "stdout",
     "output_type": "stream",
     "text": [
      "** Comparing my ols implementation with that of scikit-learn: **\n",
      "The arrays are about the same:  True\n",
      "The mean squared error between my result and that of scikit-learn is:  2.0601779122756744e-22\n"
     ]
    }
   ],
   "source": [
    "# Checking implementation of OLS #\n",
    "## Remove? ##\n",
    "import LinearRegressionwithGradientDescent as lr_gd\n",
    "import numpy as np\n",
    "\n",
    "# Ordinary least squares model\n",
    "ols_model = lr_gd.LinearRegressionwithGradientDescent(method=\"ols\",alpha=0)\n",
    "ols_train = ols_model.fit(data.X_train,data.z_train)\n",
    "ols_test = ols_model.predict(data.X_test)\n",
    "\n",
    "# scikit-learn ols\n",
    "from sklearn.linear_model import LinearRegression\n",
    "skl_ols = LinearRegression(fit_intercept=False) # OLS\n",
    "skl_ols.fit(data.X_train, data.z_train)\n",
    "\n",
    "skl_z_hat = skl_ols.predict(data.X_test)\n",
    "\n",
    "print(\"** Comparing my ols implementation with that of scikit-learn: **\")\n",
    "print(\"The arrays are about the same: \", np.allclose(ols_test,skl_z_hat))\n",
    "print(\"The mean squared error between my result and that of scikit-learn is: \", ols_model.mean_square_error(ols_test,skl_z_hat))\n"
   ]
  },
  {
   "cell_type": "markdown",
   "metadata": {},
   "source": [
    "For OLS there are no parameters to tune. Let us first find the mean square error and the $r^2$ score of our OLS method."
   ]
  },
  {
   "cell_type": "code",
   "execution_count": 506,
   "metadata": {},
   "outputs": [],
   "source": [
    "def mse(pred, actual):\n",
    "    if(pred.shape!=actual.shape):\n",
    "        pred = pred.reshape((-1, 1))\n",
    "        actual = actual.reshape((-1, 1))\n",
    "        \n",
    "    return np.mean((actual-pred)**2)\n",
    "    #return np.square(np.subtract(actual,pred)).mean()\n",
    "\n",
    "def r2(pred,actual):\n",
    "    if(pred.shape!=actual.shape):\n",
    "        pred = pred.reshape((-1, 1))\n",
    "        actual = actual.reshape((-1, 1))\n",
    "    return 1-np.sum((actual-pred)**2)/np.sum((actual-np.mean(actual))**2)"
   ]
  },
  {
   "cell_type": "code",
   "execution_count": 512,
   "metadata": {},
   "outputs": [
    {
     "name": "stdout",
     "output_type": "stream",
     "text": [
      "*** Error measures for OLS method: ***\n",
      "Train:   MSE:  0.012086801248348334   r2:  0.8644398531166579\n",
      "Test:    MSE:  0.012501297568858788   r2:  0.8583664210243516\n"
     ]
    }
   ],
   "source": [
    "# Plot train and test errors for OLS and OLS with SGD\n",
    "\n",
    "print(\"*** Error measures for OLS method: ***\")\n",
    "print(\"Train:   MSE: \", mse(ols_train,data.z_train), \"  r2: \", r2(ols_train,data.z_train))\n",
    "print(\"Test:    MSE: \", mse(ols_test,data.z_test), \"  r2: \", r2(ols_test,data.z_test))"
   ]
  },
  {
   "cell_type": "markdown",
   "metadata": {},
   "source": [
    "For linear regression with gradient descent we have several parameters, the learning rate, the batch size, and the number of epochs. We can now explore how the error is affected by various choices for these parameters."
   ]
  },
  {
   "cell_type": "code",
   "execution_count": 466,
   "metadata": {},
   "outputs": [
    {
     "name": "stdout",
     "output_type": "stream",
     "text": [
      "learning rate:      mse_train:   mse_test:\n",
      "   1.000E-04         3.824    3.556\n",
      "   1.146E-04         6.384    6.472\n",
      "   1.313E-04         3.764    3.770\n",
      "   1.505E-04         4.137    4.102\n",
      "   1.725E-04         2.172    2.079\n",
      "   1.977E-04         0.976    0.930\n",
      "   2.265E-04         1.189    1.186\n",
      "   2.596E-04         0.721    0.706\n",
      "   2.975E-04         2.877    2.908\n",
      "   3.409E-04         0.869    0.823\n",
      "   3.907E-04         0.970    0.932\n",
      "   4.477E-04         0.307    0.291\n",
      "   5.131E-04         0.647    0.642\n",
      "   5.880E-04         1.276    1.240\n",
      "   6.739E-04         0.523    0.479\n",
      "   7.722E-04         0.112    0.108\n",
      "   8.850E-04         0.583    0.550\n",
      "   1.014E-03         0.380    0.339\n",
      "   1.162E-03         0.462    0.457\n",
      "   1.332E-03         0.128    0.117\n",
      "   1.526E-03         0.148    0.138\n",
      "   1.749E-03         0.126    0.123\n",
      "   2.005E-03         0.108    0.106\n",
      "   2.297E-03         0.122    0.121\n",
      "   2.633E-03         0.074    0.074\n",
      "   3.017E-03         0.278    0.267\n",
      "   3.458E-03         0.073    0.070\n",
      "   3.962E-03         0.096    0.095\n",
      "   4.541E-03         0.073    0.067\n",
      "   5.204E-03         0.116    0.115\n",
      "   5.964E-03         0.126    0.126\n",
      "   6.834E-03         0.075    0.075\n",
      "   7.832E-03         0.049    0.049\n",
      "   8.976E-03         0.083    0.083\n",
      "   1.029E-02         0.033    0.033\n",
      "   1.179E-02         0.061    0.057\n",
      "   1.351E-02         0.030    0.030\n",
      "   1.548E-02         0.044    0.045\n",
      "   1.774E-02         0.051    0.051\n",
      "   2.033E-02         0.035    0.034\n",
      "   2.330E-02         0.051    0.051\n",
      "   2.670E-02         0.033    0.032\n",
      "   3.060E-02         0.029    0.028\n",
      "   3.507E-02         0.029    0.028\n",
      "   4.019E-02         0.024    0.025\n",
      "   4.605E-02         0.024    0.024\n",
      "   5.278E-02         0.020    0.020\n",
      "   6.048E-02         0.026    0.025\n",
      "   6.931E-02         0.024    0.025\n",
      "   7.943E-02         412074038694697788438432710656.000    416709206660499603254891511808.000\n"
     ]
    }
   ],
   "source": [
    "# Varying the learning rate #\n",
    "n_epochs = 100\n",
    "batchsize = int(len(data.z_train)/10)\n",
    "learning_rates = np.logspace(-4, -1.1, 50)\n",
    "\n",
    "\n",
    "r2_lr = np.zeros((len(learning_rates),2))\n",
    "mse_lr = np.zeros((len(learning_rates),2))\n",
    "\n",
    "print(\"learning rate:      mse_train:   mse_test:\")\n",
    "for i in range(len(learning_rates)):\n",
    "    current_model = lr_gd.LinearRegressionwithGradientDescent(method=\"sgd\",alpha=0,n_epochs=n_epochs,batchsize=batchsize,learning_rate=learning_rates[i])\n",
    "    train_hat = current_model.fit(data.X_train,data.z_train)\n",
    "    test_hat = current_model.predict(data.X_test)\n",
    "    \n",
    "    mse_lr[i,:] = (mse(train_hat,data.z_train),mse(test_hat,data.z_test))\n",
    "    r2_lr[i,:] = (r2(train_hat,data.z_train),r2(test_hat,data.z_test))\n",
    "    print(f\"   %.3E         %.3f    %.3f\" %(learning_rates[i],mse_lr[i,0],mse_lr[i,1]))\n",
    "\n"
   ]
  },
  {
   "cell_type": "code",
   "execution_count": 467,
   "metadata": {},
   "outputs": [
    {
     "data": {
      "text/plain": [
       "<matplotlib.legend.Legend at 0x1b82c7c4a90>"
      ]
     },
     "execution_count": 467,
     "metadata": {},
     "output_type": "execute_result"
    },
    {
     "data": {
      "image/png": "[encoded data removed]",
      "text/plain": [
       "<Figure size 576x432 with 1 Axes>"
      ]
     },
     "metadata": {
      "needs_background": "light"
     },
     "output_type": "display_data"
    }
   ],
   "source": [
    "import matplotlib.pyplot as plt\n",
    "fig = plt.figure(figsize=(8, 6))\n",
    "plt.plot(np.log10(learning_rates[:-1]),mse_lr[:-1,0], color='#117733', label='$MSE_{train}$')\n",
    "plt.plot(np.log10(learning_rates[:-1]),mse_lr[:-1,1], color='#CC6677', label='$MSE_{test}$')\n",
    "plt.xlabel('learning rate (log scale)')\n",
    "plt.ylabel('MSE')\n",
    "plt.title('MSE for varying learning rate')\n",
    "plt.legend()"
   ]
  },
  {
   "cell_type": "markdown",
   "metadata": {},
   "source": [
    "The error looks to decrease for increasing learning rate, but we see from the print out that the error explodes at a leatrning rate above about 0.07. The increased error for very small learning rate can be explained by the SGD method taking such small steps down the slope it does not reach a minimum. \n",
    "\n",
    "We can let the learning rate vary according to a learning schedule by setting $\\texttt{decay=True}$ when creating the model."
   ]
  },
  {
   "cell_type": "code",
   "execution_count": 552,
   "metadata": {},
   "outputs": [
    {
     "name": "stdout",
     "output_type": "stream",
     "text": [
      "t1:   mse_train:   mse_test:\n",
      "39      269.645        281.059\n",
      "44      0.397        0.409\n",
      "49      0.151        0.151\n",
      "55      0.111        0.107\n",
      "62      0.155        0.157\n",
      "69      0.069        0.068\n",
      "78      0.108        0.102\n",
      "87      0.155        0.152\n",
      "98      0.087        0.085\n",
      "109      0.045        0.043\n",
      "122      0.053        0.052\n",
      "137      0.094        0.089\n",
      "154      0.086        0.084\n",
      "172      0.179        0.161\n",
      "193      0.177        0.162\n",
      "216      0.158        0.152\n",
      "241      0.261        0.245\n",
      "270      0.143        0.148\n",
      "303      0.389        0.350\n",
      "339      0.321        0.303\n",
      "379      0.354        0.327\n",
      "425      0.321        0.325\n",
      "475      0.499        0.477\n",
      "532      0.603        0.596\n",
      "596      1.286        1.238\n",
      "667      0.342        0.367\n",
      "747      0.452        0.441\n",
      "836      0.578        0.567\n",
      "936      0.557        0.539\n",
      "1048      0.419        0.400\n",
      "1173      0.985        0.987\n",
      "1313      0.937        0.924\n",
      "1470      1.481        1.501\n",
      "1645      1.254        1.274\n",
      "1842      1.432        1.461\n",
      "2061      1.360        1.231\n",
      "2308      1.985        1.946\n",
      "2583      2.213        2.155\n",
      "2892      0.627        0.620\n",
      "3237      1.204        1.250\n",
      "3623      4.905        4.768\n",
      "4056      1.006        0.916\n",
      "4540      1.953        1.983\n",
      "5083      4.385        4.394\n",
      "5689      3.630        3.317\n",
      "6369      4.489        4.255\n",
      "7129      2.988        2.914\n",
      "7980      2.852        2.766\n",
      "8933      2.553        2.660\n",
      "10000      2.646        2.520\n"
     ]
    }
   ],
   "source": [
    "importlib.reload(lr_gd)\n",
    "# Learning schedule #\n",
    "n_epochs = 10\n",
    "batchsize = int(len(data.z_train)/10)\n",
    "learning_rate = 0.05\n",
    "\n",
    "t0 = 5.0\n",
    "t1 = np.logspace(1.6, 4, 50)\n",
    "\n",
    "mse_ls = np.zeros((len(t1),2))\n",
    "\n",
    "print(\"t1:   mse_train:   mse_test:\")\n",
    "for i in range(len(t1)):\n",
    "    current_model = lr_gd.LinearRegressionwithGradientDescent(method=\"sgd\",alpha=0,n_epochs=n_epochs,\n",
    "                                                              batchsize=batchsize,learning_rate=learning_rate,\n",
    "                                                              decay=True, t0=t0, t1=t1[i])\n",
    "    train_hat = current_model.fit(data.X_train,data.z_train)\n",
    "    test_hat = current_model.predict(data.X_test)\n",
    "    #mse_ls[i,:] = (mse(train_hat,data.z_train),mse(test_hat,data.z_test))\n",
    "    print(f\"%d      %.3f        %.3f\" %(t1[i],mse_ls[i,0],mse_ls[i,1]))"
   ]
  },
  {
   "cell_type": "code",
   "execution_count": 544,
   "metadata": {},
   "outputs": [
    {
     "data": {
      "text/plain": [
       "1.6232492903979006"
      ]
     },
     "execution_count": 544,
     "metadata": {},
     "output_type": "execute_result"
    }
   ],
   "source": [
    "np.log10(42)"
   ]
  },
  {
   "cell_type": "code",
   "execution_count": 554,
   "metadata": {},
   "outputs": [
    {
     "data": {
      "text/plain": [
       "<matplotlib.legend.Legend at 0x1b82cd18ba8>"
      ]
     },
     "execution_count": 554,
     "metadata": {},
     "output_type": "execute_result"
    },
    {
     "data": {
      "image/png": "[encoded data removed]",
      "text/plain": [
       "<Figure size 576x432 with 1 Axes>"
      ]
     },
     "metadata": {
      "needs_background": "light"
     },
     "output_type": "display_data"
    }
   ],
   "source": [
    "fig = plt.figure(figsize=(8, 6))\n",
    "plt.plot(np.log10(t1),mse_ls[:,0], color='#117733', label='$MSE_{train}$')\n",
    "plt.plot(np.log10(t1),mse_ls[:,1], color='#CC6677', label='$MSE_{test}$')\n",
    "plt.xlabel('t1 (log scale)')\n",
    "plt.ylabel('MSE')\n",
    "axes = plt.gca()\n",
    "axes.set_ylim([0, 10])\n",
    "plt.title('MSE for varying the learning schedule, $t_0=5$')\n",
    "plt.legend() \n",
    "plt.show()\n",
    "print(\"Figure : The mean square error for varying learning schedule.\")"
   ]
  },
  {
   "cell_type": "markdown",
   "metadata": {},
   "source": [
    "We see that a too small value for $\\textt{t1}$ leads to the error exploding, but the error also startes rising for large t1. The sweet spot appears to be around $50<\\textt{t1}<200$."
   ]
  },
  {
   "cell_type": "code",
   "execution_count": 437,
   "metadata": {},
   "outputs": [
    {
     "name": "stdout",
     "output_type": "stream",
     "text": [
      "n_epoch:   mse_train:   mse_test:\n",
      "  1        1.06657    1.03089\n",
      "  2        0.19222    0.18306\n",
      "  3        0.20743    0.20348\n",
      "  5        0.10754    0.10622\n",
      "  8        0.08076    0.08312\n",
      "  12        0.06147    0.06058\n",
      "  18        0.03550    0.03472\n",
      "  28        0.03824    0.03692\n",
      "  42        0.03629    0.03611\n",
      "  64        0.03790    0.03652\n",
      "  98        0.02686    0.02608\n",
      "  148        0.02978    0.03015\n",
      "  223        0.02528    0.02514\n",
      "  338        0.02481    0.02409\n",
      "  510        0.02011    0.01977\n",
      "  771        0.02089    0.02073\n",
      "  1165        0.01876    0.01876\n",
      "  1761        0.01747    0.01751\n",
      "  2660        0.01779    0.01789\n",
      "  4019        0.01588    0.01605\n",
      "  6072        0.01592    0.01586\n",
      "  9172        0.01515    0.01513\n",
      "  13856        0.01421    0.01431\n",
      "  20933        0.01415    0.01431\n",
      "  31622        0.01418    0.01437\n"
     ]
    }
   ],
   "source": [
    "# Varying the number of epochs #\n",
    "learning_rate = 0.05\n",
    "epochs = np.logspace(0.2, 4.5, 25)\n",
    "mse_epoch = np.zeros((len(epochs),2))\n",
    "print(\"n_epoch:   mse_train:   mse_test:\")\n",
    "for i in range(len(epochs)):\n",
    "    current_model = lr_gd.LinearRegressionwithGradientDescent(method=\"sgd\",alpha=0,n_epochs=int(epochs[i]),batchsize=batchsize,learning_rate=learning_rate)\n",
    "    train_hat = current_model.fit(data.X_train,data.z_train)\n",
    "    test_hat = current_model.predict(data.X_test)\n",
    "    #mse_epoch[i,:] = (mse(train_hat,data.z_train),mse(test_hat,data.z_test))\n",
    "    print(f\"  %d        %.5f    %.5f\" %(epochs[i],mse_epoch[i,0],mse_epoch[i,1]))\n"
   ]
  },
  {
   "cell_type": "code",
   "execution_count": 438,
   "metadata": {},
   "outputs": [
    {
     "data": {
      "text/plain": [
       "<matplotlib.legend.Legend at 0x1b82b388518>"
      ]
     },
     "execution_count": 438,
     "metadata": {},
     "output_type": "execute_result"
    },
    {
     "data": {
      "image/png": "[encoded data removed]",
      "text/plain": [
       "<Figure size 576x432 with 1 Axes>"
      ]
     },
     "metadata": {
      "needs_background": "light"
     },
     "output_type": "display_data"
    }
   ],
   "source": [
    "fig = plt.figure(figsize=(8, 6))\n",
    "plt.plot(np.log10(epochs),mse_epoch[:,0], color='#117733', label='$MSE_{train}$')\n",
    "plt.plot(np.log10(epochs),mse_epoch[:,1], color='#CC6677', label='$MSE_{test}$')\n",
    "plt.xlabel('Numper of epochs (log scale)')\n",
    "plt.ylabel('MSE')\n",
    "plt.title('MSE for varying the number of epochs')\n",
    "plt.legend()  "
   ]
  },
  {
   "cell_type": "markdown",
   "metadata": {},
   "source": [
    "We see that the error decreases as the number of epochs increases, as expected, and flattens out as the number of epochs grows large. using 100+ epochs seems satisfactory, although there is some benefit to increasing it to 1000+ whether that is worth it or not will depend on computation cost and prescicion requirements."
   ]
  },
  {
   "cell_type": "code",
   "execution_count": 427,
   "metadata": {},
   "outputs": [
    {
     "name": "stdout",
     "output_type": "stream",
     "text": [
      "batchsize:   mse_train:   mse_test:\n",
      "   5         0.36577     0.36662\n",
      "   6         0.07312     0.07363\n",
      "   8         0.01570     0.01585\n",
      "   10         0.01966     0.01998\n",
      "   14         0.01930     0.01950\n",
      "   18         0.01827     0.01801\n",
      "   23         0.01671     0.01707\n",
      "   30         0.02007     0.02041\n",
      "   39         0.02043     0.02049\n",
      "   51         0.02054     0.02101\n",
      "   66         0.01953     0.01948\n",
      "   86         0.02010     0.02012\n",
      "   112         0.02249     0.02253\n",
      "   145         0.02241     0.02278\n",
      "   188         0.02569     0.02576\n",
      "   244         0.01807     0.01790\n",
      "   316         0.01848     0.01831\n",
      "   409         0.02361     0.02358\n",
      "   530         0.02451     0.02485\n",
      "   687         0.02321     0.02319\n",
      "   891         0.03336     0.03304\n",
      "   1154         0.03154     0.03254\n",
      "   1496         0.03829     0.03757\n",
      "   1938         0.05182     0.05305\n",
      "   2511         0.04475     0.04409\n"
     ]
    }
   ],
   "source": [
    "from sklearn.metrics import mean_squared_error\n",
    "from sklearn.metrics import r2_score\n",
    "# Varying the batch size #\n",
    "learning_rate = 0.05\n",
    "n_epoch = 100\n",
    "\n",
    "sizes = np.logspace(0.7, 3.4, 25)\n",
    "mse_batch = np.zeros((len(sizes),2))\n",
    "\n",
    "print(\"batchsize:   mse_train:   mse_test:\")\n",
    "for i in range(len(sizes)):\n",
    "    current_model = lr_gd.LinearRegressionwithGradientDescent(method=\"sgd\",alpha=0,n_epochs=n_epoch,batchsize=int(sizes[i]),learning_rate=learning_rate)\n",
    "    train_hat = current_model.fit(data.X_train,data.z_train)\n",
    "    test_hat = current_model.predict(data.X_test)\n",
    "    #mse_batch[i,:] = (mse(train_hat,data.z_train),mse(test_hat,data.z_test))\n",
    "    print(f\"   %d         %.5f     %.5f\" %(sizes[i],mse_batch[i,0],mse_batch[i,1]))\n",
    "                                                              \n"
   ]
  },
  {
   "cell_type": "code",
   "execution_count": 413,
   "metadata": {},
   "outputs": [
    {
     "data": {
      "text/plain": [
       "0.7781512503836436"
      ]
     },
     "execution_count": 413,
     "metadata": {},
     "output_type": "execute_result"
    }
   ],
   "source": [
    "np.log10(6)"
   ]
  },
  {
   "cell_type": "code",
   "execution_count": 428,
   "metadata": {},
   "outputs": [
    {
     "data": {
      "text/plain": [
       "<matplotlib.legend.Legend at 0x1b82b4c0d30>"
      ]
     },
     "execution_count": 428,
     "metadata": {},
     "output_type": "execute_result"
    },
    {
     "data": {
      "image/png": "[encoded data removed]",
      "text/plain": [
       "<Figure size 576x432 with 1 Axes>"
      ]
     },
     "metadata": {
      "needs_background": "light"
     },
     "output_type": "display_data"
    }
   ],
   "source": [
    "fig = plt.figure(figsize=(8, 6))\n",
    "plt.plot(np.log10(sizes),mse_batch[:,0], color='#117733', label='$MSE_{train}$')\n",
    "plt.plot(np.log10(sizes),mse_batch[:,1], color='#CC6677', label='$MSE_{test}$')\n",
    "plt.xlabel('batch size  (log scale)')\n",
    "plt.ylabel('MSE')\n",
    "plt.title('MSE for varying the batch size')\n",
    "plt.legend() "
   ]
  },
  {
   "cell_type": "markdown",
   "metadata": {},
   "source": [
    "As we see the error explodes for small batch size. Let us look at how the error changes with varying (larger) batchsize by excluding the smallest size."
   ]
  },
  {
   "cell_type": "code",
   "execution_count": 429,
   "metadata": {},
   "outputs": [
    {
     "data": {
      "text/plain": [
       "<matplotlib.legend.Legend at 0x1b82b554748>"
      ]
     },
     "execution_count": 429,
     "metadata": {},
     "output_type": "execute_result"
    },
    {
     "data": {
      "image/png": "[encoded data removed]",
      "text/plain": [
       "<Figure size 576x432 with 1 Axes>"
      ]
     },
     "metadata": {
      "needs_background": "light"
     },
     "output_type": "display_data"
    }
   ],
   "source": [
    "fig = plt.figure(figsize=(8, 6))\n",
    "plt.plot(np.log10(sizes[1:]),mse_batch[1:,0], color='#117733', label='$MSE_{train}$')\n",
    "plt.plot(np.log10(sizes[1:]),mse_batch[1:,1], color='#CC6677', label='$MSE_{test}$')\n",
    "\n",
    "plt.xlabel('batch size  (log scale)')\n",
    "plt.ylabel('MSE')\n",
    "plt.title('MSE for varying the batch size')\n",
    "plt.legend()"
   ]
  },
  {
   "cell_type": "markdown",
   "metadata": {},
   "source": [
    "For any batchsize > 7, the performance is fairly stable at a minimum. As the batchsize grows very large the error rises again, and a batchsize < 1000 (less than half the test set) is recommended.\n",
    "\n",
    "Let us move on to look at ridge regression with gradient descent. I will be using k-fold cross validation for this.\n"
   ]
  },
  {
   "cell_type": "code",
   "execution_count": 579,
   "metadata": {},
   "outputs": [
    {
     "name": "stdout",
     "output_type": "stream",
     "text": [
      "Table 1: MSE for ridge regression with stochastic gradient descent on franke function with noise\n"
     ]
    },
    {
     "data": {
      "text/html": [
       "<div>\n",
       "<style scoped>\n",
       "    .dataframe tbody tr th:only-of-type {\n",
       "        vertical-align: middle;\n",
       "    }\n",
       "\n",
       "    .dataframe tbody tr th {\n",
       "        vertical-align: top;\n",
       "    }\n",
       "\n",
       "    .dataframe thead th {\n",
       "        text-align: right;\n",
       "    }\n",
       "</style>\n",
       "<table border=\"1\" class=\"dataframe\">\n",
       "  <thead>\n",
       "    <tr style=\"text-align: right;\">\n",
       "      <th></th>\n",
       "      <th>gma=1.0e-04</th>\n",
       "      <th>gma=1.7e-04</th>\n",
       "      <th>gma=2.8e-04</th>\n",
       "      <th>gma=4.6e-04</th>\n",
       "      <th>gma=7.7e-04</th>\n",
       "      <th>gma=1.3e-03</th>\n",
       "      <th>gma=2.2e-03</th>\n",
       "      <th>gma=3.6e-03</th>\n",
       "      <th>gma=6.0e-03</th>\n",
       "      <th>gma=1.0e-02</th>\n",
       "    </tr>\n",
       "  </thead>\n",
       "  <tbody>\n",
       "    <tr>\n",
       "      <th>lbd=1.0e-05</th>\n",
       "      <td>3.725935</td>\n",
       "      <td>2.364426</td>\n",
       "      <td>1.747935</td>\n",
       "      <td>1.005520</td>\n",
       "      <td>0.484093</td>\n",
       "      <td>3.779150e-01</td>\n",
       "      <td>1.288262e-01</td>\n",
       "      <td>8.911351e-02</td>\n",
       "      <td>1.025511e-01</td>\n",
       "      <td>6.759342e-02</td>\n",
       "    </tr>\n",
       "    <tr>\n",
       "      <th>lbd=1.8e-05</th>\n",
       "      <td>3.991082</td>\n",
       "      <td>2.717927</td>\n",
       "      <td>1.959196</td>\n",
       "      <td>0.946724</td>\n",
       "      <td>0.744892</td>\n",
       "      <td>3.515901e-01</td>\n",
       "      <td>2.382328e-01</td>\n",
       "      <td>1.048870e-01</td>\n",
       "      <td>7.713890e-02</td>\n",
       "      <td>4.929069e-02</td>\n",
       "    </tr>\n",
       "    <tr>\n",
       "      <th>lbd=3.2e-05</th>\n",
       "      <td>2.925118</td>\n",
       "      <td>2.502401</td>\n",
       "      <td>1.503541</td>\n",
       "      <td>0.915243</td>\n",
       "      <td>0.538663</td>\n",
       "      <td>2.942540e-01</td>\n",
       "      <td>1.840742e-01</td>\n",
       "      <td>1.232835e-01</td>\n",
       "      <td>1.157149e-01</td>\n",
       "      <td>6.872037e-02</td>\n",
       "    </tr>\n",
       "    <tr>\n",
       "      <th>lbd=5.6e-05</th>\n",
       "      <td>3.757630</td>\n",
       "      <td>2.232690</td>\n",
       "      <td>1.230748</td>\n",
       "      <td>1.549314</td>\n",
       "      <td>0.883988</td>\n",
       "      <td>4.156828e-01</td>\n",
       "      <td>1.668952e-01</td>\n",
       "      <td>1.250718e-01</td>\n",
       "      <td>8.414546e-02</td>\n",
       "      <td>7.325781e-02</td>\n",
       "    </tr>\n",
       "    <tr>\n",
       "      <th>lbd=1.0e-04</th>\n",
       "      <td>2.543067</td>\n",
       "      <td>2.096516</td>\n",
       "      <td>2.519703</td>\n",
       "      <td>0.702029</td>\n",
       "      <td>0.712204</td>\n",
       "      <td>3.114047e-01</td>\n",
       "      <td>1.830533e-01</td>\n",
       "      <td>7.503657e-02</td>\n",
       "      <td>8.765904e-02</td>\n",
       "      <td>6.507399e-02</td>\n",
       "    </tr>\n",
       "    <tr>\n",
       "      <th>lbd=1.8e-04</th>\n",
       "      <td>2.177148</td>\n",
       "      <td>1.975633</td>\n",
       "      <td>0.994389</td>\n",
       "      <td>0.835862</td>\n",
       "      <td>0.468081</td>\n",
       "      <td>2.818677e-01</td>\n",
       "      <td>1.571501e-01</td>\n",
       "      <td>8.852342e-02</td>\n",
       "      <td>8.858018e-02</td>\n",
       "      <td>5.478548e-02</td>\n",
       "    </tr>\n",
       "    <tr>\n",
       "      <th>lbd=3.2e-04</th>\n",
       "      <td>2.490401</td>\n",
       "      <td>2.149087</td>\n",
       "      <td>1.760523</td>\n",
       "      <td>0.782967</td>\n",
       "      <td>1.009630</td>\n",
       "      <td>3.769570e-01</td>\n",
       "      <td>1.584907e-01</td>\n",
       "      <td>9.428089e-02</td>\n",
       "      <td>8.030076e-02</td>\n",
       "      <td>3.475723e-02</td>\n",
       "    </tr>\n",
       "    <tr>\n",
       "      <th>lbd=5.6e-04</th>\n",
       "      <td>3.517023</td>\n",
       "      <td>2.293972</td>\n",
       "      <td>1.374792</td>\n",
       "      <td>1.060141</td>\n",
       "      <td>0.680489</td>\n",
       "      <td>2.701840e-01</td>\n",
       "      <td>1.384357e-01</td>\n",
       "      <td>7.958468e-02</td>\n",
       "      <td>8.515914e-02</td>\n",
       "      <td>4.852257e-02</td>\n",
       "    </tr>\n",
       "    <tr>\n",
       "      <th>lbd=1.0e-03</th>\n",
       "      <td>4.577722</td>\n",
       "      <td>2.015983</td>\n",
       "      <td>1.775486</td>\n",
       "      <td>1.272424</td>\n",
       "      <td>0.582155</td>\n",
       "      <td>2.988161e-01</td>\n",
       "      <td>2.175703e-01</td>\n",
       "      <td>9.306532e-02</td>\n",
       "      <td>7.778869e-02</td>\n",
       "      <td>1.049033e-01</td>\n",
       "    </tr>\n",
       "    <tr>\n",
       "      <th>lbd=1.8e-03</th>\n",
       "      <td>2.406511</td>\n",
       "      <td>3.017388</td>\n",
       "      <td>1.264316</td>\n",
       "      <td>0.708901</td>\n",
       "      <td>0.531646</td>\n",
       "      <td>3.513089e-01</td>\n",
       "      <td>1.622063e-01</td>\n",
       "      <td>9.413502e-02</td>\n",
       "      <td>1.095509e-01</td>\n",
       "      <td>7.700782e-02</td>\n",
       "    </tr>\n",
       "    <tr>\n",
       "      <th>lbd=3.2e-03</th>\n",
       "      <td>4.619521</td>\n",
       "      <td>2.560550</td>\n",
       "      <td>1.716580</td>\n",
       "      <td>1.856323</td>\n",
       "      <td>0.599544</td>\n",
       "      <td>3.307677e-01</td>\n",
       "      <td>2.158506e-01</td>\n",
       "      <td>1.243388e-01</td>\n",
       "      <td>8.303261e-02</td>\n",
       "      <td>7.400362e-02</td>\n",
       "    </tr>\n",
       "    <tr>\n",
       "      <th>lbd=5.6e-03</th>\n",
       "      <td>2.679116</td>\n",
       "      <td>2.560957</td>\n",
       "      <td>1.807413</td>\n",
       "      <td>1.120330</td>\n",
       "      <td>0.716287</td>\n",
       "      <td>4.114804e-01</td>\n",
       "      <td>2.955764e-01</td>\n",
       "      <td>1.212852e-01</td>\n",
       "      <td>8.985665e-02</td>\n",
       "      <td>7.523822e-02</td>\n",
       "    </tr>\n",
       "    <tr>\n",
       "      <th>lbd=1.0e-02</th>\n",
       "      <td>4.920788</td>\n",
       "      <td>3.206894</td>\n",
       "      <td>1.246412</td>\n",
       "      <td>0.719025</td>\n",
       "      <td>0.433102</td>\n",
       "      <td>3.260419e-01</td>\n",
       "      <td>2.656583e-01</td>\n",
       "      <td>1.126125e-01</td>\n",
       "      <td>1.230362e-01</td>\n",
       "      <td>8.968891e-02</td>\n",
       "    </tr>\n",
       "    <tr>\n",
       "      <th>lbd=1.8e-02</th>\n",
       "      <td>2.798544</td>\n",
       "      <td>2.732572</td>\n",
       "      <td>1.646425</td>\n",
       "      <td>1.076159</td>\n",
       "      <td>0.618595</td>\n",
       "      <td>4.981976e-01</td>\n",
       "      <td>2.017322e-01</td>\n",
       "      <td>1.310619e-01</td>\n",
       "      <td>1.085410e-01</td>\n",
       "      <td>7.979904e-02</td>\n",
       "    </tr>\n",
       "    <tr>\n",
       "      <th>lbd=3.2e-02</th>\n",
       "      <td>4.088481</td>\n",
       "      <td>2.467577</td>\n",
       "      <td>2.073210</td>\n",
       "      <td>0.881496</td>\n",
       "      <td>0.755052</td>\n",
       "      <td>3.327372e-01</td>\n",
       "      <td>2.046064e-01</td>\n",
       "      <td>1.501260e-01</td>\n",
       "      <td>1.492302e-01</td>\n",
       "      <td>9.224471e-02</td>\n",
       "    </tr>\n",
       "    <tr>\n",
       "      <th>lbd=5.6e-02</th>\n",
       "      <td>3.124228</td>\n",
       "      <td>2.889511</td>\n",
       "      <td>2.205992</td>\n",
       "      <td>1.162802</td>\n",
       "      <td>0.901858</td>\n",
       "      <td>4.856981e-01</td>\n",
       "      <td>1.784906e-01</td>\n",
       "      <td>1.493536e-01</td>\n",
       "      <td>9.611448e-02</td>\n",
       "      <td>1.338532e-01</td>\n",
       "    </tr>\n",
       "    <tr>\n",
       "      <th>lbd=1.0e-01</th>\n",
       "      <td>4.566544</td>\n",
       "      <td>3.179957</td>\n",
       "      <td>1.360707</td>\n",
       "      <td>1.341528</td>\n",
       "      <td>0.630537</td>\n",
       "      <td>3.614996e-01</td>\n",
       "      <td>1.636681e-01</td>\n",
       "      <td>1.851178e-01</td>\n",
       "      <td>2.215798e-01</td>\n",
       "      <td>2.187760e-01</td>\n",
       "    </tr>\n",
       "    <tr>\n",
       "      <th>lbd=1.8e-01</th>\n",
       "      <td>3.758638</td>\n",
       "      <td>2.471121</td>\n",
       "      <td>1.513020</td>\n",
       "      <td>1.187238</td>\n",
       "      <td>0.550395</td>\n",
       "      <td>4.874800e-01</td>\n",
       "      <td>2.471689e-01</td>\n",
       "      <td>2.532076e-01</td>\n",
       "      <td>3.185512e-01</td>\n",
       "      <td>6.969463e-01</td>\n",
       "    </tr>\n",
       "    <tr>\n",
       "      <th>lbd=3.2e-01</th>\n",
       "      <td>3.274232</td>\n",
       "      <td>1.587849</td>\n",
       "      <td>1.855602</td>\n",
       "      <td>1.479992</td>\n",
       "      <td>0.876462</td>\n",
       "      <td>9.992504e-01</td>\n",
       "      <td>4.767041e-01</td>\n",
       "      <td>6.642003e-01</td>\n",
       "      <td>2.243632e+00</td>\n",
       "      <td>9.484445e+00</td>\n",
       "    </tr>\n",
       "    <tr>\n",
       "      <th>lbd=5.6e-01</th>\n",
       "      <td>3.128446</td>\n",
       "      <td>3.934900</td>\n",
       "      <td>1.422290</td>\n",
       "      <td>1.401128</td>\n",
       "      <td>1.322720</td>\n",
       "      <td>5.931463e-01</td>\n",
       "      <td>1.225931e+00</td>\n",
       "      <td>1.511379e+00</td>\n",
       "      <td>1.579279e+01</td>\n",
       "      <td>2.303827e+02</td>\n",
       "    </tr>\n",
       "    <tr>\n",
       "      <th>lbd=1.0e+00</th>\n",
       "      <td>4.386353</td>\n",
       "      <td>2.171664</td>\n",
       "      <td>3.429318</td>\n",
       "      <td>2.005474</td>\n",
       "      <td>1.472829</td>\n",
       "      <td>2.703393e+00</td>\n",
       "      <td>3.114210e+00</td>\n",
       "      <td>2.374454e+01</td>\n",
       "      <td>9.180223e+02</td>\n",
       "      <td>1.938677e+05</td>\n",
       "    </tr>\n",
       "    <tr>\n",
       "      <th>lbd=1.8e+00</th>\n",
       "      <td>3.868532</td>\n",
       "      <td>3.829406</td>\n",
       "      <td>2.869754</td>\n",
       "      <td>4.382948</td>\n",
       "      <td>4.350749</td>\n",
       "      <td>1.952982e+01</td>\n",
       "      <td>4.060081e+01</td>\n",
       "      <td>2.036525e+03</td>\n",
       "      <td>1.637342e+06</td>\n",
       "      <td>6.807192e+10</td>\n",
       "    </tr>\n",
       "    <tr>\n",
       "      <th>lbd=3.2e+00</th>\n",
       "      <td>7.685633</td>\n",
       "      <td>3.498730</td>\n",
       "      <td>7.366863</td>\n",
       "      <td>6.712132</td>\n",
       "      <td>22.260778</td>\n",
       "      <td>2.516977e+02</td>\n",
       "      <td>4.621130e+03</td>\n",
       "      <td>4.945378e+06</td>\n",
       "      <td>7.442882e+11</td>\n",
       "      <td>1.460099e+20</td>\n",
       "    </tr>\n",
       "    <tr>\n",
       "      <th>lbd=5.6e+00</th>\n",
       "      <td>12.952146</td>\n",
       "      <td>6.919822</td>\n",
       "      <td>20.515900</td>\n",
       "      <td>80.165846</td>\n",
       "      <td>552.427289</td>\n",
       "      <td>3.727605e+04</td>\n",
       "      <td>4.662499e+07</td>\n",
       "      <td>7.063467e+12</td>\n",
       "      <td>3.009031e+21</td>\n",
       "      <td>3.852045e+36</td>\n",
       "    </tr>\n",
       "    <tr>\n",
       "      <th>lbd=1.0e+01</th>\n",
       "      <td>18.547570</td>\n",
       "      <td>9.137685</td>\n",
       "      <td>136.132269</td>\n",
       "      <td>1444.492065</td>\n",
       "      <td>123837.591953</td>\n",
       "      <td>1.807664e+08</td>\n",
       "      <td>1.208312e+14</td>\n",
       "      <td>5.026036e+23</td>\n",
       "      <td>1.703910e+39</td>\n",
       "      <td>6.460290e+64</td>\n",
       "    </tr>\n",
       "  </tbody>\n",
       "</table>\n",
       "</div>"
      ],
      "text/plain": [
       "             gma=1.0e-04  gma=1.7e-04  gma=2.8e-04  gma=4.6e-04  \\\n",
       "lbd=1.0e-05     3.725935     2.364426     1.747935     1.005520   \n",
       "lbd=1.8e-05     3.991082     2.717927     1.959196     0.946724   \n",
       "lbd=3.2e-05     2.925118     2.502401     1.503541     0.915243   \n",
       "lbd=5.6e-05     3.757630     2.232690     1.230748     1.549314   \n",
       "lbd=1.0e-04     2.543067     2.096516     2.519703     0.702029   \n",
       "lbd=1.8e-04     2.177148     1.975633     0.994389     0.835862   \n",
       "lbd=3.2e-04     2.490401     2.149087     1.760523     0.782967   \n",
       "lbd=5.6e-04     3.517023     2.293972     1.374792     1.060141   \n",
       "lbd=1.0e-03     4.577722     2.015983     1.775486     1.272424   \n",
       "lbd=1.8e-03     2.406511     3.017388     1.264316     0.708901   \n",
       "lbd=3.2e-03     4.619521     2.560550     1.716580     1.856323   \n",
       "lbd=5.6e-03     2.679116     2.560957     1.807413     1.120330   \n",
       "lbd=1.0e-02     4.920788     3.206894     1.246412     0.719025   \n",
       "lbd=1.8e-02     2.798544     2.732572     1.646425     1.076159   \n",
       "lbd=3.2e-02     4.088481     2.467577     2.073210     0.881496   \n",
       "lbd=5.6e-02     3.124228     2.889511     2.205992     1.162802   \n",
       "lbd=1.0e-01     4.566544     3.179957     1.360707     1.341528   \n",
       "lbd=1.8e-01     3.758638     2.471121     1.513020     1.187238   \n",
       "lbd=3.2e-01     3.274232     1.587849     1.855602     1.479992   \n",
       "lbd=5.6e-01     3.128446     3.934900     1.422290     1.401128   \n",
       "lbd=1.0e+00     4.386353     2.171664     3.429318     2.005474   \n",
       "lbd=1.8e+00     3.868532     3.829406     2.869754     4.382948   \n",
       "lbd=3.2e+00     7.685633     3.498730     7.366863     6.712132   \n",
       "lbd=5.6e+00    12.952146     6.919822    20.515900    80.165846   \n",
       "lbd=1.0e+01    18.547570     9.137685   136.132269  1444.492065   \n",
       "\n",
       "               gma=7.7e-04   gma=1.3e-03   gma=2.2e-03   gma=3.6e-03  \\\n",
       "lbd=1.0e-05       0.484093  3.779150e-01  1.288262e-01  8.911351e-02   \n",
       "lbd=1.8e-05       0.744892  3.515901e-01  2.382328e-01  1.048870e-01   \n",
       "lbd=3.2e-05       0.538663  2.942540e-01  1.840742e-01  1.232835e-01   \n",
       "lbd=5.6e-05       0.883988  4.156828e-01  1.668952e-01  1.250718e-01   \n",
       "lbd=1.0e-04       0.712204  3.114047e-01  1.830533e-01  7.503657e-02   \n",
       "lbd=1.8e-04       0.468081  2.818677e-01  1.571501e-01  8.852342e-02   \n",
       "lbd=3.2e-04       1.009630  3.769570e-01  1.584907e-01  9.428089e-02   \n",
       "lbd=5.6e-04       0.680489  2.701840e-01  1.384357e-01  7.958468e-02   \n",
       "lbd=1.0e-03       0.582155  2.988161e-01  2.175703e-01  9.306532e-02   \n",
       "lbd=1.8e-03       0.531646  3.513089e-01  1.622063e-01  9.413502e-02   \n",
       "lbd=3.2e-03       0.599544  3.307677e-01  2.158506e-01  1.243388e-01   \n",
       "lbd=5.6e-03       0.716287  4.114804e-01  2.955764e-01  1.212852e-01   \n",
       "lbd=1.0e-02       0.433102  3.260419e-01  2.656583e-01  1.126125e-01   \n",
       "lbd=1.8e-02       0.618595  4.981976e-01  2.017322e-01  1.310619e-01   \n",
       "lbd=3.2e-02       0.755052  3.327372e-01  2.046064e-01  1.501260e-01   \n",
       "lbd=5.6e-02       0.901858  4.856981e-01  1.784906e-01  1.493536e-01   \n",
       "lbd=1.0e-01       0.630537  3.614996e-01  1.636681e-01  1.851178e-01   \n",
       "lbd=1.8e-01       0.550395  4.874800e-01  2.471689e-01  2.532076e-01   \n",
       "lbd=3.2e-01       0.876462  9.992504e-01  4.767041e-01  6.642003e-01   \n",
       "lbd=5.6e-01       1.322720  5.931463e-01  1.225931e+00  1.511379e+00   \n",
       "lbd=1.0e+00       1.472829  2.703393e+00  3.114210e+00  2.374454e+01   \n",
       "lbd=1.8e+00       4.350749  1.952982e+01  4.060081e+01  2.036525e+03   \n",
       "lbd=3.2e+00      22.260778  2.516977e+02  4.621130e+03  4.945378e+06   \n",
       "lbd=5.6e+00     552.427289  3.727605e+04  4.662499e+07  7.063467e+12   \n",
       "lbd=1.0e+01  123837.591953  1.807664e+08  1.208312e+14  5.026036e+23   \n",
       "\n",
       "              gma=6.0e-03   gma=1.0e-02  \n",
       "lbd=1.0e-05  1.025511e-01  6.759342e-02  \n",
       "lbd=1.8e-05  7.713890e-02  4.929069e-02  \n",
       "lbd=3.2e-05  1.157149e-01  6.872037e-02  \n",
       "lbd=5.6e-05  8.414546e-02  7.325781e-02  \n",
       "lbd=1.0e-04  8.765904e-02  6.507399e-02  \n",
       "lbd=1.8e-04  8.858018e-02  5.478548e-02  \n",
       "lbd=3.2e-04  8.030076e-02  3.475723e-02  \n",
       "lbd=5.6e-04  8.515914e-02  4.852257e-02  \n",
       "lbd=1.0e-03  7.778869e-02  1.049033e-01  \n",
       "lbd=1.8e-03  1.095509e-01  7.700782e-02  \n",
       "lbd=3.2e-03  8.303261e-02  7.400362e-02  \n",
       "lbd=5.6e-03  8.985665e-02  7.523822e-02  \n",
       "lbd=1.0e-02  1.230362e-01  8.968891e-02  \n",
       "lbd=1.8e-02  1.085410e-01  7.979904e-02  \n",
       "lbd=3.2e-02  1.492302e-01  9.224471e-02  \n",
       "lbd=5.6e-02  9.611448e-02  1.338532e-01  \n",
       "lbd=1.0e-01  2.215798e-01  2.187760e-01  \n",
       "lbd=1.8e-01  3.185512e-01  6.969463e-01  \n",
       "lbd=3.2e-01  2.243632e+00  9.484445e+00  \n",
       "lbd=5.6e-01  1.579279e+01  2.303827e+02  \n",
       "lbd=1.0e+00  9.180223e+02  1.938677e+05  \n",
       "lbd=1.8e+00  1.637342e+06  6.807192e+10  \n",
       "lbd=3.2e+00  7.442882e+11  1.460099e+20  \n",
       "lbd=5.6e+00  3.009031e+21  3.852045e+36  \n",
       "lbd=1.0e+01  1.703910e+39  6.460290e+64  "
      ]
     },
     "metadata": {},
     "output_type": "display_data"
    }
   ],
   "source": [
    "importlib.reload(lr_gd)\n",
    "n_epoch = 100\n",
    "\n",
    "lambdas = np.logspace(-5, 1, 25)\n",
    "gammas = np.logspace(-4, -2, 10)\n",
    "mse_ridge = np.zeros((len(lambdas),len(gammas)))\n",
    "for i in range(len(lambdas)):\n",
    "    for j in range(len(gammas)):\n",
    "        current_model = lr_gd.LinearRegressionwithGradientDescent(method=\"sgd\",alpha=lambdas[i],n_epochs=n_epoch,\n",
    "                                                                  batchsize=batchsize,learning_rate=gammas[j])\n",
    "        mse_ridge[i,j], r2_mean = current_model.k_fold_cv(data.X_train,data.z_train,k=5, shuffle=True)\n",
    "\n",
    "lambda_label = ['lbd=%.1e'%i for i in lambdas]\n",
    "gamma_label = ['gma=%.1e'%i for i in gammas]\n",
    "mse_rigde_df = pd.DataFrame(mse_ridge,index=lambda_label,columns=gamma_label)\n",
    "print(\"Table 1: MSE for ridge regression with stochastic gradient descent on franke function with noise\")\n",
    "display(mse_rigde_df)"
   ]
  },
  {
   "cell_type": "markdown",
   "metadata": {},
   "source": [
    "We see from table number that for a small enough $\\lambda$, the MSE is fairly robust to the choice of the learning rate $\\gamma$. As $\\lambda$ grows however, the range of $\\gamma$-values giving a small MSE narrows. "
   ]
  },
  {
   "cell_type": "markdown",
   "metadata": {},
   "source": [
    "Now that we have found some optimal parameters for SGD on this particular problem, let us compare our model performance with that of scikit-learn's $\\texttt{SGDRegressor}$.\n",
    "% SGDRegressor(loss='squared_loss', penalty='l2') and Ridge solve the same optimization problem, via different means."
   ]
  },
  {
   "cell_type": "code",
   "execution_count": 585,
   "metadata": {},
   "outputs": [
    {
     "name": "stdout",
     "output_type": "stream",
     "text": [
      "SGDRegressor: mse=0.0308    r2=0.6509\n",
      "Own ridge SGD: mse=0.0164    r2=0.8146\n"
     ]
    }
   ],
   "source": [
    "# Using the same parameters\n",
    "lmd = 0.0004\n",
    "lr = 0.02\n",
    "epochs = 1000\n",
    "\n",
    "# scikit-learn's SGD regressor\n",
    "from sklearn.linear_model import SGDRegressor\n",
    "sklearn_sgd_model = SGDRegressor(loss='squared_loss', penalty='l2', alpha=lmd, fit_intercept=False, max_iter=epochs,\n",
    "                                 shuffle=True, random_state=93, learning_rate='constant', eta0=lr)\n",
    "sklearn_sgd_model.fit(data.X_train, data.z_train)\n",
    "sklearn_sgd_test_pred = sklearn_sgd_model.predict(data.X_test)\n",
    "print(f\"SGDRegressor: mse=%.4f    r2=%0.4f\" %(mse(sklearn_sgd_test_pred,data.z_test), \n",
    "                                              r2(sklearn_sgd_test_pred,data.z_test)))\n",
    "# My own linear ridge regression with SGD\n",
    "sgd_ridge_model = lr_gd.LinearRegressionwithGradientDescent(method=\"sgd\",alpha=lmd,n_epochs=n_epoch,\n",
    "                                                            batchsize=10,learning_rate=lr)\n",
    "sgd_train_pred = sgd_ridge_model.fit(data.X_train,data.z_train)\n",
    "sgd_test_pred = sgd_ridge_model.predict(data.X_test)\n",
    "print(f\"Own ridge SGD: mse=%.4f    r2=%0.4f\" %(mse(sgd_test_pred,data.z_test), \n",
    "                                              r2(sgd_test_pred,data.z_test)))"
   ]
  },
  {
   "cell_type": "markdown",
   "metadata": {},
   "source": [
    "I see the error is actually better for my implementation using these parameter, although the method is noticeably slower. The improved error and at least part of the speed improvement is likely due to $\\trxttt[SGDRegressor}$ calculating the gradient on only one datapoint at a time, instead of a batch[3]. This gives a noisier/more erratic movement towards the mean."
   ]
  },
  {
   "cell_type": "markdown",
   "metadata": {},
   "source": [
    "### Neural Network - Regression"
   ]
  },
  {
   "cell_type": "code",
   "execution_count": null,
   "metadata": {},
   "outputs": [],
   "source": []
  },
  {
   "cell_type": "code",
   "execution_count": 569,
   "metadata": {},
   "outputs": [
    {
     "name": "stdout",
     "output_type": "stream",
     "text": [
      "0.0001\n",
      "0.0005623413251903491\n",
      "0.0031622776601683794\n",
      "0.01778279410038923\n",
      "0.1\n"
     ]
    }
   ],
   "source": [
    "test = np.arange(1,10)*3\n",
    "for t in gammas:\n",
    "    print(t)"
   ]
  },
  {
   "cell_type": "code",
   "execution_count": null,
   "metadata": {},
   "outputs": [],
   "source": []
  },
  {
   "cell_type": "code",
   "execution_count": null,
   "metadata": {},
   "outputs": [],
   "source": []
  },
  {
   "cell_type": "code",
   "execution_count": null,
   "metadata": {},
   "outputs": [],
   "source": []
  },
  {
   "cell_type": "code",
   "execution_count": null,
   "metadata": {},
   "outputs": [],
   "source": []
  },
  {
   "cell_type": "code",
   "execution_count": null,
   "metadata": {},
   "outputs": [],
   "source": []
  },
  {
   "cell_type": "code",
   "execution_count": null,
   "metadata": {},
   "outputs": [],
   "source": []
  },
  {
   "cell_type": "code",
   "execution_count": null,
   "metadata": {},
   "outputs": [],
   "source": []
  },
  {
   "cell_type": "code",
   "execution_count": null,
   "metadata": {},
   "outputs": [],
   "source": []
  },
  {
   "cell_type": "code",
   "execution_count": null,
   "metadata": {},
   "outputs": [],
   "source": []
  },
  {
   "cell_type": "code",
   "execution_count": 513,
   "metadata": {},
   "outputs": [
    {
     "data": {
      "text/plain": [
       "<module 'LinearRegressionwithGradientDescent' from 'C:\\\\Users\\\\emili\\\\Documents\\\\Studier\\\\fys-stk3155\\\\Exercises\\\\FYS-STK3155\\\\Project2\\\\Code\\\\LinearRegressionwithGradientDescent.py'>"
      ]
     },
     "execution_count": 513,
     "metadata": {},
     "output_type": "execute_result"
    }
   ],
   "source": [
    "import importlib\n",
    "\n",
    "importlib.reload(cd)\n",
    "importlib.reload(lr_gd)\n"
   ]
  },
  {
   "cell_type": "code",
   "execution_count": 558,
   "metadata": {},
   "outputs": [
    {
     "name": "stdout",
     "output_type": "stream",
     "text": [
      "0.9995996508522816\n"
     ]
    },
    {
     "data": {
      "text/plain": [
       "[<matplotlib.lines.Line2D at 0x1b82de20a58>]"
      ]
     },
     "execution_count": 558,
     "metadata": {},
     "output_type": "execute_result"
    },
    {
     "data": {
      "image/png": "[encoded data removed]",
      "text/plain": [
       "<Figure size 432x288 with 1 Axes>"
      ]
     },
     "metadata": {
      "needs_background": "light"
     },
     "output_type": "display_data"
    }
   ],
   "source": [
    "n = 100\n",
    "x1 = np.linspace(0,10,n)\n",
    "x2 = x1*x1\n",
    "\n",
    "X = np.ones((n,2))\n",
    "x[:,0] = x1\n",
    "x[:,1] = x2\n",
    "y_true = 4+3*x[:,1].reshape(n,1)-2*x[:,0].reshape(n,1)+np.random.randn(n,1)\n",
    "\n",
    "\n",
    "current_model = lr_gd.LinearRegressionwithGradientDescent(method=\"sgd\",alpha=0,n_epochs=10,batchsize=5,learning_rate=0.00001)\n",
    "train_hat = current_model.fit(x,y_true)\n",
    "print(r2(train_hat,y_true))\n",
    "\n",
    "plt.plot(y_true)\n",
    "plt.plot(train_hat)"
   ]
  },
  {
   "cell_type": "code",
   "execution_count": 94,
   "metadata": {},
   "outputs": [
    {
     "name": "stdout",
     "output_type": "stream",
     "text": [
      "           0         1         2         3         4         5         6    \\\n",
      "0    -2.609361 -2.611288 -2.595916 -2.606210 -2.595661 -2.600698 -2.607179   \n",
      "1     0.487031  0.484500  0.499086  0.488537  0.498244  0.494249  0.488166   \n",
      "2    -2.077774 -2.079834 -2.063676 -2.073574 -2.063423 -2.068849 -2.075324   \n",
      "3    -2.249665 -2.251143 -2.236451 -2.247168 -2.236483 -2.241478 -2.247765   \n",
      "4    -1.951590 -1.952728 -1.938858 -1.949755 -1.939335 -1.944357 -1.950093   \n",
      "...        ...       ...       ...       ...       ...       ...       ...   \n",
      "7495  0.505528  0.503082  0.517385  0.506941  0.516447  0.512371  0.506524   \n",
      "7496  1.433762  1.425449  1.444931  1.434453  1.442421  1.442308  1.434644   \n",
      "7497  2.067822  2.058147  2.078579  2.068043  2.075352  2.076250  2.068394   \n",
      "7498 -2.655767 -2.658011 -2.642123 -2.652026 -2.641711 -2.646856 -2.653392   \n",
      "7499 -2.375517 -2.380982 -2.362767 -2.371492 -2.362130 -2.365683 -2.372815   \n",
      "\n",
      "           7         8         9    ...       740       741       742  \\\n",
      "0    -2.602401 -2.602631 -2.602734  ... -2.602539 -2.606481 -2.609722   \n",
      "1     0.492580  0.491516  0.493014  ...  0.491898  0.487585  0.484955   \n",
      "2    -2.070191 -2.069226 -2.070699  ... -2.069481 -2.074341 -2.077148   \n",
      "3    -2.243096 -2.243409 -2.243513  ... -2.243201 -2.247566 -2.250489   \n",
      "4    -1.945621 -1.945826 -1.946303  ... -1.945233 -1.950746 -1.953012   \n",
      "...        ...       ...       ...  ...       ...       ...       ...   \n",
      "7495  0.510894  0.510055  0.511167  ...  0.510540  0.505622  0.503343   \n",
      "7496  1.438827  1.433721  1.442808  ...  1.434633  1.436197  1.430075   \n",
      "7497  2.072489  2.066729  2.077382  ...  2.067742  2.070074  2.063535   \n",
      "7498 -2.648502 -2.648427 -2.648832  ... -2.648436 -2.652410 -2.655699   \n",
      "7499 -2.368360 -2.371242 -2.367398  ... -2.370342 -2.370424 -2.376219   \n",
      "\n",
      "           743       744       745       746       747       748       749  \n",
      "0    -2.600472 -2.592031 -2.598647 -2.611021 -2.598142 -2.602455 -2.599689  \n",
      "1     0.495214  0.503712  0.497141  0.485394  0.494901  0.492812  0.492860  \n",
      "2    -2.068796 -2.059544 -2.066732 -2.078564 -2.064750 -2.070092 -2.065096  \n",
      "3    -2.241038 -2.232676 -2.239189 -2.251524 -2.239776 -2.243281 -2.241234  \n",
      "4    -1.943658 -1.935131 -1.941767 -1.953585 -1.943310 -1.945930 -1.944312  \n",
      "...        ...       ...       ...       ...       ...       ...       ...  \n",
      "7495  0.513426  0.522016  0.515415  0.503909  0.513002  0.511152  0.511273  \n",
      "7496  1.443450  1.451962  1.444018  1.433280  1.443002  1.440416  1.436148  \n",
      "7497  2.077635  2.086356  2.077958  2.067792  2.076804  2.074540  2.069168  \n",
      "7498 -2.646780 -2.638101 -2.644911 -2.657142 -2.643472 -2.648438 -2.644787  \n",
      "7499 -2.365971 -2.357995 -2.364967 -2.377291 -2.361806 -2.367855 -2.366505  \n",
      "\n",
      "[7500 rows x 750 columns]\n",
      "[0.66556215 0.35309788 0.08761941 ... 0.09000434 0.39250658 0.12685465]\n"
     ]
    }
   ],
   "source": [
    "import pandas as pd\n",
    "print(pd.DataFrame(train_hat))\n",
    "print(data.z_train)"
   ]
  },
  {
   "cell_type": "code",
   "execution_count": null,
   "metadata": {},
   "outputs": [],
   "source": []
  },
  {
   "cell_type": "code",
   "execution_count": null,
   "metadata": {},
   "outputs": [],
   "source": []
  },
  {
   "cell_type": "code",
   "execution_count": null,
   "metadata": {},
   "outputs": [],
   "source": []
  },
  {
   "cell_type": "code",
   "execution_count": null,
   "metadata": {},
   "outputs": [],
   "source": []
  },
  {
   "cell_type": "markdown",
   "metadata": {},
   "source": [
    "# Conclusion"
   ]
  },
  {
   "cell_type": "code",
   "execution_count": null,
   "metadata": {},
   "outputs": [],
   "source": []
  },
  {
   "cell_type": "markdown",
   "metadata": {},
   "source": [
    "# Bibliography\n",
    "\n",
    "[1] Project 1: https://github.com/emiliefj/FYS-STK3155/blob/master/Project1/Report/Project%201%20-%20FYS-STK3155.pdf\n",
    "\n",
    "[2] Digits dataset in scikit-learn: https://scikit-learn.org/stable/auto_examples/datasets/plot_digits_last_image.html\n",
    "\n",
    "[3} https://www.bogotobogo.com/python/scikit-learn/scikit-learn_batch-gradient-descent-versus-stochastic-gradient-descent.php\n",
    "\n",
    "[4] Universal approximation theorem: https://en.wikipedia.org/wiki/Universal_approximation_theorem\n",
    "\n",
    "[5] Slides week 40: https://compphysics.github.io/MachineLearning/doc/pub/week40/html/week40.html\n",
    "\n",
    "[6] Softmax function: https://en.wikipedia.org/wiki/Softmax_function"
   ]
  },
  {
   "cell_type": "code",
   "execution_count": null,
   "metadata": {},
   "outputs": [],
   "source": []
  }
 ],
 "metadata": {
  "kernelspec": {
   "display_name": "Python 3",
   "language": "python",
   "name": "python3"
  },
  "language_info": {
   "codemirror_mode": {
    "name": "ipython",
    "version": 3
   },
   "file_extension": ".py",
   "mimetype": "text/x-python",
   "name": "python",
   "nbconvert_exporter": "python",
   "pygments_lexer": "ipython3",
   "version": "3.7.2"
  }
 },
 "nbformat": 4,
 "nbformat_minor": 4
}
