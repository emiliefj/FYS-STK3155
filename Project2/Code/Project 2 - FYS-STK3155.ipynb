{
 "cells": [
  {
   "cell_type": "markdown",
   "metadata": {},
   "source": [
    "# Abstract"
   ]
  },
  {
   "cell_type": "markdown",
   "metadata": {},
   "source": []
  },
  {
   "cell_type": "markdown",
   "metadata": {},
   "source": [
    "# Introduction "
   ]
  },
  {
   "cell_type": "markdown",
   "metadata": {},
   "source": []
  },
  {
   "cell_type": "code",
   "execution_count": null,
   "metadata": {},
   "outputs": [],
   "source": []
  },
  {
   "cell_type": "markdown",
   "metadata": {},
   "source": [
    "# Data\n",
    "\n",
    "## Franke Function and Terrain Data\n",
    "We will revisit these datasets from project one. For further description refer to the report for project 1 [1]"
   ]
  },
  {
   "cell_type": "markdown",
   "metadata": {},
   "source": [
    "## MNIST Handwritten Numbers\n",
    "For our classification problem we will be using the MNIST database of handwritten numbers, or more specifically a subset of this available as the digits dataset in scikit-learn[2]. \n",
    "\n",
    "This dataset contains pixel images of handwritten numbers. In total the digits dataset contains 1797 8x8 images. Meaning we have a dataset consisting of 1797 data points, each with 64 descriptors or inputs, and one output, the label. \n",
    "\n",
    "We can import this dataset and look at one of the datapoints."
   ]
  },
  {
   "cell_type": "code",
   "execution_count": 39,
   "metadata": {},
   "outputs": [
    {
     "data": {
      "image/png": "[encoded data removed]",
      "text/plain": [
       "<Figure size 216x216 with 1 Axes>"
      ]
     },
     "metadata": {
      "needs_background": "light"
     },
     "output_type": "display_data"
    },
    {
     "name": "stdout",
     "output_type": "stream",
     "text": [
      "Figure 1: Plot of one of the entries in the digits dataset showing a number 8.\n"
     ]
    }
   ],
   "source": [
    "from sklearn import datasets\n",
    "import matplotlib.pyplot as plt\n",
    "\n",
    "# Load the data\n",
    "digits = datasets.load_digits()\n",
    "\n",
    "# Plot a datapoint; the first number in the set\n",
    "plt.figure(1, figsize=(3, 3))\n",
    "plt.imshow(digits.images[-1], cmap=plt.cm.gray_r, interpolation='nearest')\n",
    "plt.title(\"Label: %d\" % digits.target[-1])\n",
    "plt.show()\n",
    "print(\"Figure 1: Plot of one of the entries in the digits dataset showing a number 8.\")"
   ]
  },
  {
   "cell_type": "markdown",
   "metadata": {},
   "source": [
    "We will use this dataset to fit and test our classification models. Before we can do this we need to split the data into a training set and a test set."
   ]
  },
  {
   "cell_type": "code",
   "execution_count": 36,
   "metadata": {},
   "outputs": [],
   "source": [
    "from sklearn.model_selection import train_test_split\n",
    "\n",
    "# Setting the predictors/inputs and the target\n",
    "digit_input = digits.images\n",
    "digit_target = digits.target\n",
    "\n",
    "# Splitting into training and test\n",
    "train_size = 0.8\n",
    "X_train, X_test, Y_train, Y_test = train_test_split(digit_input, digit_target, stratify=digit_target,\n",
    "                                                    train_size=train_size)"
   ]
  },
  {
   "cell_type": "markdown",
   "metadata": {},
   "source": [
    "I want to make sure that the different classes, i.e. the labels are similarly distributed among the test set and the training test. If for instance no occurrences of the label '3' is found in the training set, models trained on this set are expected to perform poorly on identifying such digits in the test set. That is why I have set the $\\texttt{stratify}$ parameter in $\\texttt{train_test_split()}$ above. Let us see if it did its job."
   ]
  },
  {
   "cell_type": "code",
   "execution_count": 38,
   "metadata": {},
   "outputs": [
    {
     "data": {
      "image/png": "[encoded data removed]",
      "text/plain": [
       "<Figure size 720x504 with 1 Axes>"
      ]
     },
     "metadata": {
      "needs_background": "light"
     },
     "output_type": "display_data"
    },
    {
     "name": "stdout",
     "output_type": "stream",
     "text": [
      "Figure 2: Histogram of label distribution in training and test set.\n"
     ]
    }
   ],
   "source": [
    "# Creating histogram \n",
    "fig, ax = plt.subplots(figsize =(10, 7)) \n",
    "ax.hist(Y_train, label='training')\n",
    "ax.hist(Y_test, label='test')\n",
    "plt.legend() \n",
    "plt.xlabel(\"labels\") \n",
    "plt.title(\"Distribution of labels in the training and test set\")\n",
    "  \n",
    "# Show plot \n",
    "plt.show() \n",
    "print(\"Figure 2: Histogram of label distribution in training and test set.\")"
   ]
  },
  {
   "cell_type": "markdown",
   "metadata": {},
   "source": [
    "We see that the labels seem to be very evenly distributed."
   ]
  },
  {
   "cell_type": "markdown",
   "metadata": {},
   "source": [
    "# Methods\n",
    "For descriptions of ordinary least squares and ridge regression, please refer to my report for project 1[1].\n",
    "## Performance Measures\n",
    "For a description of the mean square error and $r^2$ please again consult the report of project 1[1].\n",
    "\n",
    "### Accuracy\n",
    "We use the accuracy score to measure the performance of our classification methods. This measure is given by the number of correctly guessed targets $t_i$ divided by the total number of targets, that is\n",
    "\n",
    "$$\n",
    "\\text{Accuracy} = \\frac{\\sum_{i=1}^n I(t_i = y_i)}{n} ,\n",
    "$$\n",
    "\n",
    "where $I$ is the indicator function, which takes the value $1$ if $t_i = y_i$ and $0$ otherwise (for a binary classification problem). Here $t_i$ represents the target and $y_i$ is the prediction. The number of targets is given by $n$."
   ]
  },
  {
   "cell_type": "markdown",
   "metadata": {},
   "source": [
    "## Regression Methods\n",
    "\n",
    "## Logistic Regression\n",
    "\n",
    "\n",
    "It is called Logistic Regression because it used the logistic function which is basically a sigmoid function. A sigmoid function takes in a value and produces a value between 0 and 1\n",
    "\n",
    "Logistic regression is generally applied to (binary) classification problems. Logistic regression assumes the binomial distribution of the dependent variable. It applies a logistic function to model a binary dependent variable. Logistic regression on a binary outcome is often called binary logistic regression, and can be expended to multiple predictors. This is called multinomal logistic regression. \n",
    "\n",
    "Unlike linear regression, where the outputs take continuous values, we are now interested in discrete outputs, either binary 0/1 or more. To transform the continuous to discrete output we can use a so-called activation function. Several such functions can be used; the step function, the sigmoid, tanhh etc. \n",
    "\n",
    "For the sigmoid function we get\n",
    "\n",
    "$$\n",
    "\\hat{y}_k = g(\\beta^T X_k),\\ g(z) = \\frac{1}{1+\\exp(-z)}\n",
    "$$\n",
    "where $g(z)$ is the sigmoid.\n",
    "\n",
    "While we in linear regression used the mean square error as the cost function, this cost function will we non-convex for the logistic case. Therefore a different cost function is used, which we use maximum likelihood estimation to find. The result is the cross-entropy. The cross-entropy is a convex function of the weights $\\hat{\\beta}$.\n",
    "\n",
    "$$\n",
    "\\mathcal{C}(\\hat{\\beta})=-\\sum_{i=1}^n  \\left(y_i(\\beta_0+\\beta_1x_i) -\\log{(1+\\exp{(\\beta_0+\\beta_1x_i)})}\\right).\n",
    "$$\n",
    "\n",
    "To minimize this function we find the derivatives, written compactly as \n",
    "\n",
    "$$\n",
    "\\frac{\\partial \\mathcal{C}(\\hat{\\beta})}{\\partial \\hat{\\beta}} = -\\hat{X}^T\\left(\\hat{y}-\\hat{p}\\right).\n",
    "$$\n",
    "\n",
    "where $\\hat{p}$ is a vector of fitted probabilities $p(y_i\\vert x_i,\\hat{\\beta})$, and\n",
    "\n",
    "$$\n",
    "\\frac{\\partial^2 \\mathcal{C}(\\boldsymbol{\\beta})}{\\partial \\boldsymbol{\\beta}\\partial \\boldsymbol{\\beta}^T} = \\boldsymbol{X}^T\\boldsymbol{W}\\boldsymbol{X}.\n",
    "$$\n",
    "\n",
    "where $\\boldsymbol{W}$ is a diagonal matrix  with elements $p(y_i\\vert x_i,\\boldsymbol{\\beta})(1-p(y_i\\vert x_i,\\boldsymbol{\\beta})$.\n",
    "\n",
    "Solving these can be done with for instance Newton-Raphson's iterative method or a gradient descent method.\n",
    "[//]: # (Add multinomial logistic regression including softmax)\n",
    "\n",
    "### Regularization\n",
    "We will be adding an $L_2$ regularization parameter $\\lambda$ to our logistic regression. See description of ridge regression in project 1[1] for more info on $L_2$ regularization."
   ]
  },
  {
   "cell_type": "markdown",
   "metadata": {},
   "source": [
    "## Stochastic Gradient Descent\n",
    "\n",
    "Stochastic Gradient Descent (SGD) is a variation of the gradient descent method. There are many different variations of gradient descent but the common denomiator is that they work to find the minima of a function (typically the cost function) by iteratively moving in the direction of steepest descent.\n",
    "\n",
    "In other words, if we want to find the minimum of a function $F(\\mathbf{x})$, we should move in the\n",
    "direction of the negative gradient $-\\nabla F(\\mathbf{x})$.\n",
    "\n",
    "For a (typically small) stepsize $\\gamma_k > 0$ known as the step size, or learning rate we then have \n",
    "\n",
    "$$\n",
    "\\mathbf{x}_{k+1} = \\mathbf{x}_k - \\gamma_k \\nabla F(\\mathbf{x}_k),\n",
    "$$\n",
    "\n",
    "An initial guess is made for $\\mathbf{0}_k$.\n",
    "\n",
    "For a convex cost function and a sufficiently small stepsize $\\gamma_k$ this method can be used to find the global minimum of said cost function.\n",
    "\n",
    "One drawback of this method is that computing the gradient for large datasets can be very computationally expensive. This is where SGD and its variations comes in. Instead of calculating the gradiant for all datapoints, SGD chooses a subset of the data to calculate the gradient on. The method divides the dataset into a set of $n/M$ so-called mini-batches, and for each step the gradient is calculated on one of these mini-batches. These minibatches are denoted by $B_k$ where $k=1,\\cdots,n/M$.\n",
    "\n",
    "Rewriting the gradient descent method in terms of a cost function $C(\\mathbf{\\beta})$, we get\n",
    "\n",
    "$$\n",
    "\\mathbf{\\beta}_{k+1} = \\mathbf{\\beta}_k - \\gamma_k \\nabla_{\\beta} C(\\mathbf{x}_k,\\mathbf{\\beta}_k),\n",
    "$$\n",
    "\n",
    "Taking the gradient with respect to one mini-batch per step we get\n",
    "\n",
    "$$\n",
    "\\beta_{k+1} = \\beta_k - \\gamma_k \\sum_{i \\in B_k}^n \\nabla_\\beta c_i(\\mathbf{x}_i,\n",
    "\\mathbf{\\beta}_k)\n",
    "$$\n",
    "\n",
    "which is the stochastic gradient descent method.\n",
    "\n",
    "In linear regression the cost function is the mean square error. For the gradient of the cost function we then have\n",
    "\n",
    "$$\n",
    "\\nabla_{\\beta} C(\\mathbf{\\beta}) = \\frac{2}{n} \\bigg( X^T (X\\beta-y) + \\lambda \\beta \\bigg)\n",
    "$$\n",
    "\n",
    "here I have added an $L_2$ regularization parameter $\\lambda$ which will be zero for ordinary least squares, but take some non-zero value for ridge. The number of datapoints is given by n. \n",
    "\n",
    "For logistic regression the cost function is the cross-entropy.\n",
    "\n",
    "\n",
    "[//]: # (Add momentum? Momentum based GD: http://localhost:8888/notebooks/Documents/Studier/fys-stk3155/Exercises/MachineLearning/doc/pub/Splines/ipynb/Splines.ipynb)\n"
   ]
  },
  {
   "cell_type": "markdown",
   "metadata": {},
   "source": [
    "## Neural Network\n",
    "\n"
   ]
  },
  {
   "cell_type": "code",
   "execution_count": null,
   "metadata": {},
   "outputs": [],
   "source": []
  },
  {
   "cell_type": "code",
   "execution_count": null,
   "metadata": {},
   "outputs": [],
   "source": []
  },
  {
   "cell_type": "markdown",
   "metadata": {},
   "source": [
    "# Results and Discussion\n",
    "\n",
    "## Linear Regression with Gradient Descent\n",
    "\n",
    "In project one we looked modeled the Franke function using ordinary least squares (OLS) and rigde regression. Now we want to modify these methods to use stochastic gradient descent to obtain the fit, i.e the $\\beta$. \n",
    "\n",
    "First we create some data from the Franke function, divide into training and test sets, and scale it."
   ]
  },
  {
   "cell_type": "code",
   "execution_count": 4,
   "metadata": {},
   "outputs": [
    {
     "data": {
      "image/png": "[encoded data removed]",
      "text/plain": [
       "<Figure size 432x288 with 2 Axes>"
      ]
     },
     "metadata": {
      "needs_background": "light"
     },
     "output_type": "display_data"
    },
    {
     "name": "stdout",
     "output_type": "stream",
     "text": [
      "Figure 2: 3D plot of the Franke function with added noise.\n"
     ]
    }
   ],
   "source": [
    "import CreateData as cd\n",
    "\n",
    "n = 100 # number of datapoints \n",
    "data = cd.CreateData(n,seed=8)\n",
    "\n",
    "variance = 0.1\n",
    "data.add_normal_noise(0,variance)\n",
    "data.plot_data()\n",
    "print(\"Figure 2: 3D plot of the Franke function with added noise.\")\n",
    "\n",
    "degree = 5\n",
    "test_fraction = 0.25\n",
    "data.create_design_matrix(degree)\n",
    "data.split_dataset(test_fraction)\n",
    "data.scale_dataset(type='standard') # Using SciKit's StandardScaler"
   ]
  },
  {
   "cell_type": "markdown",
   "metadata": {},
   "source": [
    "Now that we have our data, let us fit some regression models to this data and compare their performance."
   ]
  },
  {
   "cell_type": "code",
   "execution_count": 7,
   "metadata": {},
   "outputs": [],
   "source": [
    "import LinearRegressionwithGradientDescent as lr_gd\n",
    "\n",
    "# Ordinary least squares model\n",
    "ols_model = lr_gd.LinearRegressionwithGradientDescent(method=\"ols\",alpha=0)\n",
    "ols_train = ols_model.fit(data.X_train,data.z_train)\n",
    "\n",
    "\n",
    "\n",
    "#ols_sgd_model = lr_gd.LinearRegressionwithGradientDescent(method=\"ols\",alpha=0, n_epochs=10, batchsize=1, learning_rate=0.01, max_iter=1000)\n"
   ]
  },
  {
   "cell_type": "code",
   "execution_count": 6,
   "metadata": {},
   "outputs": [
    {
     "data": {
      "text/plain": [
       "<module 'LinearRegressionwithGradientDescent' from 'C:\\\\Users\\\\emili\\\\Documents\\\\Studier\\\\fys-stk3155\\\\Exercises\\\\FYS-STK3155\\\\Project2\\\\Code\\\\LinearRegressionwithGradientDescent.py'>"
      ]
     },
     "execution_count": 6,
     "metadata": {},
     "output_type": "execute_result"
    }
   ],
   "source": [
    "import importlib\n",
    "\n",
    "importlib.reload(cd)\n",
    "importlib.reload(lr_gd)\n"
   ]
  },
  {
   "cell_type": "code",
   "execution_count": null,
   "metadata": {},
   "outputs": [],
   "source": []
  },
  {
   "cell_type": "code",
   "execution_count": null,
   "metadata": {},
   "outputs": [],
   "source": []
  },
  {
   "cell_type": "code",
   "execution_count": null,
   "metadata": {},
   "outputs": [],
   "source": []
  },
  {
   "cell_type": "code",
   "execution_count": null,
   "metadata": {},
   "outputs": [],
   "source": []
  },
  {
   "cell_type": "markdown",
   "metadata": {},
   "source": [
    "# Conclusion"
   ]
  },
  {
   "cell_type": "code",
   "execution_count": null,
   "metadata": {},
   "outputs": [],
   "source": []
  },
  {
   "cell_type": "markdown",
   "metadata": {},
   "source": [
    "# Bibliography\n",
    "\n",
    "[1] Project 1: https://github.com/emiliefj/FYS-STK3155/blob/master/Project1/Report/Project%201%20-%20FYS-STK3155.pdf\n",
    "\n",
    "[2] Digits dataset in scikit-learn: https://scikit-learn.org/stable/auto_examples/datasets/plot_digits_last_image.html\n",
    "\n",
    "[3}"
   ]
  }
 ],
 "metadata": {
  "kernelspec": {
   "display_name": "Python 3",
   "language": "python",
   "name": "python3"
  },
  "language_info": {
   "codemirror_mode": {
    "name": "ipython",
    "version": 3
   },
   "file_extension": ".py",
   "mimetype": "text/x-python",
   "name": "python",
   "nbconvert_exporter": "python",
   "pygments_lexer": "ipython3",
   "version": "3.7.2"
  }
 },
 "nbformat": 4,
 "nbformat_minor": 4
}
