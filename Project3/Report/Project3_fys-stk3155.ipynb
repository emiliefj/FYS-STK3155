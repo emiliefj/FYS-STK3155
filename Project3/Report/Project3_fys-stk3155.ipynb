{
 "cells": [
  {
   "cell_type": "markdown",
   "metadata": {},
   "source": [
    "# Abstract"
   ]
  },
  {
   "cell_type": "markdown",
   "metadata": {},
   "source": []
  },
  {
   "cell_type": "markdown",
   "metadata": {},
   "source": [
    "# Introduction\n"
   ]
  },
  {
   "cell_type": "markdown",
   "metadata": {},
   "source": []
  },
  {
   "cell_type": "markdown",
   "metadata": {},
   "source": [
    "# Data"
   ]
  },
  {
   "cell_type": "markdown",
   "metadata": {},
   "source": [
    "## Mushrooms\n",
    "The mushroom dataset containes descriptive data for (hypothetical) samples of 23 species of gilled mushrooms in the Agaricus and Lepiota Family. The samples are drawn from *The Audubon Society Field Guide to North American Mushrooms* (1981). Each species is classified as either edible (class e) or poisonus (class p), where the poisonus category includes both species known to be poisonus as well as species where edibility is unknown.\n",
    "\n",
    "The data set contains a total of 8124 samples, each described with 22 descriptors. To reduce the size of the dataset, each attribute value is coded to a letter. These attributes are as follows:\n",
    "1. cap-shape:\n",
    "    * bell=b, conical=c, convex=x, flat=f, knobbed=k, sunken=s\n",
    "2. cap-surface:\n",
    "    * fibrous=f,grooves=g,scaly=y,smooth=s\n",
    "3. cap-color:\n",
    "    * brown=n,buff=b,cinnamon=c,gray=g,green=r, pink=p,purple=u,red=e,white=w,yellow=y\n",
    "4. bruises?:\n",
    "    * bruises=t,no=f\n",
    "5. odor:\n",
    "    * almond=a,anise=l,creosote=c,fishy=y,foul=f,musty=m,none=n,pungent=p,spicy=s\n",
    "6. gill-attachment:\n",
    "    * attached=a,descending=d,free=f,notched=n\n",
    "7. gill-spacing:\n",
    "    * close=c,crowded=w,distant=d\n",
    "8. gill-size:\n",
    "    * broad=b,narrow=n\n",
    "9. gill-color:\n",
    "    * black=k,brown=n,buff=b,chocolate=h,gray=g,green=r,orange=o,pink=p,purple=u,red=e,white=w,yellow=y\n",
    "10. stalk-shape:\n",
    "    * enlarging=e,tapering=t\n",
    "11. stalk-root:\n",
    "    * bulbous=b,club=c,cup=u,equal=e,rhizomorphs=z,rooted=r,missing=?\n",
    "12. stalk-surface-above-ring:\n",
    "    * fibrous=f,scaly=y,silky=k,smooth=s\n",
    "13. stalk-surface-below-ring:\n",
    "    * fibrous=f,scaly=y,silky=k,smooth=s\n",
    "14. stalk-color-above-ring:\n",
    "    * brown=n,buff=b,cinnamon=c,gray=g,orange=o,pink=p,red=e,white=w,yellow=y\n",
    "15. stalk-color-below-ring:\n",
    "    * brown=n,buff=b,cinnamon=c,gray=g,orange=o,pink=p,red=e,white=w,yellow=y\n",
    "16. veil-type:\n",
    "    * partial=p,universal=u\n",
    "17. veil-color:\n",
    "    * brown=n,orange=o,white=w,yellow=y\n",
    "18. ring-number:\n",
    "    * none=n,one=o,two=t\n",
    "19. ring-type:\n",
    "    * cobwebby=c,evanescent=e,flaring=f,large=l,none=n,pendant=p,sheathing=s,zone=z\n",
    "20. spore-print-color:\n",
    "    * black=k,brown=n,buff=b,chocolate=h,green=r,orange=o,purple=u,white=w,yellow=y\n",
    "21. population:\n",
    "    * abundant=a,clustered=c,numerous=n,scattered=s,several=v,solitary=y\n",
    "22. habitat:\n",
    "    * grasses=g,leaves=l,meadows=m,paths=p,urban=u,waste=w,woods=d\n",
    "   \n",
    "### Known Simple Rules\n",
    "As this data set has been studied extensively, several more or less comples rules have bben found for deciding whether a given mushroom is edible or not. Particularly a set of four markedly simple rules have been found that together give a 100 % accuracy on classifying poisonous mushrooms []:\n",
    "\n",
    "* $\\texttt{P_1}$: odor=NOT(almond.OR.anise.OR.none)\n",
    "\t     120 poisonous cases missed, 98.52% accuracy\n",
    "* $\\texttt{P_2}$: spore-print-color=green\n",
    "\t     48 cases missed, 99.41% accuracy\n",
    "         \n",
    "* $\\texttt{P_3}$: odor=none.AND.stalk-surface-below-ring=scaly.AND.(stalk-color-above-ring=NOT.brown) \n",
    "\t     8 cases missed, 99.90% accuracy\n",
    "         \n",
    "* $\\texttt{P_4}$: habitat=leaves.AND.cap-color=white\n",
    "\t         100% accuracy \n",
    "\n"
   ]
  },
  {
   "cell_type": "markdown",
   "metadata": {},
   "source": [
    "# Methods"
   ]
  },
  {
   "cell_type": "markdown",
   "metadata": {},
   "source": []
  },
  {
   "cell_type": "markdown",
   "metadata": {},
   "source": [
    "# Results and Discussion"
   ]
  },
  {
   "cell_type": "markdown",
   "metadata": {},
   "source": []
  },
  {
   "cell_type": "markdown",
   "metadata": {},
   "source": [
    "# Conclusion"
   ]
  },
  {
   "cell_type": "markdown",
   "metadata": {},
   "source": []
  },
  {
   "cell_type": "markdown",
   "metadata": {},
   "source": [
    "# Bibliography\n",
    "\n",
    "[] Mushrooms data set: https://archive.ics.uci.edu/ml/datasets/Mushroom, downloaded 04.12.2020\n",
    "\n",
    "[] Logical rules for classifying mushrooms: logical rules for mushrooms: Duch W, Adamczak R, Grabczewski K, Ishikawa M, Ueda H, Extraction of crisp logical rules using constrained backpropagation networks -\n",
    "\tcomparison of two new approaches, in: Proc. of the European Symposium\n",
    "\ton Artificial Neural Networks (ESANN'97), Bruge, Belgium 16-18.4.1997,\n",
    "\tpp. xx-xx\n",
    "\n",
    "[] On pruning decision trees: https://scikit-learn.org/stable/auto_examples/tree/plot_cost_complexity_pruning.html#sphx-glr-auto-examples-tree-plot-cost-complexity-pruning-py"
   ]
  },
  {
   "cell_type": "code",
   "execution_count": null,
   "metadata": {},
   "outputs": [],
   "source": []
  }
 ],
 "metadata": {
  "kernelspec": {
   "display_name": "Python 3",
   "language": "python",
   "name": "python3"
  },
  "language_info": {
   "codemirror_mode": {
    "name": "ipython",
    "version": 3
   },
   "file_extension": ".py",
   "mimetype": "text/x-python",
   "name": "python",
   "nbconvert_exporter": "python",
   "pygments_lexer": "ipython3",
   "version": "3.7.2"
  }
 },
 "nbformat": 4,
 "nbformat_minor": 4
}
